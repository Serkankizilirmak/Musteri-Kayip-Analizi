{
 "cells": [
  {
   "cell_type": "code",
   "execution_count": 8,
   "metadata": {
    "collapsed": true
   },
   "outputs": [
    {
     "data": {
      "text/html": "        <script type=\"text/javascript\">\n        window.PlotlyConfig = {MathJaxConfig: 'local'};\n        if (window.MathJax && window.MathJax.Hub && window.MathJax.Hub.Config) {window.MathJax.Hub.Config({SVG: {font: \"STIX-Web\"}});}\n        if (typeof require !== 'undefined') {\n        require.undef(\"plotly\");\n        requirejs.config({\n            paths: {\n                'plotly': ['https://cdn.plot.ly/plotly-2.16.1.min']\n            }\n        });\n        require(['plotly'], function(Plotly) {\n            window._Plotly = Plotly;\n        });\n        }\n        </script>\n        "
     },
     "metadata": {},
     "output_type": "display_data"
    }
   ],
   "source": [
    "import pandas as pd\n",
    "%run main.py\n",
    "%run EDAmain.py\n",
    "%run statistics.py"
   ]
  },
  {
   "cell_type": "code",
   "execution_count": 9,
   "outputs": [],
   "source": [
    "df = pd.read_csv(\"D:\\SERKAN KIZILIRMAK\\Python\\AllProjects\\Müşteri Kayıp Analizi (TelcoCustomer)\\Data\\TelcoCustomer(TR)_binned.csv\")"
   ],
   "metadata": {
    "collapsed": false
   }
  },
  {
   "cell_type": "code",
   "execution_count": 10,
   "outputs": [
    {
     "data": {
      "text/plain": "  Cinsiyet  65 Yaş Üstü Medeni Durum Bakma Sorumluluğu  \\\n0    Kadın            0         Evli               Yok   \n1    Erkek            0        Bekar               Yok   \n2    Erkek            0        Bekar               Yok   \n3    Erkek            0        Bekar               Yok   \n4    Kadın            0        Bekar               Yok   \n\n   Müşteri Olma Süresi(Ay) Ev Telefonu Aboneliği Birden Fazla Abonelik Durumu  \\\n0                        1                   Yok          Telefon Hizmeti Yok   \n1                       34                   Var                          Yok   \n2                        2                   Var                          Yok   \n3                       45                   Yok          Telefon Hizmeti Yok   \n4                        2                   Var                          Yok   \n\n  İnternet Aboneliği Güvenlik Hizmeti Aboneliği Yedekleme Hizmeti Aboneliği  \\\n0                DSL                        Yok                         Var   \n1                DSL                        Var                         Yok   \n2                DSL                        Var                         Var   \n3                DSL                        Var                         Yok   \n4        Fiber Optik                        Yok                         Yok   \n\n   ... Film Abonelği Sözleşme Süresi Online Fatura(Kağıtsız) Ödeme Şekli  \\\n0  ...           Yok         1 Aylık                    Evet  Elektronik   \n1  ...           Yok        1 Yıllık                   Hayır        Mail   \n2  ...           Yok         1 Aylık                    Evet        Mail   \n3  ...           Yok        1 Yıllık                   Hayır      Havale   \n4  ...           Yok         1 Aylık                    Evet  Elektronik   \n\n  Aylık Ücret Toplam Ücret Müşteri Olma Süresi(Ay)-binned  Aylık Ücret-binned  \\\n0       29.85        29.85                            Low                 Low   \n1       56.95      1889.50                         Medium              Medium   \n2       53.85       108.15                            Low              Medium   \n3       42.30      1840.75                         Medium                 Low   \n4       70.70       151.65                            Low              Medium   \n\n   Toplam Ücret-binned Kayıp Durumu  \n0                  Low          Yok  \n1                  Low          Yok  \n2                  Low          Var  \n3                  Low          Yok  \n4                  Low          Var  \n\n[5 rows x 23 columns]",
      "text/html": "<div>\n<style scoped>\n    .dataframe tbody tr th:only-of-type {\n        vertical-align: middle;\n    }\n\n    .dataframe tbody tr th {\n        vertical-align: top;\n    }\n\n    .dataframe thead th {\n        text-align: right;\n    }\n</style>\n<table border=\"1\" class=\"dataframe\">\n  <thead>\n    <tr style=\"text-align: right;\">\n      <th></th>\n      <th>Cinsiyet</th>\n      <th>65 Yaş Üstü</th>\n      <th>Medeni Durum</th>\n      <th>Bakma Sorumluluğu</th>\n      <th>Müşteri Olma Süresi(Ay)</th>\n      <th>Ev Telefonu Aboneliği</th>\n      <th>Birden Fazla Abonelik Durumu</th>\n      <th>İnternet Aboneliği</th>\n      <th>Güvenlik Hizmeti Aboneliği</th>\n      <th>Yedekleme Hizmeti Aboneliği</th>\n      <th>...</th>\n      <th>Film Abonelği</th>\n      <th>Sözleşme Süresi</th>\n      <th>Online Fatura(Kağıtsız)</th>\n      <th>Ödeme Şekli</th>\n      <th>Aylık Ücret</th>\n      <th>Toplam Ücret</th>\n      <th>Müşteri Olma Süresi(Ay)-binned</th>\n      <th>Aylık Ücret-binned</th>\n      <th>Toplam Ücret-binned</th>\n      <th>Kayıp Durumu</th>\n    </tr>\n  </thead>\n  <tbody>\n    <tr>\n      <th>0</th>\n      <td>Kadın</td>\n      <td>0</td>\n      <td>Evli</td>\n      <td>Yok</td>\n      <td>1</td>\n      <td>Yok</td>\n      <td>Telefon Hizmeti Yok</td>\n      <td>DSL</td>\n      <td>Yok</td>\n      <td>Var</td>\n      <td>...</td>\n      <td>Yok</td>\n      <td>1 Aylık</td>\n      <td>Evet</td>\n      <td>Elektronik</td>\n      <td>29.85</td>\n      <td>29.85</td>\n      <td>Low</td>\n      <td>Low</td>\n      <td>Low</td>\n      <td>Yok</td>\n    </tr>\n    <tr>\n      <th>1</th>\n      <td>Erkek</td>\n      <td>0</td>\n      <td>Bekar</td>\n      <td>Yok</td>\n      <td>34</td>\n      <td>Var</td>\n      <td>Yok</td>\n      <td>DSL</td>\n      <td>Var</td>\n      <td>Yok</td>\n      <td>...</td>\n      <td>Yok</td>\n      <td>1 Yıllık</td>\n      <td>Hayır</td>\n      <td>Mail</td>\n      <td>56.95</td>\n      <td>1889.50</td>\n      <td>Medium</td>\n      <td>Medium</td>\n      <td>Low</td>\n      <td>Yok</td>\n    </tr>\n    <tr>\n      <th>2</th>\n      <td>Erkek</td>\n      <td>0</td>\n      <td>Bekar</td>\n      <td>Yok</td>\n      <td>2</td>\n      <td>Var</td>\n      <td>Yok</td>\n      <td>DSL</td>\n      <td>Var</td>\n      <td>Var</td>\n      <td>...</td>\n      <td>Yok</td>\n      <td>1 Aylık</td>\n      <td>Evet</td>\n      <td>Mail</td>\n      <td>53.85</td>\n      <td>108.15</td>\n      <td>Low</td>\n      <td>Medium</td>\n      <td>Low</td>\n      <td>Var</td>\n    </tr>\n    <tr>\n      <th>3</th>\n      <td>Erkek</td>\n      <td>0</td>\n      <td>Bekar</td>\n      <td>Yok</td>\n      <td>45</td>\n      <td>Yok</td>\n      <td>Telefon Hizmeti Yok</td>\n      <td>DSL</td>\n      <td>Var</td>\n      <td>Yok</td>\n      <td>...</td>\n      <td>Yok</td>\n      <td>1 Yıllık</td>\n      <td>Hayır</td>\n      <td>Havale</td>\n      <td>42.30</td>\n      <td>1840.75</td>\n      <td>Medium</td>\n      <td>Low</td>\n      <td>Low</td>\n      <td>Yok</td>\n    </tr>\n    <tr>\n      <th>4</th>\n      <td>Kadın</td>\n      <td>0</td>\n      <td>Bekar</td>\n      <td>Yok</td>\n      <td>2</td>\n      <td>Var</td>\n      <td>Yok</td>\n      <td>Fiber Optik</td>\n      <td>Yok</td>\n      <td>Yok</td>\n      <td>...</td>\n      <td>Yok</td>\n      <td>1 Aylık</td>\n      <td>Evet</td>\n      <td>Elektronik</td>\n      <td>70.70</td>\n      <td>151.65</td>\n      <td>Low</td>\n      <td>Medium</td>\n      <td>Low</td>\n      <td>Var</td>\n    </tr>\n  </tbody>\n</table>\n<p>5 rows × 23 columns</p>\n</div>"
     },
     "execution_count": 10,
     "metadata": {},
     "output_type": "execute_result"
    }
   ],
   "source": [
    "df.head()"
   ],
   "metadata": {
    "collapsed": false
   }
  },
  {
   "cell_type": "markdown",
   "source": [
    "# İçindekiler\n",
    "\n",
    "1-Sütunların Kategorize Edilmesi\n",
    "2-numerical and numerical data\n",
    "3-numerical and ordinal data\n",
    "4-ordinal and ordinal data\n",
    "5-categorical and categorical data\n",
    "6-Collinearity\n",
    "7-Visualization\n",
    "\n",
    "H0: the two samples are independent\n",
    "H1: there is a dependency between the samples"
   ],
   "metadata": {
    "collapsed": false
   }
  },
  {
   "cell_type": "markdown",
   "source": [
    "# 1. Sütunların Kategorize Edilmesi"
   ],
   "metadata": {
    "collapsed": false
   }
  },
  {
   "cell_type": "code",
   "execution_count": 11,
   "outputs": [
    {
     "name": "stdout",
     "output_type": "stream",
     "text": [
      "[('Cinsiyet', 2), ('Online Fatura(Kağıtsız)', 2), ('Medeni Durum', 2), ('Ev Telefonu Aboneliği', 2), ('Bakma Sorumluluğu', 2), ('IP Tv Aboneliği', 3), ('Toplam Ücret-binned', 3), ('Aylık Ücret-binned', 3), ('Yedekleme Hizmeti Aboneliği', 3), ('Sözleşme Süresi', 3), ('Ekipman Güvenlik Aboneliği', 3), ('Film Abonelği', 3), ('Müşteri Olma Süresi(Ay)-binned', 3), ('Birden Fazla Abonelik Durumu', 3), ('Teknik Destek Aboneliği', 3), ('İnternet Aboneliği', 3), ('Güvenlik Hizmeti Aboneliği', 3), ('Ödeme Şekli', 4)]\n"
     ]
    }
   ],
   "source": [
    "# Check cardinality of categorical variables\n",
    "target_col_filter = df.loc[:, df.columns != 'Kayıp Durumu']\n",
    "\n",
    "\n",
    "cat_cols = list(set(target_col_filter.columns) - set(target_col_filter._get_numeric_data().columns))\n",
    "num_cols = list(set(target_col_filter._get_numeric_data().columns) - set({'65 Yaş Üstü'})) # already converted to integer\n",
    "\n",
    "\n",
    "# Get number of unique entries in each column with categorical data\n",
    "object_nunique = list(map(lambda col: target_col_filter[col].nunique(), cat_cols))\n",
    "dict_features_by_col = dict(zip(cat_cols, object_nunique))\n",
    "\n",
    "\n",
    "# Print number of unique entries by column, in ascending order\n",
    "print(sorted(dict_features_by_col.items(), key=lambda x: x[1]))\n",
    "\n",
    "\n",
    "ordinal_cols = ['Müşteri Olma Süresi(Ay)-binned', 'Aylık Ücret-binned', 'Toplam Ücret-binned']\n",
    "dichotomous_cols = [cat for cat in cat_cols if df[cat].value_counts().count() == 2]\n",
    "polytomous_cols = list(set(cat_cols) - set(dichotomous_cols) - set(ordinal_cols))"
   ],
   "metadata": {
    "collapsed": false
   }
  },
  {
   "cell_type": "code",
   "execution_count": 12,
   "outputs": [
    {
     "name": "stdout",
     "output_type": "stream",
     "text": [
      "Kategorik Değişkenler ['Ödeme Şekli', 'IP Tv Aboneliği', 'Cinsiyet', 'Toplam Ücret-binned', 'Aylık Ücret-binned', 'Yedekleme Hizmeti Aboneliği', 'Sözleşme Süresi', 'Online Fatura(Kağıtsız)', 'Ekipman Güvenlik Aboneliği', 'Medeni Durum', 'Film Abonelği', 'Ev Telefonu Aboneliği', 'Müşteri Olma Süresi(Ay)-binned', 'Birden Fazla Abonelik Durumu', 'Teknik Destek Aboneliği', 'Bakma Sorumluluğu', 'İnternet Aboneliği', 'Güvenlik Hizmeti Aboneliği']\n",
      "Nümerik Değişkenler   ['Toplam Ücret', 'Aylık Ücret', 'Müşteri Olma Süresi(Ay)']\n",
      "Sıralı(Ordinal) Değişkenler ['Müşteri Olma Süresi(Ay)-binned', 'Aylık Ücret-binned', 'Toplam Ücret-binned']\n",
      "İki Ayrı Parçaya Ayrılmış Değişkenler ['Cinsiyet', 'Online Fatura(Kağıtsız)', 'Medeni Durum', 'Ev Telefonu Aboneliği', 'Bakma Sorumluluğu']\n",
      "Çok Sayıda Altbölüme Ayrılmış Değişkenler ['Ödeme Şekli', 'IP Tv Aboneliği', 'Film Abonelği', 'Birden Fazla Abonelik Durumu', 'Yedekleme Hizmeti Aboneliği', 'Sözleşme Süresi', 'Teknik Destek Aboneliği', 'İnternet Aboneliği', 'Güvenlik Hizmeti Aboneliği', 'Ekipman Güvenlik Aboneliği']\n"
     ]
    }
   ],
   "source": [
    "print(\"Kategorik Değişkenler\".ljust(left_padding), cat_cols)\n",
    "\n",
    "print(\"Nümerik Değişkenler\".ljust(left_padding), num_cols)\n",
    "\n",
    "print(\"Sıralı(Ordinal) Değişkenler\".ljust(left_padding), ordinal_cols)\n",
    "\n",
    "print(\"İki Ayrı Parçaya Ayrılmış Değişkenler\".ljust(left_padding), dichotomous_cols)\n",
    "\n",
    "print(\"Çok Sayıda Altbölüme Ayrılmış Değişkenler\".ljust(left_padding), polytomous_cols)"
   ],
   "metadata": {
    "collapsed": false
   }
  },
  {
   "cell_type": "markdown",
   "source": [
    "# 2. Nümerik & Nümerik"
   ],
   "metadata": {
    "collapsed": false
   }
  },
  {
   "cell_type": "markdown",
   "source": [
    "## 2.1 (AKA Spearman's rho or Spearman correlation coefficient)"
   ],
   "metadata": {
    "collapsed": false
   }
  },
  {
   "cell_type": "markdown",
   "source": [
    "AKA Spearman's rho or Spearman correlation coefficient\n",
    "\n",
    "Applied to Continuous or ordinal variable\n",
    "\n",
    "\n",
    "\n",
    "For Pearson r correlation, both variables should be normally distributed According to the normality test tenure, MonthlyCharges and TotalCharges columns are not normally distributed\n",
    "\n",
    "Unlike the Pearson correlation, the Spearman correlation does not assume that both datasets are normally distributed\n",
    "\n",
    "Pearson correlation assumes normality, linearity and homoscedasticity. Pearson's correlation is also unable to tell the difference between dependent and independent variables\n",
    "\n",
    "Hypotheses -\n",
    "\n",
    "H0: the two samples do not have monotonic relationship\n",
    "H1: there is a monotonic relationship between the samples"
   ],
   "metadata": {
    "collapsed": false
   }
  },
  {
   "cell_type": "code",
   "execution_count": 13,
   "outputs": [
    {
     "name": "stdout",
     "output_type": "stream",
     "text": [
      "Kayıp Durumu, Aylık Ücret correlation : -0.18474274666624488, p : 4.132385749669143e-55\n",
      "Probably have monotonic relationship (reject H0)\n"
     ]
    }
   ],
   "source": [
    "cal_spearmanr('Kayıp Durumu','Aylık Ücret')"
   ],
   "metadata": {
    "collapsed": false
   }
  },
  {
   "cell_type": "code",
   "execution_count": 14,
   "outputs": [
    {
     "name": "stdout",
     "output_type": "stream",
     "text": [
      "Kayıp Durumu, Toplam Ücret correlation : 0.22995525897249963, p : 3.549197497479091e-85\n",
      "Probably have monotonic relationship (reject H0)\n"
     ]
    }
   ],
   "source": [
    "cal_spearmanr('Kayıp Durumu','Toplam Ücret')"
   ],
   "metadata": {
    "collapsed": false
   }
  },
  {
   "cell_type": "code",
   "execution_count": 15,
   "outputs": [
    {
     "name": "stdout",
     "output_type": "stream",
     "text": [
      "Aylık Ücret, Toplam Ücret correlation : 0.638028390201301, p : 0.0\n",
      "Probably have monotonic relationship (reject H0)\n"
     ]
    }
   ],
   "source": [
    "cal_spearmanr('Aylık Ücret','Toplam Ücret')"
   ],
   "metadata": {
    "collapsed": false
   }
  },
  {
   "cell_type": "markdown",
   "source": [
    "# 3. Numerical & Categorical"
   ],
   "metadata": {
    "collapsed": false
   }
  },
  {
   "cell_type": "markdown",
   "source": [
    "## 3.1 Kendall rank correlation coefficient"
   ],
   "metadata": {
    "collapsed": false
   }
  },
  {
   "cell_type": "markdown",
   "source": [
    "tenure-binned\n",
    "MonthlyCharges-binned\n",
    "TotalCharges-binned"
   ],
   "metadata": {
    "collapsed": false
   }
  },
  {
   "cell_type": "code",
   "execution_count": 16,
   "outputs": [
    {
     "data": {
      "text/plain": "<IPython.core.display.Markdown object>",
      "text/markdown": "Correlation with **Müşteri Olma Süresi(Ay)-binned**"
     },
     "metadata": {},
     "output_type": "display_data"
    },
    {
     "name": "stdout",
     "output_type": "stream",
     "text": [
      "Correlation between Aylık Ücret and Müşteri Olma Süresi(Ay)-binned \n",
      "Kendall correlation coefficient = -0.10710, p = 0.00000\n",
      "Samples are correlated (reject H0) p=0.000\n",
      "----\n",
      "\n",
      "Correlation between Aylık Ücret and Müşteri Olma Süresi(Ay)-binned \n",
      "Kendall correlation coefficient = -0.10710, p = 0.00000\n",
      "Samples are correlated (reject H0) p=0.000\n",
      "----\n",
      "\n",
      "Correlation between Toplam Ücret and Müşteri Olma Süresi(Ay)-binned \n",
      "Kendall correlation coefficient = -0.23680, p = 0.00000\n",
      "Samples are correlated (reject H0) p=0.000\n",
      "----\n",
      "\n"
     ]
    },
    {
     "data": {
      "text/plain": "<IPython.core.display.Markdown object>",
      "text/markdown": "Correlation with **Aylık Ücret-binned**"
     },
     "metadata": {},
     "output_type": "display_data"
    },
    {
     "name": "stdout",
     "output_type": "stream",
     "text": [
      "Correlation between Aylık Ücret and Aylık Ücret-binned \n",
      "Kendall correlation coefficient = -0.22506, p = 0.00000\n",
      "Samples are correlated (reject H0) p=0.000\n",
      "----\n",
      "\n",
      "Correlation between Aylık Ücret and Aylık Ücret-binned \n",
      "Kendall correlation coefficient = -0.22506, p = 0.00000\n",
      "Samples are correlated (reject H0) p=0.000\n",
      "----\n",
      "\n",
      "Correlation between Toplam Ücret and Aylık Ücret-binned \n",
      "Kendall correlation coefficient = -0.20858, p = 0.00000\n",
      "Samples are correlated (reject H0) p=0.000\n",
      "----\n",
      "\n"
     ]
    },
    {
     "data": {
      "text/plain": "<IPython.core.display.Markdown object>",
      "text/markdown": "Correlation with **Toplam Ücret-binned**"
     },
     "metadata": {},
     "output_type": "display_data"
    },
    {
     "name": "stdout",
     "output_type": "stream",
     "text": [
      "Correlation between Aylık Ücret and Toplam Ücret-binned \n",
      "Kendall correlation coefficient = 0.00298, p = 0.75152\n",
      "Samples are uncorrelated (fail to reject H0) p=0.752\n",
      "----\n",
      "\n",
      "Correlation between Aylık Ücret and Toplam Ücret-binned \n",
      "Kendall correlation coefficient = 0.00298, p = 0.75152\n",
      "Samples are uncorrelated (fail to reject H0) p=0.752\n",
      "----\n",
      "\n",
      "Correlation between Toplam Ücret and Toplam Ücret-binned \n",
      "Kendall correlation coefficient = 0.12334, p = 0.00000\n",
      "Samples are correlated (reject H0) p=0.000\n",
      "----\n",
      "\n"
     ]
    }
   ],
   "source": [
    "ordinal_features = ['Müşteri Olma Süresi(Ay)-binned', 'Aylık Ücret-binned', 'Toplam Ücret-binned']\n",
    "\n",
    "for ord in ordinal_features:\n",
    "    printmd(f\"Correlation with **{ord}**\")\n",
    "    kendall_rank_correlation('Aylık Ücret',ord)\n",
    "    kendall_rank_correlation('Aylık Ücret',ord)\n",
    "    kendall_rank_correlation('Toplam Ücret',ord)"
   ],
   "metadata": {
    "collapsed": false
   }
  },
  {
   "cell_type": "markdown",
   "source": [
    "## 3.2 Mann-Whitney U Test"
   ],
   "metadata": {
    "collapsed": false
   }
  },
  {
   "cell_type": "markdown",
   "source": [
    "Fail to Reject H0: Sample distributions are equal. (or sample distributions are likely drawn from the same population)\n",
    "Reject H0: Sample distributions are not equal.\n",
    "or\n",
    "\n",
    "H0: population medians are equal\n",
    "H1: population medians are not equal"
   ],
   "metadata": {
    "collapsed": false
   }
  },
  {
   "cell_type": "markdown",
   "source": [
    "Correlation with Target (Dichotomous)"
   ],
   "metadata": {
    "collapsed": false
   }
  },
  {
   "cell_type": "code",
   "execution_count": 17,
   "outputs": [
    {
     "data": {
      "text/plain": "<IPython.core.display.Markdown object>",
      "text/markdown": "Correlation with **Müşteri Olma Süresi(Ay)**"
     },
     "metadata": {},
     "output_type": "display_data"
    },
    {
     "name": "stdout",
     "output_type": "stream",
     "text": [
      "Correlation between Müşteri Olma Süresi(Ay) and Kayıp Durumu\n",
      "Statistics = 49565112.50000, p = 0.00000\n",
      "Different distribution (reject H0)\n",
      "----\n",
      "\n"
     ]
    },
    {
     "data": {
      "text/plain": "<IPython.core.display.Markdown object>",
      "text/markdown": "Correlation with **Aylık Ücret**"
     },
     "metadata": {},
     "output_type": "display_data"
    },
    {
     "name": "stdout",
     "output_type": "stream",
     "text": [
      "Correlation between Aylık Ücret and Kayıp Durumu\n",
      "Statistics = 49603849.00000, p = 0.00000\n",
      "Different distribution (reject H0)\n",
      "----\n",
      "\n"
     ]
    },
    {
     "data": {
      "text/plain": "<IPython.core.display.Markdown object>",
      "text/markdown": "Correlation with **Toplam Ücret**"
     },
     "metadata": {},
     "output_type": "display_data"
    },
    {
     "name": "stdout",
     "output_type": "stream",
     "text": [
      "Correlation between Toplam Ücret and Kayıp Durumu\n",
      "Statistics = 49565112.50000, p = 0.00000\n",
      "Different distribution (reject H0)\n",
      "----\n",
      "\n"
     ]
    }
   ],
   "source": [
    "numerical_features = ['Müşteri Olma Süresi(Ay)','Aylık Ücret', 'Toplam Ücret']\n",
    "\n",
    "for num in numerical_features:\n",
    "    printmd(f\"Correlation with **{num}**\")\n",
    "    mannwhitneyu_correlation(num)"
   ],
   "metadata": {
    "collapsed": false
   }
  },
  {
   "cell_type": "markdown",
   "source": [
    "Biserial correlation\n",
    "\n",
    "The point biserial correlation is used to measure the relationship between a binary variable, x, and a continuous variable, y. Like other correlation coefficients, this one varies between -1 and +1 with 0 implying no correlation. Correlations of -1 or +1 imply a determinative relationship.\n",
    "\n",
    "NB: point-biserial correlation is conducted with the Pearson correlation formula except that one of the variables is dichotomous\n",
    "\n",
    "The assumptions for Point-Biserial correlation include:\n",
    "\n",
    "Continuous and Binary\n",
    "Normally Distributed (In our case not normal)\n",
    "No Outliers\n",
    "Equal Variances\n",
    "Options to normalize a non-normal distribution -\n",
    "\n",
    "Log transform\n",
    "Square root transform\n",
    "Box cox (can only be applied to strictly positive data)\n",
    "Yeo Johnson (both positive and negative)"
   ],
   "metadata": {
    "collapsed": false
   }
  },
  {
   "cell_type": "code",
   "execution_count": 18,
   "outputs": [
    {
     "name": "stdout",
     "output_type": "stream",
     "text": [
      "Sample does not look Gaussian (reject H0)\n"
     ]
    }
   ],
   "source": [
    "# https://stackoverflow.com/questions/53624804/how-to-normalize-a-non-normal-distribution\n",
    "\n",
    "data = df['Aylık Ücret'].to_numpy()\n",
    "pt = PowerTransformer(method='yeo-johnson') # ‘box-cox’, 'yeo-johnson'\n",
    "data = data.reshape(-1, 1)\n",
    "pt.fit(data)\n",
    "transformed_data = pt.transform(data)\n",
    "\n",
    "transformed_k2, transformed_p = stats.normaltest(transformed_data)\n",
    "\n",
    "# other methods to transform into gaussian distribution\n",
    "\n",
    "# log transform\n",
    "# stats.normaltest(np.log(df_churn['MonthlyCharges']))\n",
    "\n",
    "# square transform\n",
    "# stats.normaltest(np.sqrt(df_churn['MonthlyCharges'])\n",
    "\n",
    "# box-cox transform\n",
    "# stats.normaltest(stats.boxcox(df_churn['MonthlyCharges'])[0])\n",
    "\n",
    "# all other methods failed to convert into gaussian\n",
    "\n",
    "\n",
    "alpha = 0.05\n",
    "if transformed_p > alpha:\n",
    "    print('Sample looks Gaussian (fail to reject H0)')\n",
    "else:\n",
    "    print('Sample does not look Gaussian (reject H0)')"
   ],
   "metadata": {
    "collapsed": false
   }
  },
  {
   "cell_type": "markdown",
   "source": [
    "Since the numerical columns can not be converted to gaussian distribution, point biseral correlation test can not be performed"
   ],
   "metadata": {
    "collapsed": false
   }
  },
  {
   "cell_type": "markdown",
   "source": [
    "## 3.3 Polytomous(Nominal) with numeric"
   ],
   "metadata": {
    "collapsed": false
   }
  },
  {
   "cell_type": "markdown",
   "source": [
    "For a dichotomous categorical variable and a continuous variable we can calculate a Pearson correlation if the categorical variable has a 0/1-coding for the categories. This correlation is then also known as a point-biserial correlation coefficient. (parametric test)\n",
    "\n",
    "But when we have more than two categories for the categorical variable the Pearson correlation is not appropriate anymore.\n",
    "\n",
    "We should then use eta-squared, or eta, as an effect-size measure for the relationship of a categorical variable and a continuous variable."
   ],
   "metadata": {
    "collapsed": false
   }
  },
  {
   "cell_type": "code",
   "execution_count": 19,
   "outputs": [
    {
     "data": {
      "text/plain": "0.40127388087245935"
     },
     "execution_count": 19,
     "metadata": {},
     "output_type": "execute_result"
    }
   ],
   "source": [
    "correlation_ratio(df['Ödeme Şekli'], df['Aylık Ücret'])"
   ],
   "metadata": {
    "collapsed": false
   }
  },
  {
   "cell_type": "code",
   "execution_count": 20,
   "outputs": [
    {
     "data": {
      "text/plain": "0.35074070554475645"
     },
     "execution_count": 20,
     "metadata": {},
     "output_type": "execute_result"
    }
   ],
   "source": [
    "correlation_ratio(df['Ödeme Şekli'], df['Toplam Ücret'])"
   ],
   "metadata": {
    "collapsed": false
   }
  },
  {
   "cell_type": "code",
   "execution_count": 21,
   "outputs": [
    {
     "data": {
      "text/plain": "0.3998293691962001"
     },
     "execution_count": 21,
     "metadata": {},
     "output_type": "execute_result"
    }
   ],
   "source": [
    "correlation_ratio(df['Ödeme Şekli'], df['Müşteri Olma Süresi(Ay)'])"
   ],
   "metadata": {
    "collapsed": false
   }
  },
  {
   "cell_type": "markdown",
   "source": [
    "# 4. Dichotomous & Dichotomous"
   ],
   "metadata": {
    "collapsed": false
   }
  },
  {
   "cell_type": "markdown",
   "source": [
    "### In classification, when both of the features are categorical, then the strength of the relationship between them can be measured using a Chi-square test"
   ],
   "metadata": {
    "collapsed": false
   }
  },
  {
   "cell_type": "markdown",
   "source": [
    "## 4.1 Phi’s correlation"
   ],
   "metadata": {
    "collapsed": false
   }
  },
  {
   "cell_type": "markdown",
   "source": [
    "### The Matthews correlation coefficient (MCC) or phi coefficient is used in machine learning as a measure of the quality of binary (two-class) classifications"
   ],
   "metadata": {
    "collapsed": false
   }
  },
  {
   "cell_type": "code",
   "execution_count": 22,
   "outputs": [
    {
     "data": {
      "text/plain": "<IPython.core.display.Markdown object>",
      "text/markdown": "**Correlation Between Dichotomous Features with Target : Churn**"
     },
     "metadata": {},
     "output_type": "display_data"
    },
    {
     "name": "stdout",
     "output_type": "stream",
     "text": [
      "Cinsiyet              0.0\n",
      "Online Fatura(Kağıtsız) 0.0\n",
      "Medeni Durum          0.0\n",
      "Ev Telefonu Aboneliği 0.01194198002900308\n",
      "Bakma Sorumluluğu     -0.16422140157972528\n"
     ]
    }
   ],
   "source": [
    "printmd(\"**Correlation Between Dichotomous Features with Target : Churn**\")\n",
    "\n",
    "for col in dichotomous_cols:\n",
    "    print(col.ljust(left_padding), matthews_corrcoef(df[col], df['Kayıp Durumu']))"
   ],
   "metadata": {
    "collapsed": false
   }
  },
  {
   "cell_type": "markdown",
   "source": [
    "# 5.Categorical & categorical"
   ],
   "metadata": {
    "collapsed": false
   }
  },
  {
   "cell_type": "markdown",
   "source": [
    "## 5.1 Chi-Square"
   ],
   "metadata": {
    "collapsed": false
   }
  },
  {
   "cell_type": "markdown",
   "source": [
    "#### Detect independence between 2 categorical variables, 2x2 or 2xMany\n",
    "\n",
    "Test statistic in the context of the chi-squared distribution with the requisite number of degrees of freedom\n",
    "\n",
    "If Statistic >= Critical Value: significant result, reject null hypothesis (H0), dependent.\n",
    "If Statistic < Critical Value: not significant result, fail to reject null hypothesis (H0), independent.\n",
    "In terms of a p-value and a chosen significance level (alpha):\n",
    "\n",
    "If p-value <= alpha: significant result, reject null hypothesis (H0), dependent.\n",
    "If p-value > alpha: not significant result, fail to reject null hypothesis (H0), independent"
   ],
   "metadata": {
    "collapsed": false
   }
  },
  {
   "cell_type": "markdown",
   "source": [
    "## Dichotomous Features"
   ],
   "metadata": {
    "collapsed": false
   }
  },
  {
   "cell_type": "code",
   "execution_count": 23,
   "outputs": [
    {
     "data": {
      "text/plain": "<IPython.core.display.Markdown object>",
      "text/markdown": "**Chi-Squre Correlation Between Dichotomous Features with Target : Churn**"
     },
     "metadata": {},
     "output_type": "display_data"
    },
    {
     "data": {
      "text/plain": "<IPython.core.display.Markdown object>",
      "text/markdown": "Correlation between **Cinsiyet** and **Kayıp Durumu**"
     },
     "metadata": {},
     "output_type": "display_data"
    },
    {
     "name": "stdout",
     "output_type": "stream",
     "text": [
      "p-value : 0.48657873605618596, degree of freedom: 1\n",
      "probability=0.950, critical=3.841, stat=0.484\n",
      "Independent (fail to reject H0)\n",
      "significance=0.050, p=0.487\n",
      "Independent (fail to reject H0)\n",
      "-----------------------------------\n",
      "\n"
     ]
    },
    {
     "data": {
      "text/plain": "<IPython.core.display.Markdown object>",
      "text/markdown": "Correlation between **Online Fatura(Kağıtsız)** and **Kayıp Durumu**"
     },
     "metadata": {},
     "output_type": "display_data"
    },
    {
     "name": "stdout",
     "output_type": "stream",
     "text": [
      "p-value : 4.073354668665985e-58, degree of freedom: 1\n",
      "probability=0.950, critical=3.841, stat=258.278\n",
      "Dependent (reject H0)\n",
      "significance=0.050, p=0.000\n",
      "Dependent (reject H0)\n",
      "-----------------------------------\n",
      "\n"
     ]
    },
    {
     "data": {
      "text/plain": "<IPython.core.display.Markdown object>",
      "text/markdown": "Correlation between **Medeni Durum** and **Kayıp Durumu**"
     },
     "metadata": {},
     "output_type": "display_data"
    },
    {
     "name": "stdout",
     "output_type": "stream",
     "text": [
      "p-value : 2.1399113440759935e-36, degree of freedom: 1\n",
      "probability=0.950, critical=3.841, stat=158.733\n",
      "Dependent (reject H0)\n",
      "significance=0.050, p=0.000\n",
      "Dependent (reject H0)\n",
      "-----------------------------------\n",
      "\n"
     ]
    },
    {
     "data": {
      "text/plain": "<IPython.core.display.Markdown object>",
      "text/markdown": "Correlation between **Ev Telefonu Aboneliği** and **Kayıp Durumu**"
     },
     "metadata": {},
     "output_type": "display_data"
    },
    {
     "name": "stdout",
     "output_type": "stream",
     "text": [
      "p-value : 0.3387825358066928, degree of freedom: 1\n",
      "probability=0.950, critical=3.841, stat=0.915\n",
      "Independent (fail to reject H0)\n",
      "significance=0.050, p=0.339\n",
      "Independent (fail to reject H0)\n",
      "-----------------------------------\n",
      "\n"
     ]
    },
    {
     "data": {
      "text/plain": "<IPython.core.display.Markdown object>",
      "text/markdown": "Correlation between **Bakma Sorumluluğu** and **Kayıp Durumu**"
     },
     "metadata": {},
     "output_type": "display_data"
    },
    {
     "name": "stdout",
     "output_type": "stream",
     "text": [
      "p-value : 4.924921661215491e-43, degree of freedom: 1\n",
      "probability=0.950, critical=3.841, stat=189.129\n",
      "Dependent (reject H0)\n",
      "significance=0.050, p=0.000\n",
      "Dependent (reject H0)\n",
      "-----------------------------------\n",
      "\n"
     ]
    }
   ],
   "source": [
    "printmd(\"**Chi-Squre Correlation Between Dichotomous Features with Target : Churn**\")\n",
    "\n",
    "for col in dichotomous_cols:\n",
    "    calculate_chi_square(col)"
   ],
   "metadata": {
    "collapsed": false
   }
  },
  {
   "cell_type": "markdown",
   "source": [
    "## Polytomous Features"
   ],
   "metadata": {
    "collapsed": false
   }
  },
  {
   "cell_type": "code",
   "execution_count": 24,
   "outputs": [
    {
     "data": {
      "text/plain": "<IPython.core.display.Markdown object>",
      "text/markdown": "**Chi-Squre Correlation Between Polytomous Features with Target : Churn**"
     },
     "metadata": {},
     "output_type": "display_data"
    },
    {
     "data": {
      "text/plain": "<IPython.core.display.Markdown object>",
      "text/markdown": "Correlation between **Ödeme Şekli** and **Kayıp Durumu**"
     },
     "metadata": {},
     "output_type": "display_data"
    },
    {
     "name": "stdout",
     "output_type": "stream",
     "text": [
      "p-value : 3.6823546520097993e-140, degree of freedom: 3\n",
      "probability=0.950, critical=7.815, stat=648.142\n",
      "Dependent (reject H0)\n",
      "significance=0.050, p=0.000\n",
      "Dependent (reject H0)\n",
      "-----------------------------------\n",
      "\n"
     ]
    },
    {
     "data": {
      "text/plain": "<IPython.core.display.Markdown object>",
      "text/markdown": "Correlation between **IP Tv Aboneliği** and **Kayıp Durumu**"
     },
     "metadata": {},
     "output_type": "display_data"
    },
    {
     "name": "stdout",
     "output_type": "stream",
     "text": [
      "p-value : 5.528994485739024e-82, degree of freedom: 2\n",
      "probability=0.950, critical=5.991, stat=374.204\n",
      "Dependent (reject H0)\n",
      "significance=0.050, p=0.000\n",
      "Dependent (reject H0)\n",
      "-----------------------------------\n",
      "\n"
     ]
    },
    {
     "data": {
      "text/plain": "<IPython.core.display.Markdown object>",
      "text/markdown": "Correlation between **Film Abonelği** and **Kayıp Durumu**"
     },
     "metadata": {},
     "output_type": "display_data"
    },
    {
     "name": "stdout",
     "output_type": "stream",
     "text": [
      "p-value : 2.667756755723757e-82, degree of freedom: 2\n",
      "probability=0.950, critical=5.991, stat=375.661\n",
      "Dependent (reject H0)\n",
      "significance=0.050, p=0.000\n",
      "Dependent (reject H0)\n",
      "-----------------------------------\n",
      "\n"
     ]
    },
    {
     "data": {
      "text/plain": "<IPython.core.display.Markdown object>",
      "text/markdown": "Correlation between **Birden Fazla Abonelik Durumu** and **Kayıp Durumu**"
     },
     "metadata": {},
     "output_type": "display_data"
    },
    {
     "name": "stdout",
     "output_type": "stream",
     "text": [
      "p-value : 0.0034643829548773, degree of freedom: 2\n",
      "probability=0.950, critical=5.991, stat=11.330\n",
      "Dependent (reject H0)\n",
      "significance=0.050, p=0.003\n",
      "Dependent (reject H0)\n",
      "-----------------------------------\n",
      "\n"
     ]
    },
    {
     "data": {
      "text/plain": "<IPython.core.display.Markdown object>",
      "text/markdown": "Correlation between **Yedekleme Hizmeti Aboneliği** and **Kayıp Durumu**"
     },
     "metadata": {},
     "output_type": "display_data"
    },
    {
     "name": "stdout",
     "output_type": "stream",
     "text": [
      "p-value : 2.0797592160865457e-131, degree of freedom: 2\n",
      "probability=0.950, critical=5.991, stat=601.813\n",
      "Dependent (reject H0)\n",
      "significance=0.050, p=0.000\n",
      "Dependent (reject H0)\n",
      "-----------------------------------\n",
      "\n"
     ]
    },
    {
     "data": {
      "text/plain": "<IPython.core.display.Markdown object>",
      "text/markdown": "Correlation between **Sözleşme Süresi** and **Kayıp Durumu**"
     },
     "metadata": {},
     "output_type": "display_data"
    },
    {
     "name": "stdout",
     "output_type": "stream",
     "text": [
      "p-value : 5.863038300672726e-258, degree of freedom: 2\n",
      "probability=0.950, critical=5.991, stat=1184.597\n",
      "Dependent (reject H0)\n",
      "significance=0.050, p=0.000\n",
      "Dependent (reject H0)\n",
      "-----------------------------------\n",
      "\n"
     ]
    },
    {
     "data": {
      "text/plain": "<IPython.core.display.Markdown object>",
      "text/markdown": "Correlation between **Teknik Destek Aboneliği** and **Kayıp Durumu**"
     },
     "metadata": {},
     "output_type": "display_data"
    },
    {
     "name": "stdout",
     "output_type": "stream",
     "text": [
      "p-value : 1.443084028000063e-180, degree of freedom: 2\n",
      "probability=0.950, critical=5.991, stat=828.197\n",
      "Dependent (reject H0)\n",
      "significance=0.050, p=0.000\n",
      "Dependent (reject H0)\n",
      "-----------------------------------\n",
      "\n"
     ]
    },
    {
     "data": {
      "text/plain": "<IPython.core.display.Markdown object>",
      "text/markdown": "Correlation between **İnternet Aboneliği** and **Kayıp Durumu**"
     },
     "metadata": {},
     "output_type": "display_data"
    },
    {
     "name": "stdout",
     "output_type": "stream",
     "text": [
      "p-value : 9.571788222840544e-160, degree of freedom: 2\n",
      "probability=0.950, critical=5.991, stat=732.310\n",
      "Dependent (reject H0)\n",
      "significance=0.050, p=0.000\n",
      "Dependent (reject H0)\n",
      "-----------------------------------\n",
      "\n"
     ]
    },
    {
     "data": {
      "text/plain": "<IPython.core.display.Markdown object>",
      "text/markdown": "Correlation between **Güvenlik Hizmeti Aboneliği** and **Kayıp Durumu**"
     },
     "metadata": {},
     "output_type": "display_data"
    },
    {
     "name": "stdout",
     "output_type": "stream",
     "text": [
      "p-value : 2.661149635176704e-185, degree of freedom: 2\n",
      "probability=0.950, critical=5.991, stat=849.999\n",
      "Dependent (reject H0)\n",
      "significance=0.050, p=0.000\n",
      "Dependent (reject H0)\n",
      "-----------------------------------\n",
      "\n"
     ]
    },
    {
     "data": {
      "text/plain": "<IPython.core.display.Markdown object>",
      "text/markdown": "Correlation between **Ekipman Güvenlik Aboneliği** and **Kayıp Durumu**"
     },
     "metadata": {},
     "output_type": "display_data"
    },
    {
     "name": "stdout",
     "output_type": "stream",
     "text": [
      "p-value : 5.505219496457244e-122, degree of freedom: 2\n",
      "probability=0.950, critical=5.991, stat=558.419\n",
      "Dependent (reject H0)\n",
      "significance=0.050, p=0.000\n",
      "Dependent (reject H0)\n",
      "-----------------------------------\n",
      "\n"
     ]
    }
   ],
   "source": [
    "printmd(\"**Chi-Squre Correlation Between Polytomous Features with Target : Churn**\")\n",
    "\n",
    "for col in polytomous_cols:\n",
    "    calculate_chi_square(col)"
   ],
   "metadata": {
    "collapsed": false
   }
  },
  {
   "cell_type": "markdown",
   "source": [
    "With 5% significance level All polytomous features are dependent with the target : Churn"
   ],
   "metadata": {
    "collapsed": false
   }
  },
  {
   "cell_type": "markdown",
   "source": [
    "# 5.2 Cramér’s V\n"
   ],
   "metadata": {
    "collapsed": false
   }
  },
  {
   "cell_type": "markdown",
   "source": [
    "## It is based on a nominal variation of Pearson’s Chi-Square Test\\ Like correlation, Cramer’s V is symmetrical — it is insensitive to swapping x and y\n",
    "\n",
    "Cramer's V is used to examine the association between two categorical variables when there is more than a 2 X 2 contingency (e.g., 2 X 3).\\ In these more complicated designs, phi correlation test is not appropriate, but Cramer's statistic is. Cramer's V represents the association or correlation between two variables. This statistic is also referred to as \"Cramers Phi\"\n",
    "\n",
    "To know more about this, visit this article : the-search-for-categorical-correlation"
   ],
   "metadata": {
    "collapsed": false
   }
  },
  {
   "cell_type": "code",
   "execution_count": 25,
   "outputs": [
    {
     "data": {
      "text/plain": "<IPython.core.display.Markdown object>",
      "text/markdown": "**Correlation Between Polytomous Features with Target : Churn**"
     },
     "metadata": {},
     "output_type": "display_data"
    },
    {
     "name": "stdout",
     "output_type": "stream",
     "text": [
      "Sözleşme Süresi       0.4097983918255345\n",
      "Güvenlik Hizmeti Aboneliği 0.34701606688272874\n",
      "Teknik Destek Aboneliği 0.3425261587493694\n",
      "İnternet Aboneliği    0.3220367323307425\n",
      "Ödeme Şekli           0.3026771381187204\n",
      "Yedekleme Hizmeti Aboneliği 0.291850036724674\n",
      "Ekipman Güvenlik Aboneliği 0.28109492388964397\n",
      "Film Abonelği         0.23035147282444213\n",
      "IP Tv Aboneliği       0.22990176915403476\n",
      "Birden Fazla Abonelik Durumu 0.03639958908232507\n"
     ]
    },
    {
     "data": {
      "text/plain": "<IPython.core.display.Markdown object>",
      "text/markdown": "<br>**Contract, OnlineSecurity, TechSupport, InternetService are moderately correlated with Churn**<br>"
     },
     "metadata": {},
     "output_type": "display_data"
    }
   ],
   "source": [
    "printmd(\"**Correlation Between Polytomous Features with Target : Churn**\")\n",
    "cramer_v_val_dict = {}\n",
    "for col in polytomous_cols:\n",
    "    cramer_v_val_dict[col] = cramers_v(df[col], df['Kayıp Durumu'])\n",
    "\n",
    "cramer_v_val_dict_sorted = sorted(cramer_v_val_dict.items(), key=lambda x:x[1], reverse=True)\n",
    "\n",
    "for k,v in cramer_v_val_dict_sorted:\n",
    "    print(k.ljust(left_padding), v)\n",
    "\n",
    "printmd(\"<br>**Contract, OnlineSecurity, TechSupport, InternetService are moderately correlated with Churn**<br>\")"
   ],
   "metadata": {
    "collapsed": false
   }
  },
  {
   "cell_type": "code",
   "execution_count": 26,
   "outputs": [
    {
     "data": {
      "text/plain": "<IPython.core.display.Markdown object>",
      "text/markdown": "**Cramers V Heatmap on Polytomous Features and Target: Churn**"
     },
     "metadata": {},
     "output_type": "display_data"
    },
    {
     "data": {
      "text/plain": "<Figure size 2000x100 with 2 Axes>",
      "image/png": "[encoded data removed]"
     },
     "metadata": {},
     "output_type": "display_data"
    }
   ],
   "source": [
    "printmd(\"**Cramers V Heatmap on Polytomous Features and Target: Churn**\")\n",
    "cramers_v_val = pd.DataFrame(index=['Kayıp Durumu'], columns=polytomous_cols)\n",
    "\n",
    "for j in range(0,len(polytomous_cols)):\n",
    "    u = cramers_v(df['Kayıp Durumu'], df[polytomous_cols[j]])\n",
    "    cramers_v_val.loc[:,polytomous_cols[j]] = u\n",
    "\n",
    "cramers_v_val.fillna(value=np.nan,inplace=True)\n",
    "plt.figure(figsize=(20,1))\n",
    "sns.heatmap(cramers_v_val,annot=True,fmt='.3f', cmap=\"YlGnBu\")\n",
    "plt.show()"
   ],
   "metadata": {
    "collapsed": false
   }
  },
  {
   "cell_type": "markdown",
   "source": [
    "## Using Scipy Module"
   ],
   "metadata": {
    "collapsed": false
   }
  },
  {
   "cell_type": "code",
   "execution_count": 27,
   "outputs": [
    {
     "data": {
      "text/plain": "Kayıp Durumu                 Var   Yok\nGüvenlik Hizmeti Aboneliği            \nInternet Hizmeti Yok         113  1413\nVar                          295  1724\nYok                         1461  2037",
      "text/html": "<div>\n<style scoped>\n    .dataframe tbody tr th:only-of-type {\n        vertical-align: middle;\n    }\n\n    .dataframe tbody tr th {\n        vertical-align: top;\n    }\n\n    .dataframe thead th {\n        text-align: right;\n    }\n</style>\n<table border=\"1\" class=\"dataframe\">\n  <thead>\n    <tr style=\"text-align: right;\">\n      <th>Kayıp Durumu</th>\n      <th>Var</th>\n      <th>Yok</th>\n    </tr>\n    <tr>\n      <th>Güvenlik Hizmeti Aboneliği</th>\n      <th></th>\n      <th></th>\n    </tr>\n  </thead>\n  <tbody>\n    <tr>\n      <th>Internet Hizmeti Yok</th>\n      <td>113</td>\n      <td>1413</td>\n    </tr>\n    <tr>\n      <th>Var</th>\n      <td>295</td>\n      <td>1724</td>\n    </tr>\n    <tr>\n      <th>Yok</th>\n      <td>1461</td>\n      <td>2037</td>\n    </tr>\n  </tbody>\n</table>\n</div>"
     },
     "metadata": {},
     "output_type": "display_data"
    },
    {
     "data": {
      "text/plain": "<IPython.core.display.Markdown object>",
      "text/markdown": "Association between OnlineSecurity and Target:Churn **0.3474004326740552**"
     },
     "metadata": {},
     "output_type": "display_data"
    }
   ],
   "source": [
    "crosstab = pd.crosstab(df['Güvenlik Hizmeti Aboneliği'], df['Kayıp Durumu'])\n",
    "display(crosstab)\n",
    "printmd(f\"Association between OnlineSecurity and Target:Churn **{stats.contingency.association(crosstab, method='cramer')}**\")"
   ],
   "metadata": {
    "collapsed": false
   }
  },
  {
   "cell_type": "markdown",
   "source": [
    "# 5.3 Uncertainty Coefficient\n"
   ],
   "metadata": {
    "collapsed": false
   }
  },
  {
   "cell_type": "markdown",
   "source": [
    "AKA Theil’s U - an asymmetric measure of association between categorical features\n",
    "\n",
    "It is is based on the conditional entropy between x and y — or in human language, given the value of x, how many possible states does y have, and how often do they occur.\n",
    "\n",
    "Formaly marked as U(x|y); Just like Cramer’s V, the output value is on the range of [0,1], where 0 means that feature y provides no information about feature x, and 1 means that feature y provides full information about features x's value\n",
    "\n",
    "Unlike Cramer’s V, it is asymmetric\n",
    "\n",
    "So we will not lose any valuable information unlike symmetric tests"
   ],
   "metadata": {
    "collapsed": false
   }
  },
  {
   "cell_type": "code",
   "execution_count": 28,
   "outputs": [
    {
     "data": {
      "text/plain": "<Figure size 2000x100 with 2 Axes>",
      "image/png": "[encoded data removed]"
     },
     "metadata": {},
     "output_type": "display_data"
    },
    {
     "data": {
      "text/plain": "<IPython.core.display.Markdown object>",
      "text/markdown": "**Contract, OnlineSecurity, TechSupport, tenure-binned are moderately correlated with Churn**"
     },
     "metadata": {},
     "output_type": "display_data"
    }
   ],
   "source": [
    "theilu = pd.DataFrame(index=['Kayıp Durumu'], columns=cat_cols)\n",
    "\n",
    "for j in range(0,len(cat_cols)):\n",
    "    u = theil_u(df['Kayıp Durumu'].tolist(),df[cat_cols[j]].tolist())\n",
    "    theilu.loc[:,cat_cols[j]] = u\n",
    "\n",
    "theilu.fillna(value=np.nan,inplace=True)\n",
    "plt.figure(figsize=(20,1))\n",
    "sns.heatmap(theilu,annot=True,fmt='.2f')\n",
    "plt.show()\n",
    "\n",
    "printmd(\"**Contract, OnlineSecurity, TechSupport, tenure-binned are moderately correlated with Churn**\")"
   ],
   "metadata": {
    "collapsed": false
   }
  },
  {
   "cell_type": "markdown",
   "source": [
    "# 6. Collinearity"
   ],
   "metadata": {
    "collapsed": false
   }
  },
  {
   "cell_type": "markdown",
   "source": [
    "For categorical variables, multicollinearity can be detected with Spearman rank correlation coefficient (ordinal variables) and chi-square test (nominal variables)\n",
    "\n",
    "Spearman's ρ was already performed in a previous section that can be used as a collinearity measure\n",
    "\n",
    "That's why let's just proceed with chi-square here -"
   ],
   "metadata": {
    "collapsed": false
   }
  },
  {
   "cell_type": "markdown",
   "source": [
    "## 6.1 Chi-Square"
   ],
   "metadata": {
    "collapsed": false
   }
  },
  {
   "cell_type": "code",
   "execution_count": 29,
   "outputs": [
    {
     "data": {
      "text/plain": "<IPython.core.display.Markdown object>",
      "text/markdown": "Correlation between **Ödeme Şekli** and **Birden Fazla Abonelik Durumu**"
     },
     "metadata": {},
     "output_type": "display_data"
    },
    {
     "name": "stdout",
     "output_type": "stream",
     "text": [
      "p-value : 1.1367151062831697e-81, degree of freedom: 6\n",
      "probability=0.950, critical=12.592, stat=392.514\n",
      "Dependent (reject H0)\n",
      "significance=0.050, p=0.000\n",
      "Dependent (reject H0)\n",
      "-----------------------------------\n",
      "\n"
     ]
    }
   ],
   "source": [
    "calculate_chi_square('Ödeme Şekli','Birden Fazla Abonelik Durumu')"
   ],
   "metadata": {
    "collapsed": false
   }
  },
  {
   "cell_type": "code",
   "execution_count": 30,
   "outputs": [
    {
     "data": {
      "text/plain": "<IPython.core.display.Markdown object>",
      "text/markdown": "Correlation between **Ödeme Şekli** and **Ev Telefonu Aboneliği**"
     },
     "metadata": {},
     "output_type": "display_data"
    },
    {
     "name": "stdout",
     "output_type": "stream",
     "text": [
      "p-value : 0.8621473788722152, degree of freedom: 3\n",
      "probability=0.950, critical=7.815, stat=0.747\n",
      "Independent (fail to reject H0)\n",
      "significance=0.050, p=0.862\n",
      "Independent (fail to reject H0)\n",
      "-----------------------------------\n",
      "\n"
     ]
    }
   ],
   "source": [
    "calculate_chi_square('Ödeme Şekli','Ev Telefonu Aboneliği')"
   ],
   "metadata": {
    "collapsed": false
   }
  },
  {
   "cell_type": "code",
   "execution_count": 31,
   "outputs": [
    {
     "data": {
      "text/plain": "<IPython.core.display.Markdown object>",
      "text/markdown": "Correlation between **Ödeme Şekli** and **Sözleşme Süresi**"
     },
     "metadata": {},
     "output_type": "display_data"
    },
    {
     "name": "stdout",
     "output_type": "stream",
     "text": [
      "p-value : 4.067638353787387e-213, degree of freedom: 6\n",
      "probability=0.950, critical=12.592, stat=1001.582\n",
      "Dependent (reject H0)\n",
      "significance=0.050, p=0.000\n",
      "Dependent (reject H0)\n",
      "-----------------------------------\n",
      "\n"
     ]
    }
   ],
   "source": [
    "calculate_chi_square('Ödeme Şekli','Sözleşme Süresi')"
   ],
   "metadata": {
    "collapsed": false
   }
  }
 ],
 "metadata": {
  "kernelspec": {
   "display_name": "Python 3",
   "language": "python",
   "name": "python3"
  },
  "language_info": {
   "codemirror_mode": {
    "name": "ipython",
    "version": 2
   },
   "file_extension": ".py",
   "mimetype": "text/x-python",
   "name": "python",
   "nbconvert_exporter": "python",
   "pygments_lexer": "ipython2",
   "version": "2.7.6"
  }
 },
 "nbformat": 4,
 "nbformat_minor": 0
}
