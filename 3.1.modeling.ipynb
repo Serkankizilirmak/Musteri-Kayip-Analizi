{
 "cells": [
  {
   "cell_type": "code",
   "execution_count": 33,
   "outputs": [
    {
     "data": {
      "text/html": "        <script type=\"text/javascript\">\n        window.PlotlyConfig = {MathJaxConfig: 'local'};\n        if (window.MathJax && window.MathJax.Hub && window.MathJax.Hub.Config) {window.MathJax.Hub.Config({SVG: {font: \"STIX-Web\"}});}\n        if (typeof require !== 'undefined') {\n        require.undef(\"plotly\");\n        requirejs.config({\n            paths: {\n                'plotly': ['https://cdn.plot.ly/plotly-2.16.1.min']\n            }\n        });\n        require(['plotly'], function(Plotly) {\n            window._Plotly = Plotly;\n        });\n        }\n        </script>\n        "
     },
     "metadata": {},
     "output_type": "display_data"
    }
   ],
   "source": [
    "%run main.py\n",
    "%run modeling.py\n",
    "%run EDAmain.py"
   ],
   "metadata": {
    "collapsed": false
   }
  },
  {
   "cell_type": "markdown",
   "source": [
    "# İçindekiler\n",
    "\n",
    "#### 1- Configurations\n",
    "#### 2- Data Preparation\n",
    "###### 2.1- Prepare Train/Test dataset\n",
    "###### 2.2- Encoding & Scaling\n",
    "#### 3- Modeling\n",
    "###### 3.1 Utility Functions\n",
    "###### 3.2 CatBoost\n",
    "###### 3.3 XGBoost\n",
    "###### 3.4 LGBM\n",
    "###### 3.5 Stacking Ensemble\n",
    "#### 4- Load Model"
   ],
   "metadata": {
    "collapsed": false
   }
  },
  {
   "cell_type": "code",
   "execution_count": 34,
   "outputs": [],
   "source": [
    "df = pd.read_csv(\"D:\\SERKAN KIZILIRMAK\\Python\\AllProjects\\Müşteri Kayıp Analizi (TelcoCustomer)\\Data\\TelcoCustomer(TR)_binned.csv\")"
   ],
   "metadata": {
    "collapsed": false
   }
  },
  {
   "cell_type": "code",
   "execution_count": 35,
   "outputs": [
    {
     "data": {
      "text/plain": "0    Yok\n1    Yok\n2    Var\n3    Yok\n4    Var\nName: Kayıp Durumu, dtype: object"
     },
     "execution_count": 35,
     "metadata": {},
     "output_type": "execute_result"
    }
   ],
   "source": [
    "df[\"Kayıp Durumu\"].head()"
   ],
   "metadata": {
    "collapsed": false
   }
  },
  {
   "cell_type": "code",
   "execution_count": 36,
   "outputs": [],
   "source": [
    "df[\"Kayıp Durumu\"]=[1 if kod==\"Var\" else 0 for kod in df[\"Kayıp Durumu\"]]"
   ],
   "metadata": {
    "collapsed": false
   }
  },
  {
   "cell_type": "markdown",
   "source": [
    "# Configurations"
   ],
   "metadata": {
    "collapsed": false
   }
  },
  {
   "cell_type": "code",
   "execution_count": 37,
   "outputs": [],
   "source": [
    "# seed value\n",
    "SEED = 42\n",
    "\n",
    "# set optuna verbosity level\n",
    "# default 20\n",
    "# optuna_verbosity = optuna.logging.WARNING # https://optuna.readthedocs.io/en/latest/reference/logging.html#module-optuna.logging\n",
    "\n",
    "def seed_everything(seed=42):\n",
    "    random.seed(seed)\n",
    "    os.environ['PYTHONHASHSEED'] = str(seed)\n",
    "    np.random.seed(seed)\n",
    "\n",
    "seed_everything(SEED)"
   ],
   "metadata": {
    "collapsed": false
   }
  },
  {
   "cell_type": "markdown",
   "source": [
    "# Data Preparation"
   ],
   "metadata": {
    "collapsed": false
   }
  },
  {
   "cell_type": "markdown",
   "source": [
    "### 2.1 Prepare Train/Test dataset"
   ],
   "metadata": {
    "collapsed": false
   }
  },
  {
   "cell_type": "code",
   "execution_count": 38,
   "outputs": [
    {
     "name": "stdout",
     "output_type": "stream",
     "text": [
      "Target Labels Ratio in Original Dataset\n",
      "\n",
      "0    0.73463\n",
      "1    0.26537\n",
      "Name: Kayıp Durumu, dtype: float64\n",
      "\n",
      "Target Labels Ratio in Test Dataset\n",
      "\n",
      "0    0.734564\n",
      "1    0.265436\n",
      "Name: Kayıp Durumu, dtype: float64\n"
     ]
    }
   ],
   "source": [
    "strat_split = StratifiedShuffleSplit(n_splits=1, test_size=0.2, random_state=SEED)\n",
    "for train_index, test_index in strat_split.split(df, df[\"Kayıp Durumu\"]):\n",
    "    strat_train_set = df.loc[train_index]\n",
    "    strat_test_set = df.loc[test_index]\n",
    "\n",
    "print('Target Labels Ratio in Original Dataset\\n')\n",
    "print(df[\"Kayıp Durumu\"].value_counts(normalize=True).sort_index())\n",
    "# df_churn_cleaned[\"Churn\"].value_counts() / len(strat_test_set)\n",
    "\n",
    "print('\\nTarget Labels Ratio in Test Dataset\\n')\n",
    "print(strat_test_set[\"Kayıp Durumu\"].value_counts(normalize=True).sort_index())\n",
    "# strat_test_set[\"Churn\"].value_counts() / len(strat_test_set)"
   ],
   "metadata": {
    "collapsed": false
   }
  },
  {
   "cell_type": "code",
   "execution_count": 39,
   "outputs": [
    {
     "data": {
      "text/plain": "((5634, 22), (5634,), (1409, 22), (1409,))"
     },
     "execution_count": 39,
     "metadata": {},
     "output_type": "execute_result"
    }
   ],
   "source": [
    "# train Dataset\n",
    "X = strat_train_set.drop(\"Kayıp Durumu\", axis=1)\n",
    "y = strat_train_set[\"Kayıp Durumu\"].copy()\n",
    "\n",
    "# test dataset\n",
    "y_test = strat_test_set['Kayıp Durumu'].values\n",
    "X_test = strat_test_set.drop('Kayıp Durumu',axis=1)\n",
    "\n",
    "X.shape, y.shape, X_test.shape, y_test.shape"
   ],
   "metadata": {
    "collapsed": false
   }
  },
  {
   "cell_type": "code",
   "execution_count": 40,
   "outputs": [
    {
     "name": "stdout",
     "output_type": "stream",
     "text": [
      "Number of unique entries by column, in ascending order:\n",
      "\n"
     ]
    },
    {
     "data": {
      "text/plain": "                           Columns  Cardinality\n0          Online Fatura(Kağıtsız)            2\n1                     Medeni Durum            2\n2                Bakma Sorumluluğu            2\n3                         Cinsiyet            2\n4            Ev Telefonu Aboneliği            2\n5       Güvenlik Hizmeti Aboneliği            3\n6      Yedekleme Hizmeti Aboneliği            3\n7               Aylık Ücret-binned            3\n8                  Sözleşme Süresi            3\n9     Birden Fazla Abonelik Durumu            3\n10                   Film Abonelği            3\n11                 IP Tv Aboneliği            3\n12             Toplam Ücret-binned            3\n13         Teknik Destek Aboneliği            3\n14      Ekipman Güvenlik Aboneliği            3\n15  Müşteri Olma Süresi(Ay)-binned            3\n16              İnternet Aboneliği            3\n17                     Ödeme Şekli            4",
      "text/html": "<div>\n<style scoped>\n    .dataframe tbody tr th:only-of-type {\n        vertical-align: middle;\n    }\n\n    .dataframe tbody tr th {\n        vertical-align: top;\n    }\n\n    .dataframe thead th {\n        text-align: right;\n    }\n</style>\n<table border=\"1\" class=\"dataframe\">\n  <thead>\n    <tr style=\"text-align: right;\">\n      <th></th>\n      <th>Columns</th>\n      <th>Cardinality</th>\n    </tr>\n  </thead>\n  <tbody>\n    <tr>\n      <th>0</th>\n      <td>Online Fatura(Kağıtsız)</td>\n      <td>2</td>\n    </tr>\n    <tr>\n      <th>1</th>\n      <td>Medeni Durum</td>\n      <td>2</td>\n    </tr>\n    <tr>\n      <th>2</th>\n      <td>Bakma Sorumluluğu</td>\n      <td>2</td>\n    </tr>\n    <tr>\n      <th>3</th>\n      <td>Cinsiyet</td>\n      <td>2</td>\n    </tr>\n    <tr>\n      <th>4</th>\n      <td>Ev Telefonu Aboneliği</td>\n      <td>2</td>\n    </tr>\n    <tr>\n      <th>5</th>\n      <td>Güvenlik Hizmeti Aboneliği</td>\n      <td>3</td>\n    </tr>\n    <tr>\n      <th>6</th>\n      <td>Yedekleme Hizmeti Aboneliği</td>\n      <td>3</td>\n    </tr>\n    <tr>\n      <th>7</th>\n      <td>Aylık Ücret-binned</td>\n      <td>3</td>\n    </tr>\n    <tr>\n      <th>8</th>\n      <td>Sözleşme Süresi</td>\n      <td>3</td>\n    </tr>\n    <tr>\n      <th>9</th>\n      <td>Birden Fazla Abonelik Durumu</td>\n      <td>3</td>\n    </tr>\n    <tr>\n      <th>10</th>\n      <td>Film Abonelği</td>\n      <td>3</td>\n    </tr>\n    <tr>\n      <th>11</th>\n      <td>IP Tv Aboneliği</td>\n      <td>3</td>\n    </tr>\n    <tr>\n      <th>12</th>\n      <td>Toplam Ücret-binned</td>\n      <td>3</td>\n    </tr>\n    <tr>\n      <th>13</th>\n      <td>Teknik Destek Aboneliği</td>\n      <td>3</td>\n    </tr>\n    <tr>\n      <th>14</th>\n      <td>Ekipman Güvenlik Aboneliği</td>\n      <td>3</td>\n    </tr>\n    <tr>\n      <th>15</th>\n      <td>Müşteri Olma Süresi(Ay)-binned</td>\n      <td>3</td>\n    </tr>\n    <tr>\n      <th>16</th>\n      <td>İnternet Aboneliği</td>\n      <td>3</td>\n    </tr>\n    <tr>\n      <th>17</th>\n      <td>Ödeme Şekli</td>\n      <td>4</td>\n    </tr>\n  </tbody>\n</table>\n</div>"
     },
     "metadata": {},
     "output_type": "display_data"
    },
    {
     "name": "stdout",
     "output_type": "stream",
     "text": [
      "Total Categorical Columns 18\n",
      "Total Numerical Columns 3\n"
     ]
    },
    {
     "data": {
      "text/plain": "<IPython.core.display.Markdown object>",
      "text/markdown": "**<br>Dataset has maximum cardinality value of 4 which is comparatively low<br>**"
     },
     "metadata": {},
     "output_type": "display_data"
    }
   ],
   "source": [
    "# Check cardinality of categorical variables :\n",
    "\n",
    "# reinitiate cat_cols because 'customerID' is still included in cat_cols variable\n",
    "cat_cols = list(set(X.columns) - set(X._get_numeric_data().columns))\n",
    "num_cols = list(set(X._get_numeric_data().columns) - set({'65 Yaş Üstü'})) # already converted\n",
    "# Get number of unique entries in each column with categorical data\n",
    "object_nunique = list(map(lambda col: X[col].nunique(), cat_cols))\n",
    "d = dict(zip(cat_cols, object_nunique))\n",
    "\n",
    "print(\"Number of unique entries by column, in ascending order:\\n\")\n",
    "\n",
    "sorted_cols_by_cardinality = sorted(d.items(), key=lambda x: x[1])\n",
    "display(pd.DataFrame(sorted_cols_by_cardinality, columns=['Columns', 'Cardinality']))\n",
    "\n",
    "print(\"Total Categorical Columns\",len(cat_cols))\n",
    "print(\"Total Numerical Columns\",len(num_cols))\n",
    "\n",
    "printmd(\"**<br>Dataset has maximum cardinality value of 4 which is comparatively low<br>**\")"
   ],
   "metadata": {
    "collapsed": false
   }
  },
  {
   "cell_type": "markdown",
   "source": [
    "# 2.2 Encoding & Scaling"
   ],
   "metadata": {
    "collapsed": false
   }
  },
  {
   "cell_type": "code",
   "execution_count": 41,
   "outputs": [],
   "source": [
    "ordinal_encoder = OrdinalEncoder()\n",
    "X[cat_cols] = ordinal_encoder.fit_transform(X[cat_cols])\n",
    "X_test[cat_cols] = ordinal_encoder.transform(X_test[cat_cols])\n",
    "\n",
    "le = LabelEncoder()\n",
    "y = le.fit_transform(y)\n",
    "\n",
    "y_test = le.fit_transform(y_test)\n",
    "\n",
    "\n",
    "num_cols = ['Müşteri Olma Süresi(Ay)', 'Aylık Ücret', 'Toplam Ücret']\n",
    "\n",
    "transformer = RobustScaler()\n",
    "X[num_cols] = transformer.fit_transform(X[num_cols])\n",
    "X_test[num_cols] = transformer.transform(X_test[num_cols])"
   ],
   "metadata": {
    "collapsed": false
   }
  },
  {
   "cell_type": "markdown",
   "source": [
    "Correlation Heatmap\n",
    "Pearson’s R (parametric) is not applicable when the data is categorical\n",
    "\n",
    "Kendall’s Tau is a non-parametric measure of relationships between continuous or ordinal features\n",
    "\n",
    "While Pearson's correlation assesses linear relationships, Spearman's correlation (non -parametric) assesses monotonic relationships (whether linear or not)\n",
    "\n",
    "Most of the features in this dataset are categorical and nominal, so it's ineffective for those non-numerical attributes\n",
    "\n",
    "Moreover, there are only three numerical features which are not normally distributed\n",
    "\n",
    "Therefore, pandas.corr() is not feasible to use for this case"
   ],
   "metadata": {
    "collapsed": false
   }
  },
  {
   "cell_type": "code",
   "execution_count": 42,
   "outputs": [
    {
     "data": {
      "text/plain": "<Figure size 700x500 with 2 Axes>",
      "image/png": "[encoded data removed]"
     },
     "metadata": {},
     "output_type": "display_data"
    },
    {
     "data": {
      "text/plain": "<IPython.core.display.Markdown object>",
      "text/markdown": "**Tenure is moderately correlated Numerical Feature with Target**"
     },
     "metadata": {},
     "output_type": "display_data"
    }
   ],
   "source": [
    "# Correlation Matrix\n",
    "# only numerical output\n",
    "corr_matrix = pd.concat([X[num_cols],strat_train_set[[\"Kayıp Durumu\"]]],axis=1).corr() # 'spearman' / 'pearson' / 'kendall'\n",
    "\n",
    "# Set Up Mask To Hide Upper Triangle\n",
    "mask = np.zeros_like(corr_matrix, dtype=np.bool_)\n",
    "mask[np.triu_indices_from(mask)]= True\n",
    "\n",
    "with sns.axes_style(\"white\"):\n",
    "    f, ax = plt.subplots(figsize=(7, 5))\n",
    "    ax = sns.heatmap(corr_matrix,\n",
    "                      mask = mask,\n",
    "                      square = True,\n",
    "                      linewidths = .5,\n",
    "                      cmap = 'coolwarm',\n",
    "                      cbar_kws = {'shrink': .4,\n",
    "                                'ticks' : [-1, -.5, 0, 0.5, 1]},\n",
    "                      vmin = -1,\n",
    "                      vmax = 1,\n",
    "                      annot = True,\n",
    "                      annot_kws = {'size': 12})\n",
    "\n",
    "#add the column names as labels\n",
    "ax.set_yticklabels(corr_matrix.columns, rotation = 0, fontsize=13)\n",
    "ax.set_xticklabels(corr_matrix.columns, fontsize=13)\n",
    "\n",
    "sns.set_style({'xtick.bottom': True}, {'ytick.left': True})\n",
    "plt.show()\n",
    "\n",
    "printmd(\"**Tenure is moderately correlated Numerical Feature with Target**\")"
   ],
   "metadata": {
    "collapsed": false
   }
  },
  {
   "cell_type": "markdown",
   "source": [
    "# 3- Modeling"
   ],
   "metadata": {
    "collapsed": false
   }
  },
  {
   "cell_type": "code",
   "execution_count": null,
   "outputs": [],
   "source": [],
   "metadata": {
    "collapsed": false
   }
  }
 ],
 "metadata": {
  "kernelspec": {
   "display_name": "Python 3",
   "language": "python",
   "name": "python3"
  },
  "language_info": {
   "codemirror_mode": {
    "name": "ipython",
    "version": 2
   },
   "file_extension": ".py",
   "mimetype": "text/x-python",
   "name": "python",
   "nbconvert_exporter": "python",
   "pygments_lexer": "ipython2",
   "version": "2.7.6"
  }
 },
 "nbformat": 4,
 "nbformat_minor": 0
}
