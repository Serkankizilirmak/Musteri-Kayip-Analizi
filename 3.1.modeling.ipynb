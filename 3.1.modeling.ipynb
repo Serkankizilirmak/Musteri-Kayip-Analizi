{
 "cells": [
  {
   "cell_type": "code",
   "execution_count": 120,
   "outputs": [
    {
     "data": {
      "text/html": "        <script type=\"text/javascript\">\n        window.PlotlyConfig = {MathJaxConfig: 'local'};\n        if (window.MathJax && window.MathJax.Hub && window.MathJax.Hub.Config) {window.MathJax.Hub.Config({SVG: {font: \"STIX-Web\"}});}\n        if (typeof require !== 'undefined') {\n        require.undef(\"plotly\");\n        requirejs.config({\n            paths: {\n                'plotly': ['https://cdn.plot.ly/plotly-2.12.1.min']\n            }\n        });\n        require(['plotly'], function(Plotly) {\n            window._Plotly = Plotly;\n        });\n        }\n        </script>\n        "
     },
     "metadata": {},
     "output_type": "display_data"
    }
   ],
   "source": [
    "%run main.py\n",
    "%run modeling.py\n",
    "%run EDAmain.py"
   ],
   "metadata": {
    "collapsed": false
   }
  },
  {
   "cell_type": "markdown",
   "source": [
    "# İçindekiler\n",
    "\n",
    "#### 1- Configurations\n",
    "#### 2- Data Preparation\n",
    "###### 2.1- Prepare Train/Test dataset\n",
    "###### 2.2- Encoding & Scaling\n",
    "#### 3- Modeling\n",
    "###### 3.1 Utility Functions\n",
    "###### 3.2 CatBoost\n",
    "###### 3.3 XGBoost\n",
    "###### 3.4 LGBM\n",
    "###### 3.5 Stacking Ensemble\n",
    "#### 4- Load Model"
   ],
   "metadata": {
    "collapsed": false
   }
  },
  {
   "cell_type": "code",
   "execution_count": 96,
   "outputs": [],
   "source": [
    "df = pd.read_csv(\"D:\\SERKAN KIZILIRMAK\\Python\\AllProjects\\Müşteri Kayıp Analizi (TelcoCustomer)\\Data\\TelcoCustomer(TR)_binned.csv\")"
   ],
   "metadata": {
    "collapsed": false
   }
  },
  {
   "cell_type": "code",
   "execution_count": 97,
   "outputs": [
    {
     "data": {
      "text/plain": "0    Yok\n1    Yok\n2    Var\n3    Yok\n4    Var\nName: Kayıp Durumu, dtype: object"
     },
     "execution_count": 97,
     "metadata": {},
     "output_type": "execute_result"
    }
   ],
   "source": [
    "df[\"Kayıp Durumu\"].head()"
   ],
   "metadata": {
    "collapsed": false
   }
  },
  {
   "cell_type": "code",
   "execution_count": 98,
   "outputs": [],
   "source": [
    "df[\"Kayıp Durumu\"]=[1 if kod==\"Var\" else 0 for kod in df[\"Kayıp Durumu\"]]"
   ],
   "metadata": {
    "collapsed": false
   }
  },
  {
   "cell_type": "markdown",
   "source": [
    "# Configurations"
   ],
   "metadata": {
    "collapsed": false
   }
  },
  {
   "cell_type": "code",
   "execution_count": 98,
   "outputs": [],
   "source": [],
   "metadata": {
    "collapsed": false
   }
  },
  {
   "cell_type": "markdown",
   "source": [
    "# Data Preparation"
   ],
   "metadata": {
    "collapsed": false
   }
  },
  {
   "cell_type": "markdown",
   "source": [
    "### 2.1 Prepare Train/Test dataset"
   ],
   "metadata": {
    "collapsed": false
   }
  },
  {
   "cell_type": "code",
   "execution_count": 99,
   "outputs": [
    {
     "name": "stdout",
     "output_type": "stream",
     "text": [
      "Target Labels Ratio in Original Dataset\n",
      "\n",
      "0    0.73463\n",
      "1    0.26537\n",
      "Name: Kayıp Durumu, dtype: float64\n",
      "\n",
      "Target Labels Ratio in Test Dataset\n",
      "\n",
      "0    0.734564\n",
      "1    0.265436\n",
      "Name: Kayıp Durumu, dtype: float64\n"
     ]
    }
   ],
   "source": [
    "strat_split = StratifiedShuffleSplit(n_splits=1, test_size=0.2, random_state=SEED)\n",
    "for train_index, test_index in strat_split.split(df, df[\"Kayıp Durumu\"]):\n",
    "    strat_train_set = df.loc[train_index]\n",
    "    strat_test_set = df.loc[test_index]\n",
    "\n",
    "print('Target Labels Ratio in Original Dataset\\n')\n",
    "print(df[\"Kayıp Durumu\"].value_counts(normalize=True).sort_index())\n",
    "# df_churn_cleaned[\"Churn\"].value_counts() / len(strat_test_set)\n",
    "\n",
    "print('\\nTarget Labels Ratio in Test Dataset\\n')\n",
    "print(strat_test_set[\"Kayıp Durumu\"].value_counts(normalize=True).sort_index())\n",
    "# strat_test_set[\"Churn\"].value_counts() / len(strat_test_set)"
   ],
   "metadata": {
    "collapsed": false
   }
  },
  {
   "cell_type": "code",
   "execution_count": 100,
   "outputs": [
    {
     "data": {
      "text/plain": "((5634, 22), (5634,), (1409, 22), (1409,))"
     },
     "execution_count": 100,
     "metadata": {},
     "output_type": "execute_result"
    }
   ],
   "source": [
    "# train Dataset\n",
    "X = strat_train_set.drop(\"Kayıp Durumu\", axis=1)\n",
    "y = strat_train_set[\"Kayıp Durumu\"].copy()\n",
    "\n",
    "# test dataset\n",
    "y_test = strat_test_set['Kayıp Durumu'].values\n",
    "X_test = strat_test_set.drop('Kayıp Durumu',axis=1)\n",
    "\n",
    "X.shape, y.shape, X_test.shape, y_test.shape"
   ],
   "metadata": {
    "collapsed": false
   }
  },
  {
   "cell_type": "code",
   "execution_count": 101,
   "outputs": [
    {
     "name": "stdout",
     "output_type": "stream",
     "text": [
      "Number of unique entries by column, in ascending order:\n",
      "\n"
     ]
    },
    {
     "data": {
      "text/plain": "                           Columns  Cardinality\n0                         Cinsiyet            2\n1                     Medeni Durum            2\n2          Online Fatura(Kağıtsız)            2\n3                Bakma Sorumluluğu            2\n4            Ev Telefonu Aboneliği            2\n5   Müşteri Olma Süresi(Ay)-binned            3\n6          Teknik Destek Aboneliği            3\n7     Birden Fazla Abonelik Durumu            3\n8       Güvenlik Hizmeti Aboneliği            3\n9      Yedekleme Hizmeti Aboneliği            3\n10                 Sözleşme Süresi            3\n11                 IP Tv Aboneliği            3\n12             Toplam Ücret-binned            3\n13              İnternet Aboneliği            3\n14              Aylık Ücret-binned            3\n15                   Film Abonelği            3\n16      Ekipman Güvenlik Aboneliği            3\n17                     Ödeme Şekli            4",
      "text/html": "<div>\n<style scoped>\n    .dataframe tbody tr th:only-of-type {\n        vertical-align: middle;\n    }\n\n    .dataframe tbody tr th {\n        vertical-align: top;\n    }\n\n    .dataframe thead th {\n        text-align: right;\n    }\n</style>\n<table border=\"1\" class=\"dataframe\">\n  <thead>\n    <tr style=\"text-align: right;\">\n      <th></th>\n      <th>Columns</th>\n      <th>Cardinality</th>\n    </tr>\n  </thead>\n  <tbody>\n    <tr>\n      <th>0</th>\n      <td>Cinsiyet</td>\n      <td>2</td>\n    </tr>\n    <tr>\n      <th>1</th>\n      <td>Medeni Durum</td>\n      <td>2</td>\n    </tr>\n    <tr>\n      <th>2</th>\n      <td>Online Fatura(Kağıtsız)</td>\n      <td>2</td>\n    </tr>\n    <tr>\n      <th>3</th>\n      <td>Bakma Sorumluluğu</td>\n      <td>2</td>\n    </tr>\n    <tr>\n      <th>4</th>\n      <td>Ev Telefonu Aboneliği</td>\n      <td>2</td>\n    </tr>\n    <tr>\n      <th>5</th>\n      <td>Müşteri Olma Süresi(Ay)-binned</td>\n      <td>3</td>\n    </tr>\n    <tr>\n      <th>6</th>\n      <td>Teknik Destek Aboneliği</td>\n      <td>3</td>\n    </tr>\n    <tr>\n      <th>7</th>\n      <td>Birden Fazla Abonelik Durumu</td>\n      <td>3</td>\n    </tr>\n    <tr>\n      <th>8</th>\n      <td>Güvenlik Hizmeti Aboneliği</td>\n      <td>3</td>\n    </tr>\n    <tr>\n      <th>9</th>\n      <td>Yedekleme Hizmeti Aboneliği</td>\n      <td>3</td>\n    </tr>\n    <tr>\n      <th>10</th>\n      <td>Sözleşme Süresi</td>\n      <td>3</td>\n    </tr>\n    <tr>\n      <th>11</th>\n      <td>IP Tv Aboneliği</td>\n      <td>3</td>\n    </tr>\n    <tr>\n      <th>12</th>\n      <td>Toplam Ücret-binned</td>\n      <td>3</td>\n    </tr>\n    <tr>\n      <th>13</th>\n      <td>İnternet Aboneliği</td>\n      <td>3</td>\n    </tr>\n    <tr>\n      <th>14</th>\n      <td>Aylık Ücret-binned</td>\n      <td>3</td>\n    </tr>\n    <tr>\n      <th>15</th>\n      <td>Film Abonelği</td>\n      <td>3</td>\n    </tr>\n    <tr>\n      <th>16</th>\n      <td>Ekipman Güvenlik Aboneliği</td>\n      <td>3</td>\n    </tr>\n    <tr>\n      <th>17</th>\n      <td>Ödeme Şekli</td>\n      <td>4</td>\n    </tr>\n  </tbody>\n</table>\n</div>"
     },
     "metadata": {},
     "output_type": "display_data"
    },
    {
     "name": "stdout",
     "output_type": "stream",
     "text": [
      "Total Categorical Columns 18\n",
      "Total Numerical Columns 3\n"
     ]
    },
    {
     "data": {
      "text/plain": "<IPython.core.display.Markdown object>",
      "text/markdown": "**<br>Dataset has maximum cardinality value of 4 which is comparatively low<br>**"
     },
     "metadata": {},
     "output_type": "display_data"
    }
   ],
   "source": [
    "# Check cardinality of categorical variables :\n",
    "\n",
    "# reinitiate cat_cols because 'customerID' is still included in cat_cols variable\n",
    "cat_cols = list(set(X.columns) - set(X._get_numeric_data().columns))\n",
    "num_cols = list(set(X._get_numeric_data().columns) - set({'65 Yaş Üstü'})) # already converted\n",
    "# Get number of unique entries in each column with categorical data\n",
    "object_nunique = list(map(lambda col: X[col].nunique(), cat_cols))\n",
    "d = dict(zip(cat_cols, object_nunique))\n",
    "\n",
    "print(\"Number of unique entries by column, in ascending order:\\n\")\n",
    "\n",
    "sorted_cols_by_cardinality = sorted(d.items(), key=lambda x: x[1])\n",
    "display(pd.DataFrame(sorted_cols_by_cardinality, columns=['Columns', 'Cardinality']))\n",
    "\n",
    "print(\"Total Categorical Columns\",len(cat_cols))\n",
    "print(\"Total Numerical Columns\",len(num_cols))\n",
    "\n",
    "printmd(\"**<br>Dataset has maximum cardinality value of 4 which is comparatively low<br>**\")"
   ],
   "metadata": {
    "collapsed": false
   }
  },
  {
   "cell_type": "markdown",
   "source": [
    "# 2.2 Encoding & Scaling"
   ],
   "metadata": {
    "collapsed": false
   }
  },
  {
   "cell_type": "code",
   "execution_count": 102,
   "outputs": [],
   "source": [
    "ordinal_encoder = OrdinalEncoder()\n",
    "X[cat_cols] = ordinal_encoder.fit_transform(X[cat_cols])\n",
    "X_test[cat_cols] = ordinal_encoder.transform(X_test[cat_cols])\n",
    "\n",
    "le = LabelEncoder()\n",
    "y = le.fit_transform(y)\n",
    "\n",
    "y_test = le.fit_transform(y_test)\n",
    "\n",
    "\n",
    "num_cols = ['Müşteri Olma Süresi(Ay)', 'Aylık Ücret', 'Toplam Ücret']\n",
    "\n",
    "transformer = RobustScaler()\n",
    "X[num_cols] = transformer.fit_transform(X[num_cols])\n",
    "X_test[num_cols] = transformer.transform(X_test[num_cols])"
   ],
   "metadata": {
    "collapsed": false
   }
  },
  {
   "cell_type": "markdown",
   "source": [
    "Correlation Heatmap\n",
    "Pearson’s R (parametric) is not applicable when the data is categorical\n",
    "\n",
    "Kendall’s Tau is a non-parametric measure of relationships between continuous or ordinal features\n",
    "\n",
    "While Pearson's correlation assesses linear relationships, Spearman's correlation (non -parametric) assesses monotonic relationships (whether linear or not)\n",
    "\n",
    "Most of the features in this dataset are categorical and nominal, so it's ineffective for those non-numerical attributes\n",
    "\n",
    "Moreover, there are only three numerical features which are not normally distributed\n",
    "\n",
    "Therefore, pandas.corr() is not feasible to use for this case"
   ],
   "metadata": {
    "collapsed": false
   }
  },
  {
   "cell_type": "code",
   "execution_count": 103,
   "outputs": [
    {
     "data": {
      "text/plain": "<Figure size 700x500 with 2 Axes>",
      "image/png": "[encoded data removed]"
     },
     "metadata": {},
     "output_type": "display_data"
    },
    {
     "data": {
      "text/plain": "<IPython.core.display.Markdown object>",
      "text/markdown": "**Tenure is moderately correlated Numerical Feature with Target**"
     },
     "metadata": {},
     "output_type": "display_data"
    }
   ],
   "source": [
    "# Correlation Matrix\n",
    "# only numerical output\n",
    "corr_matrix = pd.concat([X[num_cols],strat_train_set[[\"Kayıp Durumu\"]]],axis=1).corr() # 'spearman' / 'pearson' / 'kendall'\n",
    "\n",
    "# Set Up Mask To Hide Upper Triangle\n",
    "mask = np.zeros_like(corr_matrix, dtype=np.bool_)\n",
    "mask[np.triu_indices_from(mask)]= True\n",
    "\n",
    "with sns.axes_style(\"white\"):\n",
    "    f, ax = plt.subplots(figsize=(7, 5))\n",
    "    ax = sns.heatmap(corr_matrix,\n",
    "                      mask = mask,\n",
    "                      square = True,\n",
    "                      linewidths = .5,\n",
    "                      cmap = 'coolwarm',\n",
    "                      cbar_kws = {'shrink': .4,\n",
    "                                'ticks' : [-1, -.5, 0, 0.5, 1]},\n",
    "                      vmin = -1,\n",
    "                      vmax = 1,\n",
    "                      annot = True,\n",
    "                      annot_kws = {'size': 12})\n",
    "\n",
    "#add the column names as labels\n",
    "ax.set_yticklabels(corr_matrix.columns, rotation = 0, fontsize=13)\n",
    "ax.set_xticklabels(corr_matrix.columns, fontsize=13)\n",
    "\n",
    "sns.set_style({'xtick.bottom': True}, {'ytick.left': True})\n",
    "plt.show()\n",
    "\n",
    "printmd(\"**Tenure is moderately correlated Numerical Feature with Target**\")"
   ],
   "metadata": {
    "collapsed": false
   }
  },
  {
   "cell_type": "markdown",
   "source": [
    "# 3- Modeling"
   ],
   "metadata": {
    "collapsed": false
   }
  },
  {
   "cell_type": "markdown",
   "source": [
    "3.1.1 Utility Function"
   ],
   "metadata": {
    "collapsed": false
   }
  },
  {
   "cell_type": "code",
   "execution_count": 104,
   "outputs": [],
   "source": [
    "def train_model(model, model_name, X, y, X_test, fold):\n",
    "    printmd(f'**{model_name} Init**')\n",
    "    auc_scores = []\n",
    "\n",
    "    test_preds=None\n",
    "\n",
    "    strat_kf = StratifiedKFold(n_splits=fold, random_state=SEED, shuffle=True)\n",
    "\n",
    "    for fold, (train_index, valid_index) in enumerate(strat_kf.split(X, y)):\n",
    "        X_train, X_valid = X.iloc[train_index] , X.iloc[valid_index]\n",
    "        y_train, y_valid = y[train_index] , y[valid_index]\n",
    "\n",
    "\n",
    "        #### to SMOTE sampling\n",
    "        # sm = SMOTE(sampling_strategy='all', random_state=SEED)\n",
    "        # X_train_oversampled, y_train_oversampled = sm.fit_resample(X_train, y_train)\n",
    "        # X_val_oversampled, y_val_oversampled = sm.fit_resample(X_valid, y_valid)\n",
    "\n",
    "        eval_set = [(X_valid, y_valid)]\n",
    "\n",
    "        print(\"-\" * 50)\n",
    "        print(f\"Fold {fold + 1}\")\n",
    "\n",
    "        if model_name == 'cat':\n",
    "            model.fit(X_train, y_train, eval_set= eval_set, verbose=False)\n",
    "        elif model_name == 'xgb':\n",
    "            model.fit(X_train, y_train, eval_set= eval_set, eval_metric = 'auc', verbose = False, early_stopping_rounds = 200)\n",
    "        else:\n",
    "            model.fit(X_train, y_train, eval_set= eval_set, eval_metric = 'auc', verbose = False, early_stopping_rounds = 200)\n",
    "\n",
    "\n",
    "        val_pred = model.predict_proba(X_valid)[:,1]\n",
    "        auc = roc_auc_score(y_valid, val_pred) # AUROC requires probabilities of the predictions\n",
    "        print(\"AUC Score : \",auc)\n",
    "\n",
    "        auc_scores.append(auc)\n",
    "\n",
    "        if test_preds is None:\n",
    "            test_preds = model.predict_proba(X_test)[:,1]\n",
    "        else:\n",
    "            test_preds += model.predict_proba(X_test)[:,1]\n",
    "\n",
    "\n",
    "        del X_train, y_train, X_valid, y_valid\n",
    "        gc.collect()\n",
    "\n",
    "    print(\"-\" * 50)\n",
    "    test_preds /= fold\n",
    "\n",
    "    print(f'Train : Base Model - {model_name} - AUC score : mean ---> {np.mean(auc_scores)}, std ---> {np.std(auc_scores)}')\n",
    "\n",
    "    # evaluation on test set\n",
    "    print(f'Test  : Base Model - {model_name} - AUC score : {roc_auc_score(y_test, test_preds)}')\n",
    "\n",
    "    del test_preds\n",
    "    gc.collect()\n",
    "\n",
    "    print('Done!')\n",
    "\n",
    "    if model_name == 'cat':\n",
    "        plot_feature_importance(model.get_feature_importance(), X.columns, model_name)\n",
    "        model.save_model(\"model_catboost\")\n",
    "\n",
    "    elif model_name == 'xgb':\n",
    "        plot_feature_importance(model.feature_importances_, X.columns, model_name)\n",
    "\n",
    "        # https://xgboost.readthedocs.io/en/latest/tutorials/saving_model.html\n",
    "        # save the model\n",
    "        model.save_model('model_xgb.json')\n",
    "\n",
    "    else:\n",
    "        plot_feature_importance(model.feature_importances_, X.columns, model_name)\n",
    "        model.booster_.save_model('model_lgbm.txt')\n",
    "        joblib.dump(model, 'model_lgbm.pkl')"
   ],
   "metadata": {
    "collapsed": false
   }
  },
  {
   "cell_type": "markdown",
   "source": [
    "3.1.2. Model Interpretation"
   ],
   "metadata": {
    "collapsed": false
   }
  },
  {
   "cell_type": "code",
   "execution_count": 105,
   "outputs": [],
   "source": [
    "def plot_feature_importance(importance,names,model_type):\n",
    "\n",
    "    #Create arrays from feature importance and feature names\n",
    "    feature_importance = np.array(importance)\n",
    "    feature_names = np.array(names)\n",
    "\n",
    "    #Create a DataFrame using a Dictionary\n",
    "    data={'feature_names':feature_names,'feature_importance':feature_importance}\n",
    "    fi_df = pd.DataFrame(data)\n",
    "\n",
    "    #Sort the DataFrame in order decreasing feature importance\n",
    "    fi_df.sort_values(by=['feature_importance'], ascending=False,inplace=True)\n",
    "\n",
    "    #Define size of bar plot\n",
    "    plt.figure(figsize=(10,8),dpi=100)\n",
    "    #Plot Searborn bar chart\n",
    "    sns.barplot(x=fi_df['feature_importance'], y=fi_df['feature_names'])\n",
    "    #Add chart labels\n",
    "    plt.title(model_type + ' Feature Importance')\n",
    "    plt.xlabel('Feature Importance')\n",
    "    plt.ylabel('Feature Names')\n",
    "\n",
    "# credit : https://www.analyseup.com/learn-python-for-data-science/python-random-forest-feature-importance-plot.html"
   ],
   "metadata": {
    "collapsed": false
   }
  },
  {
   "cell_type": "markdown",
   "source": [
    "# 3.2 Catboost"
   ],
   "metadata": {
    "collapsed": false
   }
  },
  {
   "cell_type": "code",
   "execution_count": 106,
   "outputs": [],
   "source": [
    "#### 3.2.1 Training"
   ],
   "metadata": {
    "collapsed": false
   }
  },
  {
   "cell_type": "code",
   "execution_count": 111,
   "outputs": [
    {
     "data": {
      "text/plain": "<IPython.core.display.Markdown object>",
      "text/markdown": "**cat Init**"
     },
     "metadata": {},
     "output_type": "display_data"
    },
    {
     "name": "stdout",
     "output_type": "stream",
     "text": [
      "--------------------------------------------------\n",
      "Fold 1\n",
      "AUC Score :  0.8266505636070854\n",
      "--------------------------------------------------\n",
      "Fold 2\n",
      "AUC Score :  0.8639210950080514\n",
      "--------------------------------------------------\n",
      "Fold 3\n",
      "AUC Score :  0.8377536231884058\n",
      "--------------------------------------------------\n",
      "Fold 4\n",
      "AUC Score :  0.8321014492753624\n",
      "--------------------------------------------------\n",
      "Fold 5\n",
      "AUC Score :  0.842217034659404\n",
      "--------------------------------------------------\n",
      "Fold 6\n",
      "AUC Score :  0.8562315598352949\n",
      "--------------------------------------------------\n",
      "Fold 7\n",
      "AUC Score :  0.8686817105988394\n",
      "--------------------------------------------------\n",
      "Fold 8\n",
      "AUC Score :  0.8616622896605388\n",
      "--------------------------------------------------\n",
      "Fold 9\n",
      "AUC Score :  0.8550319359335992\n",
      "--------------------------------------------------\n",
      "Fold 10\n",
      "AUC Score :  0.8711702986279257\n",
      "--------------------------------------------------\n",
      "Train : Base Model - cat - AUC score : mean ---> 0.8515421560394507, std ---> 0.014978206162214697\n",
      "Test  : Base Model - cat - AUC score : 0.8479668810870855\n",
      "Done!\n",
      "Wall time: 1min 54s\n"
     ]
    },
    {
     "data": {
      "text/plain": "<Figure size 1000x800 with 1 Axes>",
      "image/png": "[encoded data removed]"
     },
     "metadata": {},
     "output_type": "display_data"
    }
   ],
   "source": [
    "%%time\n",
    "# https://catboost.ai/en/docs/concepts/speed-up-training\n",
    "\n",
    "# this dataset is fairly small, so catboost runs super slow on GPU\n",
    "# https://github.com/catboost/catboost/issues/1034\n",
    "\n",
    "\n",
    "fold_num = 10\n",
    "\n",
    "# convert datatype to integer -> use 'cat_features' parameter\n",
    "# it does not improve score, feel free to try it out\n",
    "# for c in cat_cols:\n",
    "#     X[c] = X[c].astype(np.int)\n",
    "#     X_test[c] = X_test[c].astype(np.int)\n",
    "\n",
    "cat_params  = {\n",
    "    'eval_metric':\"AUC\",\n",
    "    'loss_function': 'logloss',\n",
    "    'objective': 'Logloss',\n",
    "    'boosting_type': 'Plain',\n",
    "    'bootstrap_type': 'Bayesian',\n",
    "    'colsample_bylevel': 0.013457968759952536, # does not support on gpu https://catboost.ai/en/docs/references/training-parameters/common#rsm\n",
    "    'depth': 6,\n",
    "    'iterations': 6888,\n",
    "    'learning_rate': 0.05683590866750785,\n",
    "    'random_strength': 18,\n",
    "    'l2_leaf_reg': 50,\n",
    "    'random_state': SEED,\n",
    "#     'task_type':\"GPU\",\n",
    "#     'devices' : '0',\n",
    "    # 'cat_features':cat_cols\n",
    "    }\n",
    "\n",
    "\n",
    "cat = CatBoostClassifier(**cat_params)\n",
    "\n",
    "train_model(cat, 'cat', X, y, X_test, fold_num)"
   ],
   "metadata": {
    "collapsed": false
   }
  },
  {
   "cell_type": "markdown",
   "source": [
    "# 3.2.2 Optuna Tunning"
   ],
   "metadata": {
    "collapsed": false
   }
  },
  {
   "cell_type": "code",
   "execution_count": 122,
   "outputs": [
    {
     "name": "stdout",
     "output_type": "stream",
     "text": [
      "Wall time: 0 ns\n"
     ]
    }
   ],
   "source": [
    "%%time\n",
    "def objective(trial):\n",
    "    X_train, X_test, y_train, y_test = train_test_split(X, y, test_size=0.25, random_state=int(SEED), shuffle=True, stratify=y)\n",
    "\n",
    "    # parameters\n",
    "    params = {\n",
    "        'iterations' : trial.suggest_int('iterations', 6000, 8000),\n",
    "        'depth' : trial.suggest_int('depth', 3, 12),\n",
    "        'learning_rate' :trial.suggest_loguniform('learning_rate', 1e-3, 1e-1),\n",
    "        \"objective\": trial.suggest_categorical(\"objective\", [\"Logloss\"]),\n",
    "        'colsample_bylevel': trial.suggest_float(\"colsample_bylevel\", 0.01, 0.1), #  # does not support on gpu\n",
    "        'random_strength' :trial.suggest_int('random_strength', 0, 100),\n",
    "        \"boosting_type\": trial.suggest_categorical(\"boosting_type\", [\"Ordered\", \"Plain\"]),\n",
    "        \"bootstrap_type\": trial.suggest_categorical(\n",
    "        \"bootstrap_type\", [\"Bayesian\", \"Bernoulli\", \"MVS\"]  # https://catboost.ai/en/docs/concepts/algorithm-main-stages_bootstrap-options\n",
    "        ),\n",
    "        'random_state': trial.suggest_categorical('random_state',[SEED]),\n",
    "    }\n",
    "\n",
    "    # learning\n",
    "    model = CatBoostClassifier(\n",
    "        loss_function=\"Logloss\",\n",
    "        eval_metric=\"AUC\",\n",
    "        # task_type=\"GPU\",\n",
    "        l2_leaf_reg=50,\n",
    "#         border_count=64,\n",
    "        **params\n",
    "    )\n",
    "    model.fit(X_train, y_train,\n",
    "              verbose=False) # 1000\n",
    "    val_preds = model.predict_proba(X_test)[:,1]\n",
    "    auc = roc_auc_score(y_test, val_preds) # AUROC requires probabilities of the predictions\n",
    "    # print(\"AUC Score : \",auc) # check the auc score in each trial\n",
    "\n",
    "    return auc"
   ],
   "metadata": {
    "collapsed": false
   }
  },
  {
   "cell_type": "code",
   "execution_count": 123,
   "outputs": [
    {
     "name": "stderr",
     "output_type": "stream",
     "text": [
      "\u001B[32m[I 2023-02-05 16:40:54,288]\u001B[0m A new study created in memory with name: no-name-58b5573b-6662-4f67-aa3a-242046c75929\u001B[0m\n",
      "\u001B[32m[I 2023-02-05 16:41:15,408]\u001B[0m Trial 1 finished with value: 0.8257795344751866 and parameters: {'iterations': 6848, 'depth': 10, 'learning_rate': 0.03602708852995868, 'objective': 'Logloss', 'colsample_bylevel': 0.044899098737138196, 'random_strength': 70, 'boosting_type': 'Plain', 'bootstrap_type': 'Bayesian', 'random_state': 42}. Best is trial 1 with value: 0.8257795344751866.\u001B[0m\n",
      "\u001B[32m[I 2023-02-05 16:41:15,683]\u001B[0m Trial 0 finished with value: 0.8326254876126998 and parameters: {'iterations': 7241, 'depth': 3, 'learning_rate': 0.06842666628416849, 'objective': 'Logloss', 'colsample_bylevel': 0.03141530957358269, 'random_strength': 7, 'boosting_type': 'Plain', 'bootstrap_type': 'MVS', 'random_state': 42}. Best is trial 0 with value: 0.8326254876126998.\u001B[0m\n",
      "\u001B[32m[I 2023-02-05 16:41:16,915]\u001B[0m Trial 5 finished with value: 0.8347399829497015 and parameters: {'iterations': 7474, 'depth': 11, 'learning_rate': 0.010061029106754776, 'objective': 'Logloss', 'colsample_bylevel': 0.04793318753463335, 'random_strength': 22, 'boosting_type': 'Plain', 'bootstrap_type': 'Bernoulli', 'random_state': 42}. Best is trial 5 with value: 0.8347399829497015.\u001B[0m\n",
      "\u001B[32m[I 2023-02-05 16:41:21,409]\u001B[0m Trial 11 finished with value: 0.8395463587279444 and parameters: {'iterations': 7439, 'depth': 7, 'learning_rate': 0.0037356824936295155, 'objective': 'Logloss', 'colsample_bylevel': 0.0533467414826876, 'random_strength': 85, 'boosting_type': 'Plain', 'bootstrap_type': 'Bayesian', 'random_state': 42}. Best is trial 11 with value: 0.8395463587279444.\u001B[0m\n",
      "\u001B[32m[I 2023-02-05 16:41:21,770]\u001B[0m Trial 3 finished with value: 0.8374822392725206 and parameters: {'iterations': 6908, 'depth': 6, 'learning_rate': 0.004167555364933246, 'objective': 'Logloss', 'colsample_bylevel': 0.0721723539687376, 'random_strength': 7, 'boosting_type': 'Plain', 'bootstrap_type': 'Bayesian', 'random_state': 42}. Best is trial 11 with value: 0.8395463587279444.\u001B[0m\n",
      "\u001B[32m[I 2023-02-05 16:41:26,032]\u001B[0m Trial 2 finished with value: 0.8257859929215429 and parameters: {'iterations': 6433, 'depth': 6, 'learning_rate': 0.011619091114553002, 'objective': 'Logloss', 'colsample_bylevel': 0.0970362098772018, 'random_strength': 10, 'boosting_type': 'Plain', 'bootstrap_type': 'MVS', 'random_state': 42}. Best is trial 11 with value: 0.8395463587279444.\u001B[0m\n",
      "\u001B[32m[I 2023-02-05 16:41:29,929]\u001B[0m Trial 4 finished with value: 0.836734351184479 and parameters: {'iterations': 7848, 'depth': 12, 'learning_rate': 0.0013944285672673692, 'objective': 'Logloss', 'colsample_bylevel': 0.0913281108748682, 'random_strength': 95, 'boosting_type': 'Plain', 'bootstrap_type': 'Bernoulli', 'random_state': 42}. Best is trial 11 with value: 0.8395463587279444.\u001B[0m\n",
      "\u001B[32m[I 2023-02-05 16:41:40,097]\u001B[0m Trial 13 finished with value: 0.8408677568524114 and parameters: {'iterations': 6420, 'depth': 8, 'learning_rate': 0.02790710812691182, 'objective': 'Logloss', 'colsample_bylevel': 0.015148287303997116, 'random_strength': 73, 'boosting_type': 'Plain', 'bootstrap_type': 'Bernoulli', 'random_state': 42}. Best is trial 13 with value: 0.8408677568524114.\u001B[0m\n",
      "\u001B[32m[I 2023-02-05 16:41:49,654]\u001B[0m Trial 14 finished with value: 0.8334263349608618 and parameters: {'iterations': 6306, 'depth': 3, 'learning_rate': 0.002024948037354167, 'objective': 'Logloss', 'colsample_bylevel': 0.029549552102226588, 'random_strength': 44, 'boosting_type': 'Plain', 'bootstrap_type': 'Bayesian', 'random_state': 42}. Best is trial 13 with value: 0.8408677568524114.\u001B[0m\n",
      "\u001B[32m[I 2023-02-05 16:42:12,331]\u001B[0m Trial 15 finished with value: 0.8409840088868221 and parameters: {'iterations': 7257, 'depth': 3, 'learning_rate': 0.0035716428046310353, 'objective': 'Logloss', 'colsample_bylevel': 0.058165581097885326, 'random_strength': 86, 'boosting_type': 'Plain', 'bootstrap_type': 'Bernoulli', 'random_state': 42}. Best is trial 15 with value: 0.8409840088868221.\u001B[0m\n",
      "\u001B[32m[I 2023-02-05 16:42:21,282]\u001B[0m Trial 16 finished with value: 0.8386434679273554 and parameters: {'iterations': 7627, 'depth': 6, 'learning_rate': 0.001455389916665753, 'objective': 'Logloss', 'colsample_bylevel': 0.06833177377698162, 'random_strength': 14, 'boosting_type': 'Plain', 'bootstrap_type': 'MVS', 'random_state': 42}. Best is trial 15 with value: 0.8409840088868221.\u001B[0m\n",
      "\u001B[32m[I 2023-02-05 16:42:25,950]\u001B[0m Trial 17 finished with value: 0.83920535276034 and parameters: {'iterations': 7637, 'depth': 3, 'learning_rate': 0.005538702615962594, 'objective': 'Logloss', 'colsample_bylevel': 0.07440866477945843, 'random_strength': 1, 'boosting_type': 'Plain', 'bootstrap_type': 'Bayesian', 'random_state': 42}. Best is trial 15 with value: 0.8409840088868221.\u001B[0m\n",
      "\u001B[32m[I 2023-02-05 16:42:30,035]\u001B[0m Trial 18 finished with value: 0.8391046009971842 and parameters: {'iterations': 7958, 'depth': 10, 'learning_rate': 0.002012112746221975, 'objective': 'Logloss', 'colsample_bylevel': 0.040781233694351576, 'random_strength': 19, 'boosting_type': 'Plain', 'bootstrap_type': 'MVS', 'random_state': 42}. Best is trial 15 with value: 0.8409840088868221.\u001B[0m\n",
      "\u001B[32m[I 2023-02-05 16:42:35,139]\u001B[0m Trial 20 finished with value: 0.8404582913534321 and parameters: {'iterations': 7250, 'depth': 7, 'learning_rate': 0.004722096643907535, 'objective': 'Logloss', 'colsample_bylevel': 0.03330194364528391, 'random_strength': 21, 'boosting_type': 'Plain', 'bootstrap_type': 'Bayesian', 'random_state': 42}. Best is trial 15 with value: 0.8409840088868221.\u001B[0m\n",
      "\u001B[32m[I 2023-02-05 16:44:20,796]\u001B[0m Trial 7 finished with value: 0.8309811671704255 and parameters: {'iterations': 6515, 'depth': 12, 'learning_rate': 0.0012576020634009473, 'objective': 'Logloss', 'colsample_bylevel': 0.038559319277465844, 'random_strength': 36, 'boosting_type': 'Ordered', 'bootstrap_type': 'Bayesian', 'random_state': 42}. Best is trial 15 with value: 0.8409840088868221.\u001B[0m\n",
      "\u001B[32m[I 2023-02-05 16:44:27,258]\u001B[0m Trial 10 finished with value: 0.825031646387145 and parameters: {'iterations': 6013, 'depth': 11, 'learning_rate': 0.05391713483014537, 'objective': 'Logloss', 'colsample_bylevel': 0.07279661559068865, 'random_strength': 55, 'boosting_type': 'Ordered', 'bootstrap_type': 'MVS', 'random_state': 42}. Best is trial 15 with value: 0.8409840088868221.\u001B[0m\n",
      "\u001B[32m[I 2023-02-05 16:44:42,970]\u001B[0m Trial 9 finished with value: 0.8191118344571029 and parameters: {'iterations': 6827, 'depth': 7, 'learning_rate': 0.0681012819578739, 'objective': 'Logloss', 'colsample_bylevel': 0.07271321621930071, 'random_strength': 42, 'boosting_type': 'Ordered', 'bootstrap_type': 'Bayesian', 'random_state': 42}. Best is trial 15 with value: 0.8409840088868221.\u001B[0m\n",
      "\u001B[32m[I 2023-02-05 16:44:43,873]\u001B[0m Trial 6 finished with value: 0.8397155700224754 and parameters: {'iterations': 6738, 'depth': 4, 'learning_rate': 0.005195154615667094, 'objective': 'Logloss', 'colsample_bylevel': 0.06197295044202592, 'random_strength': 64, 'boosting_type': 'Ordered', 'bootstrap_type': 'Bayesian', 'random_state': 42}. Best is trial 15 with value: 0.8409840088868221.\u001B[0m\n",
      "\u001B[32m[I 2023-02-05 16:45:19,160]\u001B[0m Trial 12 finished with value: 0.8350887390529333 and parameters: {'iterations': 6888, 'depth': 7, 'learning_rate': 0.0014857393395267095, 'objective': 'Logloss', 'colsample_bylevel': 0.04078293148929902, 'random_strength': 16, 'boosting_type': 'Ordered', 'bootstrap_type': 'Bayesian', 'random_state': 42}. Best is trial 15 with value: 0.8409840088868221.\u001B[0m\n",
      "\u001B[32m[I 2023-02-05 16:45:35,386]\u001B[0m Trial 22 finished with value: 0.8398705727350229 and parameters: {'iterations': 6063, 'depth': 9, 'learning_rate': 0.024194939621722356, 'objective': 'Logloss', 'colsample_bylevel': 0.013704219075663208, 'random_strength': 66, 'boosting_type': 'Ordered', 'bootstrap_type': 'Bernoulli', 'random_state': 42}. Best is trial 15 with value: 0.8409840088868221.\u001B[0m\n",
      "\u001B[32m[I 2023-02-05 16:45:35,785]\u001B[0m Trial 8 finished with value: 0.8294931411299699 and parameters: {'iterations': 7795, 'depth': 10, 'learning_rate': 0.019167685977779864, 'objective': 'Logloss', 'colsample_bylevel': 0.07221041580922634, 'random_strength': 97, 'boosting_type': 'Ordered', 'bootstrap_type': 'Bayesian', 'random_state': 42}. Best is trial 15 with value: 0.8409840088868221.\u001B[0m\n",
      "\u001B[32m[I 2023-02-05 16:45:50,376]\u001B[0m Trial 23 finished with value: 0.8407050040042366 and parameters: {'iterations': 6077, 'depth': 9, 'learning_rate': 0.021215284186786233, 'objective': 'Logloss', 'colsample_bylevel': 0.011744676246991513, 'random_strength': 68, 'boosting_type': 'Ordered', 'bootstrap_type': 'Bernoulli', 'random_state': 42}. Best is trial 15 with value: 0.8409840088868221.\u001B[0m\n",
      "\u001B[32m[I 2023-02-05 16:45:51,611]\u001B[0m Trial 30 finished with value: 0.8403446226975639 and parameters: {'iterations': 6061, 'depth': 9, 'learning_rate': 0.020795040117444215, 'objective': 'Logloss', 'colsample_bylevel': 0.01178289146395706, 'random_strength': 77, 'boosting_type': 'Plain', 'bootstrap_type': 'Bernoulli', 'random_state': 42}. Best is trial 15 with value: 0.8409840088868221.\u001B[0m\n",
      "\u001B[32m[I 2023-02-05 16:46:07,377]\u001B[0m Trial 24 finished with value: 0.8405474179131469 and parameters: {'iterations': 6607, 'depth': 8, 'learning_rate': 0.018853082809568416, 'objective': 'Logloss', 'colsample_bylevel': 0.015050401820931265, 'random_strength': 68, 'boosting_type': 'Ordered', 'bootstrap_type': 'Bernoulli', 'random_state': 42}. Best is trial 15 with value: 0.8409840088868221.\u001B[0m\n",
      "\u001B[32m[I 2023-02-05 16:46:11,538]\u001B[0m Trial 25 finished with value: 0.8395838177168101 and parameters: {'iterations': 6607, 'depth': 9, 'learning_rate': 0.023278167855020494, 'objective': 'Logloss', 'colsample_bylevel': 0.014305028890395727, 'random_strength': 67, 'boosting_type': 'Ordered', 'bootstrap_type': 'Bernoulli', 'random_state': 42}. Best is trial 15 with value: 0.8409840088868221.\u001B[0m\n",
      "\u001B[32m[I 2023-02-05 16:46:12,816]\u001B[0m Trial 31 finished with value: 0.8408457981348008 and parameters: {'iterations': 7161, 'depth': 5, 'learning_rate': 0.01740919863100717, 'objective': 'Logloss', 'colsample_bylevel': 0.014477011245150634, 'random_strength': 83, 'boosting_type': 'Plain', 'bootstrap_type': 'Bernoulli', 'random_state': 42}. Best is trial 15 with value: 0.8409840088868221.\u001B[0m\n",
      "\u001B[32m[I 2023-02-05 16:46:13,578]\u001B[0m Trial 32 finished with value: 0.8399144901702446 and parameters: {'iterations': 7127, 'depth': 8, 'learning_rate': 0.007891859751059084, 'objective': 'Logloss', 'colsample_bylevel': 0.018068246874469958, 'random_strength': 80, 'boosting_type': 'Plain', 'bootstrap_type': 'Bernoulli', 'random_state': 42}. Best is trial 15 with value: 0.8409840088868221.\u001B[0m\n",
      "\u001B[32m[I 2023-02-05 16:46:25,955]\u001B[0m Trial 19 finished with value: 0.8313893409801336 and parameters: {'iterations': 7574, 'depth': 6, 'learning_rate': 0.015026699961407847, 'objective': 'Logloss', 'colsample_bylevel': 0.07977990198777975, 'random_strength': 7, 'boosting_type': 'Ordered', 'bootstrap_type': 'Bayesian', 'random_state': 42}. Best is trial 15 with value: 0.8409840088868221.\u001B[0m\n",
      "\u001B[32m[I 2023-02-05 16:46:53,362]\u001B[0m Trial 36 finished with value: 0.8372006510113926 and parameters: {'iterations': 6274, 'depth': 5, 'learning_rate': 0.04106363465820867, 'objective': 'Logloss', 'colsample_bylevel': 0.026271311182200767, 'random_strength': 83, 'boosting_type': 'Plain', 'bootstrap_type': 'Bernoulli', 'random_state': 42}. Best is trial 15 with value: 0.8409840088868221.\u001B[0m\n",
      "\u001B[32m[I 2023-02-05 16:47:03,532]\u001B[0m Trial 37 finished with value: 0.8397930713787491 and parameters: {'iterations': 7104, 'depth': 5, 'learning_rate': 0.013290589599254976, 'objective': 'Logloss', 'colsample_bylevel': 0.02478772303444035, 'random_strength': 86, 'boosting_type': 'Plain', 'bootstrap_type': 'Bernoulli', 'random_state': 42}. Best is trial 15 with value: 0.8409840088868221.\u001B[0m\n",
      "\u001B[32m[I 2023-02-05 16:47:03,636]\u001B[0m Trial 21 finished with value: 0.8354969128626418 and parameters: {'iterations': 7882, 'depth': 4, 'learning_rate': 0.0010395694640356855, 'objective': 'Logloss', 'colsample_bylevel': 0.0687537745654492, 'random_strength': 48, 'boosting_type': 'Ordered', 'bootstrap_type': 'Bernoulli', 'random_state': 42}. Best is trial 15 with value: 0.8409840088868221.\u001B[0m\n",
      "\u001B[32m[I 2023-02-05 16:47:04,109]\u001B[0m Trial 38 finished with value: 0.8398951148311762 and parameters: {'iterations': 7092, 'depth': 5, 'learning_rate': 0.03823558697262221, 'objective': 'Logloss', 'colsample_bylevel': 0.021581293680007507, 'random_strength': 90, 'boosting_type': 'Plain', 'bootstrap_type': 'Bernoulli', 'random_state': 42}. Best is trial 15 with value: 0.8409840088868221.\u001B[0m\n",
      "\u001B[32m[I 2023-02-05 16:47:30,168]\u001B[0m Trial 39 finished with value: 0.8383476710842439 and parameters: {'iterations': 7105, 'depth': 4, 'learning_rate': 0.030053679051294555, 'objective': 'Logloss', 'colsample_bylevel': 0.0258943367375509, 'random_strength': 90, 'boosting_type': 'Plain', 'bootstrap_type': 'Bernoulli', 'random_state': 42}. Best is trial 15 with value: 0.8409840088868221.\u001B[0m\n",
      "\u001B[32m[I 2023-02-05 16:48:01,163]\u001B[0m Trial 40 finished with value: 0.8359037949830789 and parameters: {'iterations': 7123, 'depth': 4, 'learning_rate': 0.09626665480597635, 'objective': 'Logloss', 'colsample_bylevel': 0.022686323260050184, 'random_strength': 91, 'boosting_type': 'Plain', 'bootstrap_type': 'Bernoulli', 'random_state': 42}. Best is trial 15 with value: 0.8409840088868221.\u001B[0m\n",
      "\u001B[32m[I 2023-02-05 16:48:14,152]\u001B[0m Trial 42 finished with value: 0.840982717197551 and parameters: {'iterations': 7303, 'depth': 4, 'learning_rate': 0.008499172710598545, 'objective': 'Logloss', 'colsample_bylevel': 0.019382835674281423, 'random_strength': 91, 'boosting_type': 'Plain', 'bootstrap_type': 'Bernoulli', 'random_state': 42}. Best is trial 15 with value: 0.8409840088868221.\u001B[0m\n",
      "\u001B[32m[I 2023-02-05 16:48:14,183]\u001B[0m Trial 43 finished with value: 0.8410382598362136 and parameters: {'iterations': 7302, 'depth': 4, 'learning_rate': 0.028297596534923735, 'objective': 'Logloss', 'colsample_bylevel': 0.010666202668331817, 'random_strength': 74, 'boosting_type': 'Plain', 'bootstrap_type': 'Bernoulli', 'random_state': 42}. Best is trial 43 with value: 0.8410382598362136.\u001B[0m\n",
      "\u001B[32m[I 2023-02-05 16:48:15,252]\u001B[0m Trial 41 finished with value: 0.8401973701206438 and parameters: {'iterations': 7286, 'depth': 4, 'learning_rate': 0.007541425169500823, 'objective': 'Logloss', 'colsample_bylevel': 0.021046159307350765, 'random_strength': 91, 'boosting_type': 'Plain', 'bootstrap_type': 'Bernoulli', 'random_state': 42}. Best is trial 43 with value: 0.8410382598362136.\u001B[0m\n",
      "\u001B[32m[I 2023-02-05 16:48:40,339]\u001B[0m Trial 44 finished with value: 0.8398098633392752 and parameters: {'iterations': 7332, 'depth': 8, 'learning_rate': 0.01621110893554493, 'objective': 'Logloss', 'colsample_bylevel': 0.010006699705593206, 'random_strength': 74, 'boosting_type': 'Plain', 'bootstrap_type': 'Bernoulli', 'random_state': 42}. Best is trial 43 with value: 0.8410382598362136.\u001B[0m\n",
      "\u001B[32m[I 2023-02-05 16:49:12,493]\u001B[0m Trial 45 finished with value: 0.8413314733007826 and parameters: {'iterations': 7344, 'depth': 8, 'learning_rate': 0.013916822552620271, 'objective': 'Logloss', 'colsample_bylevel': 0.019033982071589295, 'random_strength': 75, 'boosting_type': 'Plain', 'bootstrap_type': 'Bernoulli', 'random_state': 42}. Best is trial 45 with value: 0.8413314733007826.\u001B[0m\n",
      "\u001B[32m[I 2023-02-05 16:49:23,922]\u001B[0m Trial 47 finished with value: 0.8368454364618048 and parameters: {'iterations': 7305, 'depth': 3, 'learning_rate': 0.007549506159823055, 'objective': 'Logloss', 'colsample_bylevel': 0.010088957893321104, 'random_strength': 74, 'boosting_type': 'Plain', 'bootstrap_type': 'Bernoulli', 'random_state': 42}. Best is trial 45 with value: 0.8413314733007826.\u001B[0m\n",
      "\u001B[32m[I 2023-02-05 16:49:25,003]\u001B[0m Trial 48 finished with value: 0.8380428324162339 and parameters: {'iterations': 7368, 'depth': 3, 'learning_rate': 0.012189894470115812, 'objective': 'Logloss', 'colsample_bylevel': 0.010128833507595737, 'random_strength': 75, 'boosting_type': 'Plain', 'bootstrap_type': 'Bernoulli', 'random_state': 42}. Best is trial 45 with value: 0.8413314733007826.\u001B[0m\n",
      "\u001B[32m[I 2023-02-05 16:49:25,713]\u001B[0m Trial 46 finished with value: 0.8407941305639516 and parameters: {'iterations': 7331, 'depth': 3, 'learning_rate': 0.012506095353166881, 'objective': 'Logloss', 'colsample_bylevel': 0.02083919736153993, 'random_strength': 75, 'boosting_type': 'Plain', 'bootstrap_type': 'Bernoulli', 'random_state': 42}. Best is trial 45 with value: 0.8413314733007826.\u001B[0m\n",
      "\u001B[32m[I 2023-02-05 16:49:37,638]\u001B[0m Trial 26 finished with value: 0.8402012451884573 and parameters: {'iterations': 6700, 'depth': 9, 'learning_rate': 0.01722750453994055, 'objective': 'Logloss', 'colsample_bylevel': 0.013377856930468137, 'random_strength': 66, 'boosting_type': 'Ordered', 'bootstrap_type': 'Bernoulli', 'random_state': 42}. Best is trial 45 with value: 0.8413314733007826.\u001B[0m\n",
      "\u001B[32m[I 2023-02-05 16:49:48,875]\u001B[0m Trial 29 finished with value: 0.8402916634374433 and parameters: {'iterations': 6039, 'depth': 9, 'learning_rate': 0.022587113435121632, 'objective': 'Logloss', 'colsample_bylevel': 0.010555604274770154, 'random_strength': 81, 'boosting_type': 'Ordered', 'bootstrap_type': 'Bernoulli', 'random_state': 42}. Best is trial 45 with value: 0.8413314733007826.\u001B[0m\n",
      "\u001B[32m[I 2023-02-05 16:49:51,560]\u001B[0m Trial 27 finished with value: 0.8400940349789454 and parameters: {'iterations': 6705, 'depth': 9, 'learning_rate': 0.021853269047332848, 'objective': 'Logloss', 'colsample_bylevel': 0.010647683753224084, 'random_strength': 73, 'boosting_type': 'Ordered', 'bootstrap_type': 'Bernoulli', 'random_state': 42}. Best is trial 45 with value: 0.8413314733007826.\u001B[0m\n",
      "\u001B[32m[I 2023-02-05 16:49:52,241]\u001B[0m Trial 49 finished with value: 0.8405047921671962 and parameters: {'iterations': 7410, 'depth': 3, 'learning_rate': 0.009692608619534759, 'objective': 'Logloss', 'colsample_bylevel': 0.01897962218610558, 'random_strength': 60, 'boosting_type': 'Plain', 'bootstrap_type': 'Bernoulli', 'random_state': 42}. Best is trial 45 with value: 0.8413314733007826.\u001B[0m\n",
      "\u001B[32m[I 2023-02-05 16:50:12,306]\u001B[0m Trial 28 finished with value: 0.8400785347076906 and parameters: {'iterations': 6653, 'depth': 9, 'learning_rate': 0.023514661287099385, 'objective': 'Logloss', 'colsample_bylevel': 0.01275673539491079, 'random_strength': 74, 'boosting_type': 'Ordered', 'bootstrap_type': 'Bernoulli', 'random_state': 42}. Best is trial 45 with value: 0.8413314733007826.\u001B[0m\n",
      "\u001B[32m[I 2023-02-05 16:50:27,235]\u001B[0m Trial 50 finished with value: 0.840029450515384 and parameters: {'iterations': 7391, 'depth': 3, 'learning_rate': 0.012729938634337544, 'objective': 'Logloss', 'colsample_bylevel': 0.032573687729750896, 'random_strength': 100, 'boosting_type': 'Plain', 'bootstrap_type': 'MVS', 'random_state': 42}. Best is trial 45 with value: 0.8413314733007826.\u001B[0m\n",
      "\u001B[32m[I 2023-02-05 16:50:31,214]\u001B[0m Trial 53 finished with value: 0.8356157482755948 and parameters: {'iterations': 6993, 'depth': 8, 'learning_rate': 0.028950477424847756, 'objective': 'Logloss', 'colsample_bylevel': 0.03135359415078566, 'random_strength': 99, 'boosting_type': 'Plain', 'bootstrap_type': 'Bernoulli', 'random_state': 42}. Best is trial 45 with value: 0.8413314733007826.\u001B[0m\n",
      "\u001B[32m[I 2023-02-05 16:50:34,068]\u001B[0m Trial 52 finished with value: 0.8404944586530265 and parameters: {'iterations': 7498, 'depth': 8, 'learning_rate': 0.010896994303798924, 'objective': 'Logloss', 'colsample_bylevel': 0.01869971126709702, 'random_strength': 60, 'boosting_type': 'Plain', 'bootstrap_type': 'Bernoulli', 'random_state': 42}. Best is trial 45 with value: 0.8413314733007826.\u001B[0m\n",
      "\u001B[32m[I 2023-02-05 16:50:37,461]\u001B[0m Trial 51 finished with value: 0.8405538763595028 and parameters: {'iterations': 7403, 'depth': 3, 'learning_rate': 0.01157276689628022, 'objective': 'Logloss', 'colsample_bylevel': 0.034467922363903974, 'random_strength': 100, 'boosting_type': 'Plain', 'bootstrap_type': 'MVS', 'random_state': 42}. Best is trial 45 with value: 0.8413314733007826.\u001B[0m\n",
      "\u001B[32m[I 2023-02-05 16:50:43,595]\u001B[0m Trial 54 finished with value: 0.839099434240099 and parameters: {'iterations': 6993, 'depth': 8, 'learning_rate': 0.031755395195941186, 'objective': 'Logloss', 'colsample_bylevel': 0.01795130631916741, 'random_strength': 100, 'boosting_type': 'Plain', 'bootstrap_type': 'MVS', 'random_state': 42}. Best is trial 45 with value: 0.8413314733007826.\u001B[0m\n",
      "\u001B[32m[I 2023-02-05 16:50:54,507]\u001B[0m Trial 55 finished with value: 0.8402464543129504 and parameters: {'iterations': 6981, 'depth': 8, 'learning_rate': 0.029308242326460534, 'objective': 'Logloss', 'colsample_bylevel': 0.018293061208037958, 'random_strength': 99, 'boosting_type': 'Plain', 'bootstrap_type': 'MVS', 'random_state': 42}. Best is trial 45 with value: 0.8413314733007826.\u001B[0m\n",
      "\u001B[32m[I 2023-02-05 16:50:56,731]\u001B[0m Trial 56 finished with value: 0.8401663695781344 and parameters: {'iterations': 7012, 'depth': 8, 'learning_rate': 0.030028533984901927, 'objective': 'Logloss', 'colsample_bylevel': 0.018769184183856404, 'random_strength': 61, 'boosting_type': 'Plain', 'bootstrap_type': 'MVS', 'random_state': 42}. Best is trial 45 with value: 0.8413314733007826.\u001B[0m\n",
      "\u001B[32m[I 2023-02-05 16:50:59,056]\u001B[0m Trial 57 finished with value: 0.8356118732077811 and parameters: {'iterations': 6986, 'depth': 6, 'learning_rate': 0.029414481481813134, 'objective': 'Logloss', 'colsample_bylevel': 0.03140605907969232, 'random_strength': 60, 'boosting_type': 'Plain', 'bootstrap_type': 'MVS', 'random_state': 42}. Best is trial 45 with value: 0.8413314733007826.\u001B[0m\n",
      "\u001B[32m[I 2023-02-05 16:51:05,871]\u001B[0m Trial 33 finished with value: 0.8391304347826087 and parameters: {'iterations': 6239, 'depth': 9, 'learning_rate': 0.014731012122802544, 'objective': 'Logloss', 'colsample_bylevel': 0.01211599804778261, 'random_strength': 80, 'boosting_type': 'Ordered', 'bootstrap_type': 'Bernoulli', 'random_state': 42}. Best is trial 45 with value: 0.8413314733007826.\u001B[0m\n",
      "\u001B[32m[I 2023-02-05 16:51:09,372]\u001B[0m Trial 34 finished with value: 0.8400940349789454 and parameters: {'iterations': 6275, 'depth': 9, 'learning_rate': 0.014357743486376489, 'objective': 'Logloss', 'colsample_bylevel': 0.020473233917745838, 'random_strength': 84, 'boosting_type': 'Ordered', 'bootstrap_type': 'Bernoulli', 'random_state': 42}. Best is trial 45 with value: 0.8413314733007826.\u001B[0m\n",
      "\u001B[32m[I 2023-02-05 16:51:14,799]\u001B[0m Trial 58 finished with value: 0.8353780774496886 and parameters: {'iterations': 6982, 'depth': 6, 'learning_rate': 0.030871591881693396, 'objective': 'Logloss', 'colsample_bylevel': 0.03200988532616597, 'random_strength': 100, 'boosting_type': 'Plain', 'bootstrap_type': 'MVS', 'random_state': 42}. Best is trial 45 with value: 0.8413314733007826.\u001B[0m\n",
      "\u001B[32m[I 2023-02-05 16:51:19,460]\u001B[0m Trial 35 finished with value: 0.8406856286651683 and parameters: {'iterations': 6265, 'depth': 8, 'learning_rate': 0.013655179334822212, 'objective': 'Logloss', 'colsample_bylevel': 0.023788976976517714, 'random_strength': 83, 'boosting_type': 'Ordered', 'bootstrap_type': 'Bernoulli', 'random_state': 42}. Best is trial 45 with value: 0.8413314733007826.\u001B[0m\n",
      "\u001B[32m[I 2023-02-05 16:51:24,934]\u001B[0m Trial 59 finished with value: 0.8259836213800409 and parameters: {'iterations': 6999, 'depth': 6, 'learning_rate': 0.029675938472820376, 'objective': 'Logloss', 'colsample_bylevel': 0.05288671515997065, 'random_strength': 56, 'boosting_type': 'Plain', 'bootstrap_type': 'MVS', 'random_state': 42}. Best is trial 45 with value: 0.8413314733007826.\u001B[0m\n",
      "\u001B[32m[I 2023-02-05 16:51:25,692]\u001B[0m Trial 62 finished with value: 0.8403226639799529 and parameters: {'iterations': 7204, 'depth': 6, 'learning_rate': 0.016207858231969657, 'objective': 'Logloss', 'colsample_bylevel': 0.01737000465258293, 'random_strength': 94, 'boosting_type': 'Plain', 'bootstrap_type': 'Bernoulli', 'random_state': 42}. Best is trial 45 with value: 0.8413314733007826.\u001B[0m\n",
      "\u001B[32m[I 2023-02-05 16:51:27,490]\u001B[0m Trial 61 finished with value: 0.8405125423028236 and parameters: {'iterations': 6968, 'depth': 6, 'learning_rate': 0.0035290049475141818, 'objective': 'Logloss', 'colsample_bylevel': 0.047104210519719365, 'random_strength': 36, 'boosting_type': 'Plain', 'bootstrap_type': 'MVS', 'random_state': 42}. Best is trial 45 with value: 0.8413314733007826.\u001B[0m\n",
      "\u001B[32m[I 2023-02-05 16:51:28,586]\u001B[0m Trial 63 finished with value: 0.840994342400992 and parameters: {'iterations': 7212, 'depth': 6, 'learning_rate': 0.016294266491457467, 'objective': 'Logloss', 'colsample_bylevel': 0.016602493140976643, 'random_strength': 87, 'boosting_type': 'Plain', 'bootstrap_type': 'Bernoulli', 'random_state': 42}. Best is trial 45 with value: 0.8413314733007826.\u001B[0m\n",
      "\u001B[32m[I 2023-02-05 16:51:28,879]\u001B[0m Trial 60 finished with value: 0.8402089953240848 and parameters: {'iterations': 7521, 'depth': 6, 'learning_rate': 0.003351533602586694, 'objective': 'Logloss', 'colsample_bylevel': 0.0480212951664928, 'random_strength': 60, 'boosting_type': 'Plain', 'bootstrap_type': 'MVS', 'random_state': 42}. Best is trial 45 with value: 0.8413314733007826.\u001B[0m\n",
      "\u001B[32m[I 2023-02-05 16:51:35,669]\u001B[0m Trial 64 finished with value: 0.8341871399416158 and parameters: {'iterations': 7198, 'depth': 5, 'learning_rate': 0.015863637940623246, 'objective': 'Logloss', 'colsample_bylevel': 0.050923879908419505, 'random_strength': 87, 'boosting_type': 'Plain', 'bootstrap_type': 'Bernoulli', 'random_state': 42}. Best is trial 45 with value: 0.8413314733007826.\u001B[0m\n",
      "\u001B[32m[I 2023-02-05 16:51:36,613]\u001B[0m Trial 65 finished with value: 0.8385517579890981 and parameters: {'iterations': 7738, 'depth': 6, 'learning_rate': 0.017931834408601032, 'objective': 'Logloss', 'colsample_bylevel': 0.027825973572362193, 'random_strength': 32, 'boosting_type': 'Plain', 'bootstrap_type': 'Bernoulli', 'random_state': 42}. Best is trial 45 with value: 0.8413314733007826.\u001B[0m\n",
      "\u001B[32m[I 2023-02-05 16:51:37,344]\u001B[0m Trial 66 finished with value: 0.8335412953060012 and parameters: {'iterations': 7205, 'depth': 5, 'learning_rate': 0.0184615687454706, 'objective': 'Logloss', 'colsample_bylevel': 0.04880085615011617, 'random_strength': 94, 'boosting_type': 'Plain', 'bootstrap_type': 'Bernoulli', 'random_state': 42}. Best is trial 45 with value: 0.8413314733007826.\u001B[0m\n",
      "\u001B[32m[I 2023-02-05 16:51:41,952]\u001B[0m Trial 67 finished with value: 0.8337479655893978 and parameters: {'iterations': 7196, 'depth': 5, 'learning_rate': 0.016812058890102437, 'objective': 'Logloss', 'colsample_bylevel': 0.05121353104314143, 'random_strength': 87, 'boosting_type': 'Plain', 'bootstrap_type': 'Bernoulli', 'random_state': 42}. Best is trial 45 with value: 0.8413314733007826.\u001B[0m\n",
      "\u001B[32m[I 2023-02-05 16:51:43,018]\u001B[0m Trial 68 finished with value: 0.8345539796946447 and parameters: {'iterations': 7214, 'depth': 5, 'learning_rate': 0.017065551066472468, 'objective': 'Logloss', 'colsample_bylevel': 0.04668988116809971, 'random_strength': 33, 'boosting_type': 'Plain', 'bootstrap_type': 'Bernoulli', 'random_state': 42}. Best is trial 45 with value: 0.8413314733007826.\u001B[0m\n",
      "\u001B[32m[I 2023-02-05 16:51:45,755]\u001B[0m Trial 70 finished with value: 0.840649461365574 and parameters: {'iterations': 7202, 'depth': 5, 'learning_rate': 0.017758110171198462, 'objective': 'Logloss', 'colsample_bylevel': 0.016398719388742558, 'random_strength': 29, 'boosting_type': 'Plain', 'bootstrap_type': 'Bernoulli', 'random_state': 42}. Best is trial 45 with value: 0.8413314733007826.\u001B[0m\n",
      "\u001B[32m[I 2023-02-05 16:51:46,546]\u001B[0m Trial 69 finished with value: 0.8334741274638973 and parameters: {'iterations': 7212, 'depth': 5, 'learning_rate': 0.017603375683001556, 'objective': 'Logloss', 'colsample_bylevel': 0.04989733521600017, 'random_strength': 94, 'boosting_type': 'Plain', 'bootstrap_type': 'Bernoulli', 'random_state': 42}. Best is trial 45 with value: 0.8413314733007826.\u001B[0m\n",
      "\u001B[32m[I 2023-02-05 16:51:52,534]\u001B[0m Trial 71 finished with value: 0.8407037123149655 and parameters: {'iterations': 7207, 'depth': 5, 'learning_rate': 0.017942423121077914, 'objective': 'Logloss', 'colsample_bylevel': 0.016246608176657934, 'random_strength': 94, 'boosting_type': 'Plain', 'bootstrap_type': 'Bernoulli', 'random_state': 42}. Best is trial 45 with value: 0.8413314733007826.\u001B[0m\n",
      "\u001B[32m[I 2023-02-05 16:51:53,441]\u001B[0m Trial 72 finished with value: 0.8409543000335837 and parameters: {'iterations': 7209, 'depth': 4, 'learning_rate': 0.01863696002536545, 'objective': 'Logloss', 'colsample_bylevel': 0.01516623195283999, 'random_strength': 30, 'boosting_type': 'Plain', 'bootstrap_type': 'Bernoulli', 'random_state': 42}. Best is trial 45 with value: 0.8413314733007826.\u001B[0m\n",
      "\u001B[32m[I 2023-02-05 16:51:54,917]\u001B[0m Trial 73 finished with value: 0.8406003771732672 and parameters: {'iterations': 7209, 'depth': 4, 'learning_rate': 0.018646945669613193, 'objective': 'Logloss', 'colsample_bylevel': 0.015809646194366256, 'random_strength': 71, 'boosting_type': 'Plain', 'bootstrap_type': 'Bernoulli', 'random_state': 42}. Best is trial 45 with value: 0.8413314733007826.\u001B[0m\n",
      "\u001B[32m[I 2023-02-05 16:51:56,325]\u001B[0m Trial 74 finished with value: 0.8411738872096927 and parameters: {'iterations': 7209, 'depth': 5, 'learning_rate': 0.019273237089662002, 'objective': 'Logloss', 'colsample_bylevel': 0.015489103403908881, 'random_strength': 86, 'boosting_type': 'Plain', 'bootstrap_type': 'Bernoulli', 'random_state': 42}. Best is trial 45 with value: 0.8413314733007826.\u001B[0m\n",
      "\u001B[32m[I 2023-02-05 16:51:56,391]\u001B[0m Trial 75 finished with value: 0.8408574233382418 and parameters: {'iterations': 7203, 'depth': 5, 'learning_rate': 0.018544029894183578, 'objective': 'Logloss', 'colsample_bylevel': 0.01550656074849847, 'random_strength': 86, 'boosting_type': 'Plain', 'bootstrap_type': 'Bernoulli', 'random_state': 42}. Best is trial 45 with value: 0.8413314733007826.\u001B[0m\n",
      "\u001B[32m[I 2023-02-05 16:52:02,380]\u001B[0m Trial 78 finished with value: 0.8414774341884316 and parameters: {'iterations': 6437, 'depth': 4, 'learning_rate': 0.018936364280258397, 'objective': 'Logloss', 'colsample_bylevel': 0.015788765694226832, 'random_strength': 78, 'boosting_type': 'Plain', 'bootstrap_type': 'Bernoulli', 'random_state': 42}. Best is trial 78 with value: 0.8414774341884316.\u001B[0m\n",
      "\u001B[32m[I 2023-02-05 16:52:04,446]\u001B[0m Trial 77 finished with value: 0.8401857449172027 and parameters: {'iterations': 7208, 'depth': 4, 'learning_rate': 0.019685733880098564, 'objective': 'Logloss', 'colsample_bylevel': 0.014678051710560325, 'random_strength': 94, 'boosting_type': 'Plain', 'bootstrap_type': 'Bernoulli', 'random_state': 42}. Best is trial 78 with value: 0.8414774341884316.\u001B[0m\n",
      "\u001B[32m[I 2023-02-05 16:52:05,704]\u001B[0m Trial 76 finished with value: 0.8397969464465628 and parameters: {'iterations': 7744, 'depth': 4, 'learning_rate': 0.018106418762565725, 'objective': 'Logloss', 'colsample_bylevel': 0.015297636127079123, 'random_strength': 95, 'boosting_type': 'Plain', 'bootstrap_type': 'Bernoulli', 'random_state': 42}. Best is trial 78 with value: 0.8414774341884316.\u001B[0m\n",
      "\u001B[32m[I 2023-02-05 16:52:08,753]\u001B[0m Trial 79 finished with value: 0.8398021132036477 and parameters: {'iterations': 6791, 'depth': 7, 'learning_rate': 0.0249078753132332, 'objective': 'Logloss', 'colsample_bylevel': 0.016207459634268388, 'random_strength': 71, 'boosting_type': 'Plain', 'bootstrap_type': 'Bayesian', 'random_state': 42}. Best is trial 78 with value: 0.8414774341884316.\u001B[0m\n",
      "\u001B[32m[I 2023-02-05 16:52:09,682]\u001B[0m Trial 80 finished with value: 0.8399493657805678 and parameters: {'iterations': 6828, 'depth': 7, 'learning_rate': 0.019470149875467514, 'objective': 'Logloss', 'colsample_bylevel': 0.015230530801518012, 'random_strength': 78, 'boosting_type': 'Plain', 'bootstrap_type': 'Bayesian', 'random_state': 42}. Best is trial 78 with value: 0.8414774341884316.\u001B[0m\n",
      "\u001B[32m[I 2023-02-05 16:52:12,402]\u001B[0m Trial 81 finished with value: 0.8410020925366195 and parameters: {'iterations': 6890, 'depth': 4, 'learning_rate': 0.02402916524343954, 'objective': 'Logloss', 'colsample_bylevel': 0.015046568202918085, 'random_strength': 71, 'boosting_type': 'Plain', 'bootstrap_type': 'Bayesian', 'random_state': 42}. Best is trial 78 with value: 0.8414774341884316.\u001B[0m\n",
      "\u001B[32m[I 2023-02-05 16:52:15,331]\u001B[0m Trial 82 finished with value: 0.8408690485416828 and parameters: {'iterations': 7566, 'depth': 4, 'learning_rate': 0.020480875241644093, 'objective': 'Logloss', 'colsample_bylevel': 0.014762155470716219, 'random_strength': 71, 'boosting_type': 'Plain', 'bootstrap_type': 'Bernoulli', 'random_state': 42}. Best is trial 78 with value: 0.8414774341884316.\u001B[0m\n",
      "\u001B[32m[I 2023-02-05 16:52:18,726]\u001B[0m Trial 83 finished with value: 0.8397504456327985 and parameters: {'iterations': 6844, 'depth': 4, 'learning_rate': 0.010044534189359387, 'objective': 'Logloss', 'colsample_bylevel': 0.014931699791032661, 'random_strength': 70, 'boosting_type': 'Plain', 'bootstrap_type': 'Bayesian', 'random_state': 42}. Best is trial 78 with value: 0.8414774341884316.\u001B[0m\n",
      "\u001B[32m[I 2023-02-05 16:52:19,366]\u001B[0m Trial 84 finished with value: 0.8412178046449145 and parameters: {'iterations': 6785, 'depth': 4, 'learning_rate': 0.024817238267843864, 'objective': 'Logloss', 'colsample_bylevel': 0.014447329371806072, 'random_strength': 70, 'boosting_type': 'Plain', 'bootstrap_type': 'Bayesian', 'random_state': 42}. Best is trial 78 with value: 0.8414774341884316.\u001B[0m\n",
      "\u001B[32m[I 2023-02-05 16:52:21,001]\u001B[0m Trial 85 finished with value: 0.8408238394171897 and parameters: {'iterations': 6814, 'depth': 7, 'learning_rate': 0.02557108789636001, 'objective': 'Logloss', 'colsample_bylevel': 0.014469456567304487, 'random_strength': 78, 'boosting_type': 'Plain', 'bootstrap_type': 'Bayesian', 'random_state': 42}. Best is trial 78 with value: 0.8414774341884316.\u001B[0m\n",
      "\u001B[32m[I 2023-02-05 16:52:22,580]\u001B[0m Trial 86 finished with value: 0.840429874189465 and parameters: {'iterations': 6891, 'depth': 4, 'learning_rate': 0.024969674699055214, 'objective': 'Logloss', 'colsample_bylevel': 0.014425422690889606, 'random_strength': 79, 'boosting_type': 'Plain', 'bootstrap_type': 'Bayesian', 'random_state': 42}. Best is trial 78 with value: 0.8414774341884316.\u001B[0m\n",
      "\u001B[32m[I 2023-02-05 16:52:23,479]\u001B[0m Trial 87 finished with value: 0.8402903717481721 and parameters: {'iterations': 7278, 'depth': 4, 'learning_rate': 0.02494638418698108, 'objective': 'Logloss', 'colsample_bylevel': 0.013437209814566597, 'random_strength': 78, 'boosting_type': 'Plain', 'bootstrap_type': 'Bernoulli', 'random_state': 42}. Best is trial 78 with value: 0.8414774341884316.\u001B[0m\n",
      "\u001B[32m[I 2023-02-05 16:52:28,975]\u001B[0m Trial 88 finished with value: 0.839769820971867 and parameters: {'iterations': 6831, 'depth': 4, 'learning_rate': 0.021246320310756975, 'objective': 'Logloss', 'colsample_bylevel': 0.024581937559865853, 'random_strength': 78, 'boosting_type': 'Plain', 'bootstrap_type': 'Bayesian', 'random_state': 42}. Best is trial 78 with value: 0.8414774341884316.\u001B[0m\n",
      "\u001B[32m[I 2023-02-05 16:52:31,087]\u001B[0m Trial 89 finished with value: 0.8397478622542561 and parameters: {'iterations': 6822, 'depth': 4, 'learning_rate': 0.024983231711623578, 'objective': 'Logloss', 'colsample_bylevel': 0.024142723295863575, 'random_strength': 78, 'boosting_type': 'Plain', 'bootstrap_type': 'Bayesian', 'random_state': 42}. Best is trial 78 with value: 0.8414774341884316.\u001B[0m\n",
      "\u001B[32m[I 2023-02-05 16:52:33,732]\u001B[0m Trial 90 finished with value: 0.8400204086904852 and parameters: {'iterations': 7271, 'depth': 4, 'learning_rate': 0.023642789354730305, 'objective': 'Logloss', 'colsample_bylevel': 0.023261242641536083, 'random_strength': 78, 'boosting_type': 'Plain', 'bootstrap_type': 'Bayesian', 'random_state': 42}. Best is trial 78 with value: 0.8414774341884316.\u001B[0m\n",
      "\u001B[32m[I 2023-02-05 16:52:34,703]\u001B[0m Trial 92 finished with value: 0.840389831822057 and parameters: {'iterations': 6521, 'depth': 4, 'learning_rate': 0.014595455897945303, 'objective': 'Logloss', 'colsample_bylevel': 0.023004704744159242, 'random_strength': 80, 'boosting_type': 'Plain', 'bootstrap_type': 'Bernoulli', 'random_state': 42}. Best is trial 78 with value: 0.8414774341884316.\u001B[0m\n",
      "\u001B[32m[I 2023-02-05 16:52:37,170]\u001B[0m Trial 93 finished with value: 0.8393035211449533 and parameters: {'iterations': 6496, 'depth': 4, 'learning_rate': 0.02613027203299607, 'objective': 'Logloss', 'colsample_bylevel': 0.024179872215721612, 'random_strength': 78, 'boosting_type': 'Plain', 'bootstrap_type': 'Bayesian', 'random_state': 42}. Best is trial 78 with value: 0.8414774341884316.\u001B[0m\n",
      "\u001B[32m[I 2023-02-05 16:52:37,587]\u001B[0m Trial 91 finished with value: 0.8402464543129504 and parameters: {'iterations': 7459, 'depth': 4, 'learning_rate': 0.02164390287264966, 'objective': 'Logloss', 'colsample_bylevel': 0.02233952371818965, 'random_strength': 78, 'boosting_type': 'Plain', 'bootstrap_type': 'Bayesian', 'random_state': 42}. Best is trial 78 with value: 0.8414774341884316.\u001B[0m\n",
      "\u001B[32m[I 2023-02-05 16:52:38,922]\u001B[0m Trial 94 finished with value: 0.8402722880983751 and parameters: {'iterations': 6452, 'depth': 4, 'learning_rate': 0.02250214382795752, 'objective': 'Logloss', 'colsample_bylevel': 0.012590665226771623, 'random_strength': 78, 'boosting_type': 'Plain', 'bootstrap_type': 'Bayesian', 'random_state': 42}. Best is trial 78 with value: 0.8414774341884316.\u001B[0m\n",
      "\u001B[32m[I 2023-02-05 16:52:44,122]\u001B[0m Trial 96 finished with value: 0.8404660414890593 and parameters: {'iterations': 6481, 'depth': 3, 'learning_rate': 0.026277697365830074, 'objective': 'Logloss', 'colsample_bylevel': 0.024462732058549243, 'random_strength': 77, 'boosting_type': 'Plain', 'bootstrap_type': 'Bayesian', 'random_state': 42}. Best is trial 78 with value: 0.8414774341884316.\u001B[0m\n",
      "\u001B[32m[I 2023-02-05 16:52:45,317]\u001B[0m Trial 97 finished with value: 0.8405241675062647 and parameters: {'iterations': 6486, 'depth': 3, 'learning_rate': 0.014332530029592864, 'objective': 'Logloss', 'colsample_bylevel': 0.023389036491307462, 'random_strength': 81, 'boosting_type': 'Plain', 'bootstrap_type': 'Bayesian', 'random_state': 42}. Best is trial 78 with value: 0.8414774341884316.\u001B[0m\n",
      "\u001B[32m[I 2023-02-05 16:52:46,109]\u001B[0m Trial 95 finished with value: 0.8411493451135396 and parameters: {'iterations': 7467, 'depth': 4, 'learning_rate': 0.0236258654725412, 'objective': 'Logloss', 'colsample_bylevel': 0.012700276298703454, 'random_strength': 78, 'boosting_type': 'Plain', 'bootstrap_type': 'Bayesian', 'random_state': 42}. Best is trial 78 with value: 0.8414774341884316.\u001B[0m\n",
      "\u001B[32m[I 2023-02-05 16:52:46,839]\u001B[0m Trial 98 finished with value: 0.8407140458291353 and parameters: {'iterations': 6408, 'depth': 3, 'learning_rate': 0.014460521635152629, 'objective': 'Logloss', 'colsample_bylevel': 0.022287912668153144, 'random_strength': 82, 'boosting_type': 'Plain', 'bootstrap_type': 'Bayesian', 'random_state': 42}. Best is trial 78 with value: 0.8414774341884316.\u001B[0m\n",
      "\u001B[32m[I 2023-02-05 16:52:50,116]\u001B[0m Trial 99 finished with value: 0.8398589475315817 and parameters: {'iterations': 7054, 'depth': 3, 'learning_rate': 0.014718402520382826, 'objective': 'Logloss', 'colsample_bylevel': 0.02410463227502471, 'random_strength': 64, 'boosting_type': 'Plain', 'bootstrap_type': 'Bayesian', 'random_state': 42}. Best is trial 78 with value: 0.8414774341884316.\u001B[0m\n",
      "\u001B[32m[I 2023-02-05 16:52:53,861]\u001B[0m Trial 100 finished with value: 0.8406120023767083 and parameters: {'iterations': 6451, 'depth': 3, 'learning_rate': 0.03507950310659196, 'objective': 'Logloss', 'colsample_bylevel': 0.02070723554875878, 'random_strength': 82, 'boosting_type': 'Plain', 'bootstrap_type': 'Bayesian', 'random_state': 42}. Best is trial 78 with value: 0.8414774341884316.\u001B[0m\n",
      "\u001B[32m[I 2023-02-05 16:52:59,261]\u001B[0m Trial 101 finished with value: 0.841151928492082 and parameters: {'iterations': 7462, 'depth': 3, 'learning_rate': 0.014570616966265604, 'objective': 'Logloss', 'colsample_bylevel': 0.020078202255674946, 'random_strength': 82, 'boosting_type': 'Plain', 'bootstrap_type': 'Bayesian', 'random_state': 42}. Best is trial 78 with value: 0.8414774341884316.\u001B[0m\n",
      "\u001B[32m[I 2023-02-05 16:53:01,648]\u001B[0m Trial 102 finished with value: 0.8397969464465629 and parameters: {'iterations': 7471, 'depth': 3, 'learning_rate': 0.013654886623014702, 'objective': 'Logloss', 'colsample_bylevel': 0.012239576349664346, 'random_strength': 81, 'boosting_type': 'Plain', 'bootstrap_type': 'Bayesian', 'random_state': 42}. Best is trial 78 with value: 0.8414774341884316.\u001B[0m\n",
      "\u001B[32m[I 2023-02-05 16:53:02,935]\u001B[0m Trial 103 finished with value: 0.8405758350771139 and parameters: {'iterations': 7437, 'depth': 3, 'learning_rate': 0.014018218018589313, 'objective': 'Logloss', 'colsample_bylevel': 0.01202715421334611, 'random_strength': 89, 'boosting_type': 'Plain', 'bootstrap_type': 'Bayesian', 'random_state': 42}. Best is trial 78 with value: 0.8414774341884316.\u001B[0m\n",
      "\u001B[32m[I 2023-02-05 16:53:04,322]\u001B[0m Trial 104 finished with value: 0.8406081273088943 and parameters: {'iterations': 7345, 'depth': 3, 'learning_rate': 0.021920328328885397, 'objective': 'Logloss', 'colsample_bylevel': 0.012032700950529402, 'random_strength': 89, 'boosting_type': 'Plain', 'bootstrap_type': 'Bernoulli', 'random_state': 42}. Best is trial 78 with value: 0.8414774341884316.\u001B[0m\n",
      "\u001B[32m[I 2023-02-05 16:53:06,001]\u001B[0m Trial 106 finished with value: 0.8407553798858146 and parameters: {'iterations': 7075, 'depth': 3, 'learning_rate': 0.014155029689050849, 'objective': 'Logloss', 'colsample_bylevel': 0.019826645642159545, 'random_strength': 82, 'boosting_type': 'Plain', 'bootstrap_type': 'Bernoulli', 'random_state': 42}. Best is trial 78 with value: 0.8414774341884316.\u001B[0m\n",
      "\u001B[32m[I 2023-02-05 16:53:06,096]\u001B[0m Trial 105 finished with value: 0.8406830452866259 and parameters: {'iterations': 7360, 'depth': 3, 'learning_rate': 0.013721079987355953, 'objective': 'Logloss', 'colsample_bylevel': 0.019860303088511725, 'random_strength': 64, 'boosting_type': 'Plain', 'bootstrap_type': 'Bernoulli', 'random_state': 42}. Best is trial 78 with value: 0.8414774341884316.\u001B[0m\n",
      "\u001B[32m[I 2023-02-05 16:53:11,679]\u001B[0m Trial 107 finished with value: 0.8407527965072722 and parameters: {'iterations': 7063, 'depth': 3, 'learning_rate': 0.013681806020650044, 'objective': 'Logloss', 'colsample_bylevel': 0.019511967217138906, 'random_strength': 89, 'boosting_type': 'Plain', 'bootstrap_type': 'Bernoulli', 'random_state': 42}. Best is trial 78 with value: 0.8414774341884316.\u001B[0m\n",
      "\u001B[32m[I 2023-02-05 16:53:12,388]\u001B[0m Trial 108 finished with value: 0.8402658296520189 and parameters: {'iterations': 7061, 'depth': 3, 'learning_rate': 0.01339484197841997, 'objective': 'Logloss', 'colsample_bylevel': 0.020638280446159375, 'random_strength': 64, 'boosting_type': 'Plain', 'bootstrap_type': 'Bernoulli', 'random_state': 42}. Best is trial 78 with value: 0.8414774341884316.\u001B[0m\n",
      "\u001B[32m[I 2023-02-05 16:53:13,300]\u001B[0m Trial 109 finished with value: 0.8394559404789583 and parameters: {'iterations': 7041, 'depth': 3, 'learning_rate': 0.013511462159093612, 'objective': 'Logloss', 'colsample_bylevel': 0.012118123212749504, 'random_strength': 82, 'boosting_type': 'Plain', 'bootstrap_type': 'Bayesian', 'random_state': 42}. Best is trial 78 with value: 0.8414774341884316.\u001B[0m\n",
      "\u001B[32m[I 2023-02-05 16:53:14,401]\u001B[0m Trial 110 finished with value: 0.8412643054586789 and parameters: {'iterations': 7042, 'depth': 3, 'learning_rate': 0.035285940772247705, 'objective': 'Logloss', 'colsample_bylevel': 0.011850158559227327, 'random_strength': 65, 'boosting_type': 'Plain', 'bootstrap_type': 'Bayesian', 'random_state': 42}. Best is trial 78 with value: 0.8414774341884316.\u001B[0m\n",
      "\u001B[32m[I 2023-02-05 16:53:21,464]\u001B[0m Trial 111 finished with value: 0.8397336536722726 and parameters: {'iterations': 7338, 'depth': 12, 'learning_rate': 0.034393214758678396, 'objective': 'Logloss', 'colsample_bylevel': 0.019488462306264866, 'random_strength': 89, 'boosting_type': 'Plain', 'bootstrap_type': 'Bernoulli', 'random_state': 42}. Best is trial 78 with value: 0.8414774341884316.\u001B[0m\n",
      "\u001B[32m[I 2023-02-05 16:53:27,884]\u001B[0m Trial 112 finished with value: 0.8408419230669871 and parameters: {'iterations': 7325, 'depth': 5, 'learning_rate': 0.022175884073655863, 'objective': 'Logloss', 'colsample_bylevel': 0.011918439827769576, 'random_strength': 89, 'boosting_type': 'Plain', 'bootstrap_type': 'Bernoulli', 'random_state': 42}. Best is trial 78 with value: 0.8414774341884316.\u001B[0m\n",
      "\u001B[32m[I 2023-02-05 16:53:37,499]\u001B[0m Trial 113 finished with value: 0.8400049084192307 and parameters: {'iterations': 7341, 'depth': 3, 'learning_rate': 0.013475251880220267, 'objective': 'Logloss', 'colsample_bylevel': 0.011504438046723318, 'random_strength': 89, 'boosting_type': 'Plain', 'bootstrap_type': 'Bayesian', 'random_state': 42}. Best is trial 78 with value: 0.8414774341884316.\u001B[0m\n",
      "\u001B[32m[I 2023-02-05 16:53:39,529]\u001B[0m Trial 116 finished with value: 0.8406430029192178 and parameters: {'iterations': 6158, 'depth': 5, 'learning_rate': 0.01158883280246517, 'objective': 'Logloss', 'colsample_bylevel': 0.017999017336082418, 'random_strength': 68, 'boosting_type': 'Plain', 'bootstrap_type': 'Bernoulli', 'random_state': 42}. Best is trial 78 with value: 0.8414774341884316.\u001B[0m\n",
      "\u001B[32m[I 2023-02-05 16:53:42,916]\u001B[0m Trial 117 finished with value: 0.8403872484435143 and parameters: {'iterations': 6169, 'depth': 5, 'learning_rate': 0.01228802760371374, 'objective': 'Logloss', 'colsample_bylevel': 0.017921850222294266, 'random_strength': 84, 'boosting_type': 'Plain', 'bootstrap_type': 'Bayesian', 'random_state': 42}. Best is trial 78 with value: 0.8414774341884316.\u001B[0m\n",
      "\u001B[32m[I 2023-02-05 16:53:43,022]\u001B[0m Trial 114 finished with value: 0.840526750884807 and parameters: {'iterations': 7350, 'depth': 3, 'learning_rate': 0.011722658402758197, 'objective': 'Logloss', 'colsample_bylevel': 0.018628091703106555, 'random_strength': 90, 'boosting_type': 'Plain', 'bootstrap_type': 'Bayesian', 'random_state': 42}. Best is trial 78 with value: 0.8414774341884316.\u001B[0m\n",
      "\u001B[32m[I 2023-02-05 16:53:44,875]\u001B[0m Trial 115 finished with value: 0.8404505412178047 and parameters: {'iterations': 7326, 'depth': 3, 'learning_rate': 0.015704558148306, 'objective': 'Logloss', 'colsample_bylevel': 0.018897683035886167, 'random_strength': 85, 'boosting_type': 'Plain', 'bootstrap_type': 'Bernoulli', 'random_state': 42}. Best is trial 78 with value: 0.8414774341884316.\u001B[0m\n",
      "\u001B[32m[I 2023-02-05 16:53:52,090]\u001B[0m Trial 118 finished with value: 0.840841923066987 and parameters: {'iterations': 7540, 'depth': 5, 'learning_rate': 0.011870347746675534, 'objective': 'Logloss', 'colsample_bylevel': 0.017996891900455524, 'random_strength': 85, 'boosting_type': 'Plain', 'bootstrap_type': 'Bayesian', 'random_state': 42}. Best is trial 78 with value: 0.8414774341884316.\u001B[0m\n",
      "\u001B[32m[I 2023-02-05 16:53:59,954]\u001B[0m Trial 122 finished with value: 0.8408225477279185 and parameters: {'iterations': 6934, 'depth': 4, 'learning_rate': 0.03304358581264494, 'objective': 'Logloss', 'colsample_bylevel': 0.017623539069046228, 'random_strength': 85, 'boosting_type': 'Plain', 'bootstrap_type': 'Bayesian', 'random_state': 42}. Best is trial 78 with value: 0.8414774341884316.\u001B[0m\n",
      "\u001B[32m[I 2023-02-05 16:54:33,763]\u001B[0m Trial 130 finished with value: 0.8407037123149657 and parameters: {'iterations': 7135, 'depth': 4, 'learning_rate': 0.016017822156110893, 'objective': 'Logloss', 'colsample_bylevel': 0.01684221797203157, 'random_strength': 72, 'boosting_type': 'Plain', 'bootstrap_type': 'Bayesian', 'random_state': 42}. Best is trial 78 with value: 0.8414774341884316.\u001B[0m\n",
      "\u001B[32m[I 2023-02-05 16:58:10,721]\u001B[0m Trial 119 finished with value: 0.8405319176418922 and parameters: {'iterations': 7645, 'depth': 11, 'learning_rate': 0.01138704499388074, 'objective': 'Logloss', 'colsample_bylevel': 0.01778559992587169, 'random_strength': 84, 'boosting_type': 'Ordered', 'bootstrap_type': 'Bayesian', 'random_state': 42}. Best is trial 78 with value: 0.8414774341884316.\u001B[0m\n",
      "\u001B[32m[I 2023-02-05 16:58:23,471]\u001B[0m Trial 120 finished with value: 0.8401896199850164 and parameters: {'iterations': 7150, 'depth': 5, 'learning_rate': 0.015900965295637445, 'objective': 'Logloss', 'colsample_bylevel': 0.017546903255248686, 'random_strength': 85, 'boosting_type': 'Ordered', 'bootstrap_type': 'Bayesian', 'random_state': 42}. Best is trial 78 with value: 0.8414774341884316.\u001B[0m\n",
      "\u001B[32m[I 2023-02-05 16:58:42,244]\u001B[0m Trial 121 finished with value: 0.8399157818595158 and parameters: {'iterations': 7150, 'depth': 5, 'learning_rate': 0.015915041333768126, 'objective': 'Logloss', 'colsample_bylevel': 0.017053435954525967, 'random_strength': 85, 'boosting_type': 'Ordered', 'bootstrap_type': 'Bayesian', 'random_state': 42}. Best is trial 78 with value: 0.8414774341884316.\u001B[0m\n",
      "\u001B[32m[I 2023-02-05 16:58:48,661]\u001B[0m Trial 123 finished with value: 0.8407566715750858 and parameters: {'iterations': 6924, 'depth': 5, 'learning_rate': 0.01569278366408347, 'objective': 'Logloss', 'colsample_bylevel': 0.01718563393944493, 'random_strength': 68, 'boosting_type': 'Ordered', 'bootstrap_type': 'Bayesian', 'random_state': 42}. Best is trial 78 with value: 0.8414774341884316.\u001B[0m\n",
      "\u001B[32m[I 2023-02-05 16:59:04,176]\u001B[0m Trial 126 finished with value: 0.8395463587279444 and parameters: {'iterations': 6925, 'depth': 4, 'learning_rate': 0.016025896343708976, 'objective': 'Logloss', 'colsample_bylevel': 0.017072221057786916, 'random_strength': 75, 'boosting_type': 'Ordered', 'bootstrap_type': 'Bayesian', 'random_state': 42}. Best is trial 78 with value: 0.8414774341884316.\u001B[0m\n",
      "\u001B[32m[I 2023-02-05 16:59:04,356]\u001B[0m Trial 133 finished with value: 0.8400217003797568 and parameters: {'iterations': 7147, 'depth': 4, 'learning_rate': 0.01992369036450699, 'objective': 'Logloss', 'colsample_bylevel': 0.010096384637973755, 'random_strength': 74, 'boosting_type': 'Plain', 'bootstrap_type': 'Bernoulli', 'random_state': 42}. Best is trial 78 with value: 0.8414774341884316.\u001B[0m\n",
      "\u001B[32m[I 2023-02-05 16:59:12,673]\u001B[0m Trial 125 finished with value: 0.839871864424294 and parameters: {'iterations': 7151, 'depth': 4, 'learning_rate': 0.027094498508573078, 'objective': 'Logloss', 'colsample_bylevel': 0.01724693944665679, 'random_strength': 69, 'boosting_type': 'Ordered', 'bootstrap_type': 'Bayesian', 'random_state': 42}. Best is trial 78 with value: 0.8414774341884316.\u001B[0m\n",
      "\u001B[32m[I 2023-02-05 16:59:14,776]\u001B[0m Trial 127 finished with value: 0.8406520447441165 and parameters: {'iterations': 6934, 'depth': 4, 'learning_rate': 0.015905954387824967, 'objective': 'Logloss', 'colsample_bylevel': 0.016684039288261013, 'random_strength': 75, 'boosting_type': 'Ordered', 'bootstrap_type': 'Bayesian', 'random_state': 42}. Best is trial 78 with value: 0.8414774341884316.\u001B[0m\n",
      "\u001B[32m[I 2023-02-05 16:59:20,153]\u001B[0m Trial 134 finished with value: 0.840289080058901 and parameters: {'iterations': 7259, 'depth': 4, 'learning_rate': 0.02766681311445571, 'objective': 'Logloss', 'colsample_bylevel': 0.013120017911914458, 'random_strength': 76, 'boosting_type': 'Plain', 'bootstrap_type': 'Bernoulli', 'random_state': 42}. Best is trial 78 with value: 0.8414774341884316.\u001B[0m\n",
      "\u001B[32m[I 2023-02-05 16:59:24,889]\u001B[0m Trial 124 finished with value: 0.8396290268413031 and parameters: {'iterations': 7612, 'depth': 4, 'learning_rate': 0.015857053594197566, 'objective': 'Logloss', 'colsample_bylevel': 0.01047440371025202, 'random_strength': 85, 'boosting_type': 'Ordered', 'bootstrap_type': 'Bayesian', 'random_state': 42}. Best is trial 78 with value: 0.8414774341884316.\u001B[0m\n",
      "\u001B[32m[I 2023-02-05 16:59:27,944]\u001B[0m Trial 128 finished with value: 0.8393538970265312 and parameters: {'iterations': 7139, 'depth': 4, 'learning_rate': 0.015677839063167043, 'objective': 'Logloss', 'colsample_bylevel': 0.010106304743247873, 'random_strength': 75, 'boosting_type': 'Ordered', 'bootstrap_type': 'Bayesian', 'random_state': 42}. Best is trial 78 with value: 0.8414774341884316.\u001B[0m\n",
      "\u001B[32m[I 2023-02-05 16:59:33,676]\u001B[0m Trial 129 finished with value: 0.839769820971867 and parameters: {'iterations': 7153, 'depth': 11, 'learning_rate': 0.04002765637817992, 'objective': 'Logloss', 'colsample_bylevel': 0.01687445504869998, 'random_strength': 75, 'boosting_type': 'Ordered', 'bootstrap_type': 'Bayesian', 'random_state': 42}. Best is trial 78 with value: 0.8414774341884316.\u001B[0m\n",
      "\u001B[32m[I 2023-02-05 16:59:41,941]\u001B[0m Trial 135 finished with value: 0.840402748714769 and parameters: {'iterations': 7396, 'depth': 4, 'learning_rate': 0.02760717890015865, 'objective': 'Logloss', 'colsample_bylevel': 0.010241355097162173, 'random_strength': 73, 'boosting_type': 'Plain', 'bootstrap_type': 'Bernoulli', 'random_state': 42}. Best is trial 78 with value: 0.8414774341884316.\u001B[0m\n",
      "\u001B[32m[I 2023-02-05 16:59:44,801]\u001B[0m Trial 131 finished with value: 0.8408432147562581 and parameters: {'iterations': 7142, 'depth': 4, 'learning_rate': 0.038416207495141234, 'objective': 'Logloss', 'colsample_bylevel': 0.010409305524335433, 'random_strength': 73, 'boosting_type': 'Ordered', 'bootstrap_type': 'Bayesian', 'random_state': 42}. Best is trial 78 with value: 0.8414774341884316.\u001B[0m\n",
      "\u001B[32m[I 2023-02-05 16:59:46,143]\u001B[0m Trial 136 finished with value: 0.8404234157431087 and parameters: {'iterations': 7261, 'depth': 4, 'learning_rate': 0.02027904285469481, 'objective': 'Logloss', 'colsample_bylevel': 0.010074482879415553, 'random_strength': 52, 'boosting_type': 'Plain', 'bootstrap_type': 'Bernoulli', 'random_state': 42}. Best is trial 78 with value: 0.8414774341884316.\u001B[0m\n",
      "\u001B[32m[I 2023-02-05 16:59:58,476]\u001B[0m Trial 137 finished with value: 0.8403872484435146 and parameters: {'iterations': 7413, 'depth': 4, 'learning_rate': 0.020358328753081217, 'objective': 'Logloss', 'colsample_bylevel': 0.010515234879862874, 'random_strength': 74, 'boosting_type': 'Plain', 'bootstrap_type': 'Bernoulli', 'random_state': 42}. Best is trial 78 with value: 0.8414774341884316.\u001B[0m\n",
      "\u001B[32m[I 2023-02-05 16:59:58,733]\u001B[0m Trial 138 finished with value: 0.8399028649668034 and parameters: {'iterations': 7252, 'depth': 4, 'learning_rate': 0.038794495830054745, 'objective': 'Logloss', 'colsample_bylevel': 0.013454712994951231, 'random_strength': 49, 'boosting_type': 'Plain', 'bootstrap_type': 'Bernoulli', 'random_state': 42}. Best is trial 78 with value: 0.8414774341884316.\u001B[0m\n",
      "\u001B[32m[I 2023-02-05 17:00:03,600]\u001B[0m Trial 139 finished with value: 0.8403988736469554 and parameters: {'iterations': 7257, 'depth': 4, 'learning_rate': 0.03979034555531242, 'objective': 'Logloss', 'colsample_bylevel': 0.013464095449765519, 'random_strength': 48, 'boosting_type': 'Plain', 'bootstrap_type': 'Bernoulli', 'random_state': 42}. Best is trial 78 with value: 0.8414774341884316.\u001B[0m\n",
      "\u001B[32m[I 2023-02-05 17:00:05,167]\u001B[0m Trial 140 finished with value: 0.8406029605518096 and parameters: {'iterations': 7244, 'depth': 4, 'learning_rate': 0.020079962207780532, 'objective': 'Logloss', 'colsample_bylevel': 0.013445370581007386, 'random_strength': 44, 'boosting_type': 'Plain', 'bootstrap_type': 'Bernoulli', 'random_state': 42}. Best is trial 78 with value: 0.8414774341884316.\u001B[0m\n",
      "\u001B[32m[I 2023-02-05 17:00:10,464]\u001B[0m Trial 142 finished with value: 0.8413327649900539 and parameters: {'iterations': 6737, 'depth': 4, 'learning_rate': 0.019992123584090235, 'objective': 'Logloss', 'colsample_bylevel': 0.013841449078268505, 'random_strength': 72, 'boosting_type': 'Plain', 'bootstrap_type': 'Bernoulli', 'random_state': 42}. Best is trial 78 with value: 0.8414774341884316.\u001B[0m\n",
      "\u001B[32m[I 2023-02-05 17:00:10,636]\u001B[0m Trial 141 finished with value: 0.8409465498979565 and parameters: {'iterations': 7412, 'depth': 4, 'learning_rate': 0.039423603960016006, 'objective': 'Logloss', 'colsample_bylevel': 0.013350903748485873, 'random_strength': 53, 'boosting_type': 'Plain', 'bootstrap_type': 'Bernoulli', 'random_state': 42}. Best is trial 78 with value: 0.8414774341884316.\u001B[0m\n",
      "\u001B[32m[I 2023-02-05 17:00:10,968]\u001B[0m Trial 132 finished with value: 0.8392195613423236 and parameters: {'iterations': 7606, 'depth': 11, 'learning_rate': 0.01982260194439806, 'objective': 'Logloss', 'colsample_bylevel': 0.010557393232211141, 'random_strength': 48, 'boosting_type': 'Ordered', 'bootstrap_type': 'Bernoulli', 'random_state': 42}. Best is trial 78 with value: 0.8414774341884316.\u001B[0m\n",
      "\u001B[32m[I 2023-02-05 17:00:11,971]\u001B[0m Trial 143 finished with value: 0.8402464543129505 and parameters: {'iterations': 6765, 'depth': 4, 'learning_rate': 0.019695908686920543, 'objective': 'Logloss', 'colsample_bylevel': 0.013862385467281897, 'random_strength': 41, 'boosting_type': 'Plain', 'bootstrap_type': 'Bernoulli', 'random_state': 42}. Best is trial 78 with value: 0.8414774341884316.\u001B[0m\n",
      "\u001B[32m[I 2023-02-05 17:00:16,920]\u001B[0m Trial 144 finished with value: 0.8403988736469554 and parameters: {'iterations': 7415, 'depth': 4, 'learning_rate': 0.0203421508459214, 'objective': 'Logloss', 'colsample_bylevel': 0.013730149640837757, 'random_strength': 1, 'boosting_type': 'Plain', 'bootstrap_type': 'Bernoulli', 'random_state': 42}. Best is trial 78 with value: 0.8414774341884316.\u001B[0m\n",
      "\u001B[32m[I 2023-02-05 17:00:19,888]\u001B[0m Trial 145 finished with value: 0.840446666149991 and parameters: {'iterations': 7548, 'depth': 4, 'learning_rate': 0.02216602502285914, 'objective': 'Logloss', 'colsample_bylevel': 0.013712541098444614, 'random_strength': 43, 'boosting_type': 'Plain', 'bootstrap_type': 'Bernoulli', 'random_state': 42}. Best is trial 78 with value: 0.8414774341884316.\u001B[0m\n",
      "\u001B[32m[I 2023-02-05 17:00:20,667]\u001B[0m Trial 147 finished with value: 0.8404466661499908 and parameters: {'iterations': 7290, 'depth': 4, 'learning_rate': 0.020545985736387638, 'objective': 'Logloss', 'colsample_bylevel': 0.013785181960208611, 'random_strength': 43, 'boosting_type': 'Plain', 'bootstrap_type': 'Bernoulli', 'random_state': 42}. Best is trial 78 with value: 0.8414774341884316.\u001B[0m\n",
      "\u001B[32m[I 2023-02-05 17:00:21,436]\u001B[0m Trial 146 finished with value: 0.8406546281226588 and parameters: {'iterations': 7561, 'depth': 4, 'learning_rate': 0.02086547338882766, 'objective': 'Logloss', 'colsample_bylevel': 0.01363202147598929, 'random_strength': 9, 'boosting_type': 'Plain', 'bootstrap_type': 'Bernoulli', 'random_state': 42}. Best is trial 78 with value: 0.8414774341884316.\u001B[0m\n",
      "\u001B[32m[I 2023-02-05 17:00:24,379]\u001B[0m Trial 149 finished with value: 0.8404402077036347 and parameters: {'iterations': 6745, 'depth': 4, 'learning_rate': 0.023235817734623323, 'objective': 'Logloss', 'colsample_bylevel': 0.014209000098652093, 'random_strength': 24, 'boosting_type': 'Plain', 'bootstrap_type': 'Bernoulli', 'random_state': 42}. Best is trial 78 with value: 0.8414774341884316.\u001B[0m\n",
      "\u001B[32m[I 2023-02-05 17:00:24,966]\u001B[0m Trial 148 finished with value: 0.8400281588261128 and parameters: {'iterations': 7568, 'depth': 4, 'learning_rate': 0.023660466994195134, 'objective': 'Logloss', 'colsample_bylevel': 0.013818565133692687, 'random_strength': 26, 'boosting_type': 'Plain', 'bootstrap_type': 'Bernoulli', 'random_state': 42}. Best is trial 78 with value: 0.8414774341884316.\u001B[0m\n"
     ]
    },
    {
     "data": {
      "text/plain": "<IPython.core.display.Markdown object>",
      "text/markdown": "**BEST TRIAL**"
     },
     "metadata": {},
     "output_type": "display_data"
    },
    {
     "name": "stdout",
     "output_type": "stream",
     "text": [
      "Best Score:  0.8414774341884316\n"
     ]
    },
    {
     "data": {
      "text/plain": "<IPython.core.display.Markdown object>",
      "text/markdown": "**CatBoost Tuned Hyperparameters**"
     },
     "metadata": {},
     "output_type": "display_data"
    },
    {
     "name": "stdout",
     "output_type": "stream",
     "text": [
      "{'boosting_type': 'Plain',\n",
      " 'bootstrap_type': 'Bernoulli',\n",
      " 'colsample_bylevel': 0.015788765694226832,\n",
      " 'depth': 4,\n",
      " 'iterations': 6437,\n",
      " 'learning_rate': 0.018936364280258397,\n",
      " 'objective': 'Logloss',\n",
      " 'random_state': 42,\n",
      " 'random_strength': 78}\n",
      "Wall time: 19min 30s\n"
     ]
    }
   ],
   "source": [
    "%%time\n",
    "n_trials = int(150)\n",
    "\n",
    "# set logging level\n",
    "# optuna.logging.set_verbosity(optuna_verbosity)\n",
    "\n",
    "study = optuna.create_study(direction = \"maximize\", sampler = optuna.samplers.TPESampler(seed=int(SEED)))\n",
    "study.optimize(objective, n_trials = n_trials, n_jobs = multiprocessing.cpu_count())\n",
    "\n",
    "printmd('**BEST TRIAL**')\n",
    "print(\"Best Score: \", study.best_value)\n",
    "printmd('**CatBoost Tuned Hyperparameters**')\n",
    "pprint.pprint(study.best_trial.params)"
   ],
   "metadata": {
    "collapsed": false
   }
  },
  {
   "cell_type": "code",
   "execution_count": 124,
   "outputs": [
    {
     "name": "stdout",
     "output_type": "stream",
     "text": [
      "Best Score:  0.8414774341884316\n"
     ]
    },
    {
     "data": {
      "text/plain": "<IPython.core.display.Markdown object>",
      "text/markdown": "**CatBoost Tuned Hyperparameters**"
     },
     "metadata": {},
     "output_type": "display_data"
    },
    {
     "name": "stdout",
     "output_type": "stream",
     "text": [
      "{'boosting_type': 'Plain',\n",
      " 'bootstrap_type': 'Bernoulli',\n",
      " 'colsample_bylevel': 0.015788765694226832,\n",
      " 'depth': 4,\n",
      " 'iterations': 6437,\n",
      " 'learning_rate': 0.018936364280258397,\n",
      " 'objective': 'Logloss',\n",
      " 'random_state': 42,\n",
      " 'random_strength': 78}\n"
     ]
    },
    {
     "data": {
      "application/vnd.plotly.v1+json": {
       "data": [
        {
         "mode": "markers",
         "name": "Objective Value",
         "x": [
          0,
          1,
          2,
          3,
          4,
          5,
          6,
          7,
          8,
          9,
          10,
          11,
          12,
          13,
          14,
          15,
          16,
          17,
          18,
          19,
          20,
          21,
          22,
          23,
          24,
          25,
          26,
          27,
          28,
          29,
          30,
          31,
          32,
          33,
          34,
          35,
          36,
          37,
          38,
          39,
          40,
          41,
          42,
          43,
          44,
          45,
          46,
          47,
          48,
          49,
          50,
          51,
          52,
          53,
          54,
          55,
          56,
          57,
          58,
          59,
          60,
          61,
          62,
          63,
          64,
          65,
          66,
          67,
          68,
          69,
          70,
          71,
          72,
          73,
          74,
          75,
          76,
          77,
          78,
          79,
          80,
          81,
          82,
          83,
          84,
          85,
          86,
          87,
          88,
          89,
          90,
          91,
          92,
          93,
          94,
          95,
          96,
          97,
          98,
          99,
          100,
          101,
          102,
          103,
          104,
          105,
          106,
          107,
          108,
          109,
          110,
          111,
          112,
          113,
          114,
          115,
          116,
          117,
          118,
          119,
          120,
          121,
          122,
          123,
          124,
          125,
          126,
          127,
          128,
          129,
          130,
          131,
          132,
          133,
          134,
          135,
          136,
          137,
          138,
          139,
          140,
          141,
          142,
          143,
          144,
          145,
          146,
          147,
          148,
          149
         ],
         "y": [
          0.8326254876126998,
          0.8257795344751866,
          0.8257859929215429,
          0.8374822392725206,
          0.836734351184479,
          0.8347399829497015,
          0.8397155700224754,
          0.8309811671704255,
          0.8294931411299699,
          0.8191118344571029,
          0.825031646387145,
          0.8395463587279444,
          0.8350887390529333,
          0.8408677568524114,
          0.8334263349608618,
          0.8409840088868221,
          0.8386434679273554,
          0.83920535276034,
          0.8391046009971842,
          0.8313893409801336,
          0.8404582913534321,
          0.8354969128626418,
          0.8398705727350229,
          0.8407050040042366,
          0.8405474179131469,
          0.8395838177168101,
          0.8402012451884573,
          0.8400940349789454,
          0.8400785347076906,
          0.8402916634374433,
          0.8403446226975639,
          0.8408457981348008,
          0.8399144901702446,
          0.8391304347826087,
          0.8400940349789454,
          0.8406856286651683,
          0.8372006510113926,
          0.8397930713787491,
          0.8398951148311762,
          0.8383476710842439,
          0.8359037949830789,
          0.8401973701206438,
          0.840982717197551,
          0.8410382598362136,
          0.8398098633392752,
          0.8413314733007826,
          0.8407941305639516,
          0.8368454364618048,
          0.8380428324162339,
          0.8405047921671962,
          0.840029450515384,
          0.8405538763595028,
          0.8404944586530265,
          0.8356157482755948,
          0.839099434240099,
          0.8402464543129504,
          0.8401663695781344,
          0.8356118732077811,
          0.8353780774496886,
          0.8259836213800409,
          0.8402089953240848,
          0.8405125423028236,
          0.8403226639799529,
          0.840994342400992,
          0.8341871399416158,
          0.8385517579890981,
          0.8335412953060012,
          0.8337479655893978,
          0.8345539796946447,
          0.8334741274638973,
          0.840649461365574,
          0.8407037123149655,
          0.8409543000335837,
          0.8406003771732672,
          0.8411738872096927,
          0.8408574233382418,
          0.8397969464465628,
          0.8401857449172027,
          0.8414774341884316,
          0.8398021132036477,
          0.8399493657805678,
          0.8410020925366195,
          0.8408690485416828,
          0.8397504456327985,
          0.8412178046449145,
          0.8408238394171897,
          0.840429874189465,
          0.8402903717481721,
          0.839769820971867,
          0.8397478622542561,
          0.8400204086904852,
          0.8402464543129504,
          0.840389831822057,
          0.8393035211449533,
          0.8402722880983751,
          0.8411493451135396,
          0.8404660414890593,
          0.8405241675062647,
          0.8407140458291353,
          0.8398589475315817,
          0.8406120023767083,
          0.841151928492082,
          0.8397969464465629,
          0.8405758350771139,
          0.8406081273088943,
          0.8406830452866259,
          0.8407553798858146,
          0.8407527965072722,
          0.8402658296520189,
          0.8394559404789583,
          0.8412643054586789,
          0.8397336536722726,
          0.8408419230669871,
          0.8400049084192307,
          0.840526750884807,
          0.8404505412178047,
          0.8406430029192178,
          0.8403872484435143,
          0.840841923066987,
          0.8405319176418922,
          0.8401896199850164,
          0.8399157818595158,
          0.8408225477279185,
          0.8407566715750858,
          0.8396290268413031,
          0.839871864424294,
          0.8395463587279444,
          0.8406520447441165,
          0.8393538970265312,
          0.839769820971867,
          0.8407037123149657,
          0.8408432147562581,
          0.8392195613423236,
          0.8400217003797568,
          0.840289080058901,
          0.840402748714769,
          0.8404234157431087,
          0.8403872484435146,
          0.8399028649668034,
          0.8403988736469554,
          0.8406029605518096,
          0.8409465498979565,
          0.8413327649900539,
          0.8402464543129505,
          0.8403988736469554,
          0.840446666149991,
          0.8406546281226588,
          0.8404466661499908,
          0.8400281588261128,
          0.8404402077036347
         ],
         "type": "scatter"
        },
        {
         "name": "Best Value",
         "x": [
          0,
          1,
          2,
          3,
          4,
          5,
          6,
          7,
          8,
          9,
          10,
          11,
          12,
          13,
          14,
          15,
          16,
          17,
          18,
          19,
          20,
          21,
          22,
          23,
          24,
          25,
          26,
          27,
          28,
          29,
          30,
          31,
          32,
          33,
          34,
          35,
          36,
          37,
          38,
          39,
          40,
          41,
          42,
          43,
          44,
          45,
          46,
          47,
          48,
          49,
          50,
          51,
          52,
          53,
          54,
          55,
          56,
          57,
          58,
          59,
          60,
          61,
          62,
          63,
          64,
          65,
          66,
          67,
          68,
          69,
          70,
          71,
          72,
          73,
          74,
          75,
          76,
          77,
          78,
          79,
          80,
          81,
          82,
          83,
          84,
          85,
          86,
          87,
          88,
          89,
          90,
          91,
          92,
          93,
          94,
          95,
          96,
          97,
          98,
          99,
          100,
          101,
          102,
          103,
          104,
          105,
          106,
          107,
          108,
          109,
          110,
          111,
          112,
          113,
          114,
          115,
          116,
          117,
          118,
          119,
          120,
          121,
          122,
          123,
          124,
          125,
          126,
          127,
          128,
          129,
          130,
          131,
          132,
          133,
          134,
          135,
          136,
          137,
          138,
          139,
          140,
          141,
          142,
          143,
          144,
          145,
          146,
          147,
          148,
          149
         ],
         "y": [
          0.8326254876126998,
          0.8326254876126998,
          0.8326254876126998,
          0.8374822392725206,
          0.8374822392725206,
          0.8374822392725206,
          0.8397155700224754,
          0.8397155700224754,
          0.8397155700224754,
          0.8397155700224754,
          0.8397155700224754,
          0.8397155700224754,
          0.8397155700224754,
          0.8408677568524114,
          0.8408677568524114,
          0.8409840088868221,
          0.8409840088868221,
          0.8409840088868221,
          0.8409840088868221,
          0.8409840088868221,
          0.8409840088868221,
          0.8409840088868221,
          0.8409840088868221,
          0.8409840088868221,
          0.8409840088868221,
          0.8409840088868221,
          0.8409840088868221,
          0.8409840088868221,
          0.8409840088868221,
          0.8409840088868221,
          0.8409840088868221,
          0.8409840088868221,
          0.8409840088868221,
          0.8409840088868221,
          0.8409840088868221,
          0.8409840088868221,
          0.8409840088868221,
          0.8409840088868221,
          0.8409840088868221,
          0.8409840088868221,
          0.8409840088868221,
          0.8409840088868221,
          0.8409840088868221,
          0.8410382598362136,
          0.8410382598362136,
          0.8413314733007826,
          0.8413314733007826,
          0.8413314733007826,
          0.8413314733007826,
          0.8413314733007826,
          0.8413314733007826,
          0.8413314733007826,
          0.8413314733007826,
          0.8413314733007826,
          0.8413314733007826,
          0.8413314733007826,
          0.8413314733007826,
          0.8413314733007826,
          0.8413314733007826,
          0.8413314733007826,
          0.8413314733007826,
          0.8413314733007826,
          0.8413314733007826,
          0.8413314733007826,
          0.8413314733007826,
          0.8413314733007826,
          0.8413314733007826,
          0.8413314733007826,
          0.8413314733007826,
          0.8413314733007826,
          0.8413314733007826,
          0.8413314733007826,
          0.8413314733007826,
          0.8413314733007826,
          0.8413314733007826,
          0.8413314733007826,
          0.8413314733007826,
          0.8413314733007826,
          0.8414774341884316,
          0.8414774341884316,
          0.8414774341884316,
          0.8414774341884316,
          0.8414774341884316,
          0.8414774341884316,
          0.8414774341884316,
          0.8414774341884316,
          0.8414774341884316,
          0.8414774341884316,
          0.8414774341884316,
          0.8414774341884316,
          0.8414774341884316,
          0.8414774341884316,
          0.8414774341884316,
          0.8414774341884316,
          0.8414774341884316,
          0.8414774341884316,
          0.8414774341884316,
          0.8414774341884316,
          0.8414774341884316,
          0.8414774341884316,
          0.8414774341884316,
          0.8414774341884316,
          0.8414774341884316,
          0.8414774341884316,
          0.8414774341884316,
          0.8414774341884316,
          0.8414774341884316,
          0.8414774341884316,
          0.8414774341884316,
          0.8414774341884316,
          0.8414774341884316,
          0.8414774341884316,
          0.8414774341884316,
          0.8414774341884316,
          0.8414774341884316,
          0.8414774341884316,
          0.8414774341884316,
          0.8414774341884316,
          0.8414774341884316,
          0.8414774341884316,
          0.8414774341884316,
          0.8414774341884316,
          0.8414774341884316,
          0.8414774341884316,
          0.8414774341884316,
          0.8414774341884316,
          0.8414774341884316,
          0.8414774341884316,
          0.8414774341884316,
          0.8414774341884316,
          0.8414774341884316,
          0.8414774341884316,
          0.8414774341884316,
          0.8414774341884316,
          0.8414774341884316,
          0.8414774341884316,
          0.8414774341884316,
          0.8414774341884316,
          0.8414774341884316,
          0.8414774341884316,
          0.8414774341884316,
          0.8414774341884316,
          0.8414774341884316,
          0.8414774341884316,
          0.8414774341884316,
          0.8414774341884316,
          0.8414774341884316,
          0.8414774341884316,
          0.8414774341884316,
          0.8414774341884316
         ],
         "type": "scatter"
        }
       ],
       "layout": {
        "title": {
         "text": "Optimization History Plot"
        },
        "xaxis": {
         "title": {
          "text": "Trial"
         }
        },
        "yaxis": {
         "title": {
          "text": "Objective Value"
         }
        },
        "template": {
         "data": {
          "histogram2dcontour": [
           {
            "type": "histogram2dcontour",
            "colorbar": {
             "outlinewidth": 0,
             "ticks": ""
            },
            "colorscale": [
             [
              0.0,
              "#0d0887"
             ],
             [
              0.1111111111111111,
              "#46039f"
             ],
             [
              0.2222222222222222,
              "#7201a8"
             ],
             [
              0.3333333333333333,
              "#9c179e"
             ],
             [
              0.4444444444444444,
              "#bd3786"
             ],
             [
              0.5555555555555556,
              "#d8576b"
             ],
             [
              0.6666666666666666,
              "#ed7953"
             ],
             [
              0.7777777777777778,
              "#fb9f3a"
             ],
             [
              0.8888888888888888,
              "#fdca26"
             ],
             [
              1.0,
              "#f0f921"
             ]
            ]
           }
          ],
          "choropleth": [
           {
            "type": "choropleth",
            "colorbar": {
             "outlinewidth": 0,
             "ticks": ""
            }
           }
          ],
          "histogram2d": [
           {
            "type": "histogram2d",
            "colorbar": {
             "outlinewidth": 0,
             "ticks": ""
            },
            "colorscale": [
             [
              0.0,
              "#0d0887"
             ],
             [
              0.1111111111111111,
              "#46039f"
             ],
             [
              0.2222222222222222,
              "#7201a8"
             ],
             [
              0.3333333333333333,
              "#9c179e"
             ],
             [
              0.4444444444444444,
              "#bd3786"
             ],
             [
              0.5555555555555556,
              "#d8576b"
             ],
             [
              0.6666666666666666,
              "#ed7953"
             ],
             [
              0.7777777777777778,
              "#fb9f3a"
             ],
             [
              0.8888888888888888,
              "#fdca26"
             ],
             [
              1.0,
              "#f0f921"
             ]
            ]
           }
          ],
          "heatmap": [
           {
            "type": "heatmap",
            "colorbar": {
             "outlinewidth": 0,
             "ticks": ""
            },
            "colorscale": [
             [
              0.0,
              "#0d0887"
             ],
             [
              0.1111111111111111,
              "#46039f"
             ],
             [
              0.2222222222222222,
              "#7201a8"
             ],
             [
              0.3333333333333333,
              "#9c179e"
             ],
             [
              0.4444444444444444,
              "#bd3786"
             ],
             [
              0.5555555555555556,
              "#d8576b"
             ],
             [
              0.6666666666666666,
              "#ed7953"
             ],
             [
              0.7777777777777778,
              "#fb9f3a"
             ],
             [
              0.8888888888888888,
              "#fdca26"
             ],
             [
              1.0,
              "#f0f921"
             ]
            ]
           }
          ],
          "heatmapgl": [
           {
            "type": "heatmapgl",
            "colorbar": {
             "outlinewidth": 0,
             "ticks": ""
            },
            "colorscale": [
             [
              0.0,
              "#0d0887"
             ],
             [
              0.1111111111111111,
              "#46039f"
             ],
             [
              0.2222222222222222,
              "#7201a8"
             ],
             [
              0.3333333333333333,
              "#9c179e"
             ],
             [
              0.4444444444444444,
              "#bd3786"
             ],
             [
              0.5555555555555556,
              "#d8576b"
             ],
             [
              0.6666666666666666,
              "#ed7953"
             ],
             [
              0.7777777777777778,
              "#fb9f3a"
             ],
             [
              0.8888888888888888,
              "#fdca26"
             ],
             [
              1.0,
              "#f0f921"
             ]
            ]
           }
          ],
          "contourcarpet": [
           {
            "type": "contourcarpet",
            "colorbar": {
             "outlinewidth": 0,
             "ticks": ""
            }
           }
          ],
          "contour": [
           {
            "type": "contour",
            "colorbar": {
             "outlinewidth": 0,
             "ticks": ""
            },
            "colorscale": [
             [
              0.0,
              "#0d0887"
             ],
             [
              0.1111111111111111,
              "#46039f"
             ],
             [
              0.2222222222222222,
              "#7201a8"
             ],
             [
              0.3333333333333333,
              "#9c179e"
             ],
             [
              0.4444444444444444,
              "#bd3786"
             ],
             [
              0.5555555555555556,
              "#d8576b"
             ],
             [
              0.6666666666666666,
              "#ed7953"
             ],
             [
              0.7777777777777778,
              "#fb9f3a"
             ],
             [
              0.8888888888888888,
              "#fdca26"
             ],
             [
              1.0,
              "#f0f921"
             ]
            ]
           }
          ],
          "surface": [
           {
            "type": "surface",
            "colorbar": {
             "outlinewidth": 0,
             "ticks": ""
            },
            "colorscale": [
             [
              0.0,
              "#0d0887"
             ],
             [
              0.1111111111111111,
              "#46039f"
             ],
             [
              0.2222222222222222,
              "#7201a8"
             ],
             [
              0.3333333333333333,
              "#9c179e"
             ],
             [
              0.4444444444444444,
              "#bd3786"
             ],
             [
              0.5555555555555556,
              "#d8576b"
             ],
             [
              0.6666666666666666,
              "#ed7953"
             ],
             [
              0.7777777777777778,
              "#fb9f3a"
             ],
             [
              0.8888888888888888,
              "#fdca26"
             ],
             [
              1.0,
              "#f0f921"
             ]
            ]
           }
          ],
          "mesh3d": [
           {
            "type": "mesh3d",
            "colorbar": {
             "outlinewidth": 0,
             "ticks": ""
            }
           }
          ],
          "scatter": [
           {
            "fillpattern": {
             "fillmode": "overlay",
             "size": 10,
             "solidity": 0.2
            },
            "type": "scatter"
           }
          ],
          "parcoords": [
           {
            "type": "parcoords",
            "line": {
             "colorbar": {
              "outlinewidth": 0,
              "ticks": ""
             }
            }
           }
          ],
          "scatterpolargl": [
           {
            "type": "scatterpolargl",
            "marker": {
             "colorbar": {
              "outlinewidth": 0,
              "ticks": ""
             }
            }
           }
          ],
          "bar": [
           {
            "error_x": {
             "color": "#2a3f5f"
            },
            "error_y": {
             "color": "#2a3f5f"
            },
            "marker": {
             "line": {
              "color": "#E5ECF6",
              "width": 0.5
             },
             "pattern": {
              "fillmode": "overlay",
              "size": 10,
              "solidity": 0.2
             }
            },
            "type": "bar"
           }
          ],
          "scattergeo": [
           {
            "type": "scattergeo",
            "marker": {
             "colorbar": {
              "outlinewidth": 0,
              "ticks": ""
             }
            }
           }
          ],
          "scatterpolar": [
           {
            "type": "scatterpolar",
            "marker": {
             "colorbar": {
              "outlinewidth": 0,
              "ticks": ""
             }
            }
           }
          ],
          "histogram": [
           {
            "marker": {
             "pattern": {
              "fillmode": "overlay",
              "size": 10,
              "solidity": 0.2
             }
            },
            "type": "histogram"
           }
          ],
          "scattergl": [
           {
            "type": "scattergl",
            "marker": {
             "colorbar": {
              "outlinewidth": 0,
              "ticks": ""
             }
            }
           }
          ],
          "scatter3d": [
           {
            "type": "scatter3d",
            "line": {
             "colorbar": {
              "outlinewidth": 0,
              "ticks": ""
             }
            },
            "marker": {
             "colorbar": {
              "outlinewidth": 0,
              "ticks": ""
             }
            }
           }
          ],
          "scattermapbox": [
           {
            "type": "scattermapbox",
            "marker": {
             "colorbar": {
              "outlinewidth": 0,
              "ticks": ""
             }
            }
           }
          ],
          "scatterternary": [
           {
            "type": "scatterternary",
            "marker": {
             "colorbar": {
              "outlinewidth": 0,
              "ticks": ""
             }
            }
           }
          ],
          "scattercarpet": [
           {
            "type": "scattercarpet",
            "marker": {
             "colorbar": {
              "outlinewidth": 0,
              "ticks": ""
             }
            }
           }
          ],
          "carpet": [
           {
            "aaxis": {
             "endlinecolor": "#2a3f5f",
             "gridcolor": "white",
             "linecolor": "white",
             "minorgridcolor": "white",
             "startlinecolor": "#2a3f5f"
            },
            "baxis": {
             "endlinecolor": "#2a3f5f",
             "gridcolor": "white",
             "linecolor": "white",
             "minorgridcolor": "white",
             "startlinecolor": "#2a3f5f"
            },
            "type": "carpet"
           }
          ],
          "table": [
           {
            "cells": {
             "fill": {
              "color": "#EBF0F8"
             },
             "line": {
              "color": "white"
             }
            },
            "header": {
             "fill": {
              "color": "#C8D4E3"
             },
             "line": {
              "color": "white"
             }
            },
            "type": "table"
           }
          ],
          "barpolar": [
           {
            "marker": {
             "line": {
              "color": "#E5ECF6",
              "width": 0.5
             },
             "pattern": {
              "fillmode": "overlay",
              "size": 10,
              "solidity": 0.2
             }
            },
            "type": "barpolar"
           }
          ],
          "pie": [
           {
            "automargin": true,
            "type": "pie"
           }
          ]
         },
         "layout": {
          "autotypenumbers": "strict",
          "colorway": [
           "#636efa",
           "#EF553B",
           "#00cc96",
           "#ab63fa",
           "#FFA15A",
           "#19d3f3",
           "#FF6692",
           "#B6E880",
           "#FF97FF",
           "#FECB52"
          ],
          "font": {
           "color": "#2a3f5f"
          },
          "hovermode": "closest",
          "hoverlabel": {
           "align": "left"
          },
          "paper_bgcolor": "white",
          "plot_bgcolor": "#E5ECF6",
          "polar": {
           "bgcolor": "#E5ECF6",
           "angularaxis": {
            "gridcolor": "white",
            "linecolor": "white",
            "ticks": ""
           },
           "radialaxis": {
            "gridcolor": "white",
            "linecolor": "white",
            "ticks": ""
           }
          },
          "ternary": {
           "bgcolor": "#E5ECF6",
           "aaxis": {
            "gridcolor": "white",
            "linecolor": "white",
            "ticks": ""
           },
           "baxis": {
            "gridcolor": "white",
            "linecolor": "white",
            "ticks": ""
           },
           "caxis": {
            "gridcolor": "white",
            "linecolor": "white",
            "ticks": ""
           }
          },
          "coloraxis": {
           "colorbar": {
            "outlinewidth": 0,
            "ticks": ""
           }
          },
          "colorscale": {
           "sequential": [
            [
             0.0,
             "#0d0887"
            ],
            [
             0.1111111111111111,
             "#46039f"
            ],
            [
             0.2222222222222222,
             "#7201a8"
            ],
            [
             0.3333333333333333,
             "#9c179e"
            ],
            [
             0.4444444444444444,
             "#bd3786"
            ],
            [
             0.5555555555555556,
             "#d8576b"
            ],
            [
             0.6666666666666666,
             "#ed7953"
            ],
            [
             0.7777777777777778,
             "#fb9f3a"
            ],
            [
             0.8888888888888888,
             "#fdca26"
            ],
            [
             1.0,
             "#f0f921"
            ]
           ],
           "sequentialminus": [
            [
             0.0,
             "#0d0887"
            ],
            [
             0.1111111111111111,
             "#46039f"
            ],
            [
             0.2222222222222222,
             "#7201a8"
            ],
            [
             0.3333333333333333,
             "#9c179e"
            ],
            [
             0.4444444444444444,
             "#bd3786"
            ],
            [
             0.5555555555555556,
             "#d8576b"
            ],
            [
             0.6666666666666666,
             "#ed7953"
            ],
            [
             0.7777777777777778,
             "#fb9f3a"
            ],
            [
             0.8888888888888888,
             "#fdca26"
            ],
            [
             1.0,
             "#f0f921"
            ]
           ],
           "diverging": [
            [
             0,
             "#8e0152"
            ],
            [
             0.1,
             "#c51b7d"
            ],
            [
             0.2,
             "#de77ae"
            ],
            [
             0.3,
             "#f1b6da"
            ],
            [
             0.4,
             "#fde0ef"
            ],
            [
             0.5,
             "#f7f7f7"
            ],
            [
             0.6,
             "#e6f5d0"
            ],
            [
             0.7,
             "#b8e186"
            ],
            [
             0.8,
             "#7fbc41"
            ],
            [
             0.9,
             "#4d9221"
            ],
            [
             1,
             "#276419"
            ]
           ]
          },
          "xaxis": {
           "gridcolor": "white",
           "linecolor": "white",
           "ticks": "",
           "title": {
            "standoff": 15
           },
           "zerolinecolor": "white",
           "automargin": true,
           "zerolinewidth": 2
          },
          "yaxis": {
           "gridcolor": "white",
           "linecolor": "white",
           "ticks": "",
           "title": {
            "standoff": 15
           },
           "zerolinecolor": "white",
           "automargin": true,
           "zerolinewidth": 2
          },
          "scene": {
           "xaxis": {
            "backgroundcolor": "#E5ECF6",
            "gridcolor": "white",
            "linecolor": "white",
            "showbackground": true,
            "ticks": "",
            "zerolinecolor": "white",
            "gridwidth": 2
           },
           "yaxis": {
            "backgroundcolor": "#E5ECF6",
            "gridcolor": "white",
            "linecolor": "white",
            "showbackground": true,
            "ticks": "",
            "zerolinecolor": "white",
            "gridwidth": 2
           },
           "zaxis": {
            "backgroundcolor": "#E5ECF6",
            "gridcolor": "white",
            "linecolor": "white",
            "showbackground": true,
            "ticks": "",
            "zerolinecolor": "white",
            "gridwidth": 2
           }
          },
          "shapedefaults": {
           "line": {
            "color": "#2a3f5f"
           }
          },
          "annotationdefaults": {
           "arrowcolor": "#2a3f5f",
           "arrowhead": 0,
           "arrowwidth": 1
          },
          "geo": {
           "bgcolor": "white",
           "landcolor": "#E5ECF6",
           "subunitcolor": "white",
           "showland": true,
           "showlakes": true,
           "lakecolor": "white"
          },
          "title": {
           "x": 0.05
          },
          "mapbox": {
           "style": "light"
          }
         }
        }
       },
       "config": {
        "plotlyServerURL": "https://plot.ly"
       }
      },
      "text/html": "<div>                            <div id=\"4258fe06-71e3-40a3-964e-ac9c3faa7680\" class=\"plotly-graph-div\" style=\"height:525px; width:100%;\"></div>            <script type=\"text/javascript\">                require([\"plotly\"], function(Plotly) {                    window.PLOTLYENV=window.PLOTLYENV || {};                                    if (document.getElementById(\"4258fe06-71e3-40a3-964e-ac9c3faa7680\")) {                    Plotly.newPlot(                        \"4258fe06-71e3-40a3-964e-ac9c3faa7680\",                        [{\"mode\":\"markers\",\"name\":\"Objective Value\",\"x\":[0,1,2,3,4,5,6,7,8,9,10,11,12,13,14,15,16,17,18,19,20,21,22,23,24,25,26,27,28,29,30,31,32,33,34,35,36,37,38,39,40,41,42,43,44,45,46,47,48,49,50,51,52,53,54,55,56,57,58,59,60,61,62,63,64,65,66,67,68,69,70,71,72,73,74,75,76,77,78,79,80,81,82,83,84,85,86,87,88,89,90,91,92,93,94,95,96,97,98,99,100,101,102,103,104,105,106,107,108,109,110,111,112,113,114,115,116,117,118,119,120,121,122,123,124,125,126,127,128,129,130,131,132,133,134,135,136,137,138,139,140,141,142,143,144,145,146,147,148,149],\"y\":[0.8326254876126998,0.8257795344751866,0.8257859929215429,0.8374822392725206,0.836734351184479,0.8347399829497015,0.8397155700224754,0.8309811671704255,0.8294931411299699,0.8191118344571029,0.825031646387145,0.8395463587279444,0.8350887390529333,0.8408677568524114,0.8334263349608618,0.8409840088868221,0.8386434679273554,0.83920535276034,0.8391046009971842,0.8313893409801336,0.8404582913534321,0.8354969128626418,0.8398705727350229,0.8407050040042366,0.8405474179131469,0.8395838177168101,0.8402012451884573,0.8400940349789454,0.8400785347076906,0.8402916634374433,0.8403446226975639,0.8408457981348008,0.8399144901702446,0.8391304347826087,0.8400940349789454,0.8406856286651683,0.8372006510113926,0.8397930713787491,0.8398951148311762,0.8383476710842439,0.8359037949830789,0.8401973701206438,0.840982717197551,0.8410382598362136,0.8398098633392752,0.8413314733007826,0.8407941305639516,0.8368454364618048,0.8380428324162339,0.8405047921671962,0.840029450515384,0.8405538763595028,0.8404944586530265,0.8356157482755948,0.839099434240099,0.8402464543129504,0.8401663695781344,0.8356118732077811,0.8353780774496886,0.8259836213800409,0.8402089953240848,0.8405125423028236,0.8403226639799529,0.840994342400992,0.8341871399416158,0.8385517579890981,0.8335412953060012,0.8337479655893978,0.8345539796946447,0.8334741274638973,0.840649461365574,0.8407037123149655,0.8409543000335837,0.8406003771732672,0.8411738872096927,0.8408574233382418,0.8397969464465628,0.8401857449172027,0.8414774341884316,0.8398021132036477,0.8399493657805678,0.8410020925366195,0.8408690485416828,0.8397504456327985,0.8412178046449145,0.8408238394171897,0.840429874189465,0.8402903717481721,0.839769820971867,0.8397478622542561,0.8400204086904852,0.8402464543129504,0.840389831822057,0.8393035211449533,0.8402722880983751,0.8411493451135396,0.8404660414890593,0.8405241675062647,0.8407140458291353,0.8398589475315817,0.8406120023767083,0.841151928492082,0.8397969464465629,0.8405758350771139,0.8406081273088943,0.8406830452866259,0.8407553798858146,0.8407527965072722,0.8402658296520189,0.8394559404789583,0.8412643054586789,0.8397336536722726,0.8408419230669871,0.8400049084192307,0.840526750884807,0.8404505412178047,0.8406430029192178,0.8403872484435143,0.840841923066987,0.8405319176418922,0.8401896199850164,0.8399157818595158,0.8408225477279185,0.8407566715750858,0.8396290268413031,0.839871864424294,0.8395463587279444,0.8406520447441165,0.8393538970265312,0.839769820971867,0.8407037123149657,0.8408432147562581,0.8392195613423236,0.8400217003797568,0.840289080058901,0.840402748714769,0.8404234157431087,0.8403872484435146,0.8399028649668034,0.8403988736469554,0.8406029605518096,0.8409465498979565,0.8413327649900539,0.8402464543129505,0.8403988736469554,0.840446666149991,0.8406546281226588,0.8404466661499908,0.8400281588261128,0.8404402077036347],\"type\":\"scatter\"},{\"name\":\"Best Value\",\"x\":[0,1,2,3,4,5,6,7,8,9,10,11,12,13,14,15,16,17,18,19,20,21,22,23,24,25,26,27,28,29,30,31,32,33,34,35,36,37,38,39,40,41,42,43,44,45,46,47,48,49,50,51,52,53,54,55,56,57,58,59,60,61,62,63,64,65,66,67,68,69,70,71,72,73,74,75,76,77,78,79,80,81,82,83,84,85,86,87,88,89,90,91,92,93,94,95,96,97,98,99,100,101,102,103,104,105,106,107,108,109,110,111,112,113,114,115,116,117,118,119,120,121,122,123,124,125,126,127,128,129,130,131,132,133,134,135,136,137,138,139,140,141,142,143,144,145,146,147,148,149],\"y\":[0.8326254876126998,0.8326254876126998,0.8326254876126998,0.8374822392725206,0.8374822392725206,0.8374822392725206,0.8397155700224754,0.8397155700224754,0.8397155700224754,0.8397155700224754,0.8397155700224754,0.8397155700224754,0.8397155700224754,0.8408677568524114,0.8408677568524114,0.8409840088868221,0.8409840088868221,0.8409840088868221,0.8409840088868221,0.8409840088868221,0.8409840088868221,0.8409840088868221,0.8409840088868221,0.8409840088868221,0.8409840088868221,0.8409840088868221,0.8409840088868221,0.8409840088868221,0.8409840088868221,0.8409840088868221,0.8409840088868221,0.8409840088868221,0.8409840088868221,0.8409840088868221,0.8409840088868221,0.8409840088868221,0.8409840088868221,0.8409840088868221,0.8409840088868221,0.8409840088868221,0.8409840088868221,0.8409840088868221,0.8409840088868221,0.8410382598362136,0.8410382598362136,0.8413314733007826,0.8413314733007826,0.8413314733007826,0.8413314733007826,0.8413314733007826,0.8413314733007826,0.8413314733007826,0.8413314733007826,0.8413314733007826,0.8413314733007826,0.8413314733007826,0.8413314733007826,0.8413314733007826,0.8413314733007826,0.8413314733007826,0.8413314733007826,0.8413314733007826,0.8413314733007826,0.8413314733007826,0.8413314733007826,0.8413314733007826,0.8413314733007826,0.8413314733007826,0.8413314733007826,0.8413314733007826,0.8413314733007826,0.8413314733007826,0.8413314733007826,0.8413314733007826,0.8413314733007826,0.8413314733007826,0.8413314733007826,0.8413314733007826,0.8414774341884316,0.8414774341884316,0.8414774341884316,0.8414774341884316,0.8414774341884316,0.8414774341884316,0.8414774341884316,0.8414774341884316,0.8414774341884316,0.8414774341884316,0.8414774341884316,0.8414774341884316,0.8414774341884316,0.8414774341884316,0.8414774341884316,0.8414774341884316,0.8414774341884316,0.8414774341884316,0.8414774341884316,0.8414774341884316,0.8414774341884316,0.8414774341884316,0.8414774341884316,0.8414774341884316,0.8414774341884316,0.8414774341884316,0.8414774341884316,0.8414774341884316,0.8414774341884316,0.8414774341884316,0.8414774341884316,0.8414774341884316,0.8414774341884316,0.8414774341884316,0.8414774341884316,0.8414774341884316,0.8414774341884316,0.8414774341884316,0.8414774341884316,0.8414774341884316,0.8414774341884316,0.8414774341884316,0.8414774341884316,0.8414774341884316,0.8414774341884316,0.8414774341884316,0.8414774341884316,0.8414774341884316,0.8414774341884316,0.8414774341884316,0.8414774341884316,0.8414774341884316,0.8414774341884316,0.8414774341884316,0.8414774341884316,0.8414774341884316,0.8414774341884316,0.8414774341884316,0.8414774341884316,0.8414774341884316,0.8414774341884316,0.8414774341884316,0.8414774341884316,0.8414774341884316,0.8414774341884316,0.8414774341884316,0.8414774341884316,0.8414774341884316,0.8414774341884316,0.8414774341884316,0.8414774341884316,0.8414774341884316],\"type\":\"scatter\"}],                        {\"title\":{\"text\":\"Optimization History Plot\"},\"xaxis\":{\"title\":{\"text\":\"Trial\"}},\"yaxis\":{\"title\":{\"text\":\"Objective Value\"}},\"template\":{\"data\":{\"histogram2dcontour\":[{\"type\":\"histogram2dcontour\",\"colorbar\":{\"outlinewidth\":0,\"ticks\":\"\"},\"colorscale\":[[0.0,\"#0d0887\"],[0.1111111111111111,\"#46039f\"],[0.2222222222222222,\"#7201a8\"],[0.3333333333333333,\"#9c179e\"],[0.4444444444444444,\"#bd3786\"],[0.5555555555555556,\"#d8576b\"],[0.6666666666666666,\"#ed7953\"],[0.7777777777777778,\"#fb9f3a\"],[0.8888888888888888,\"#fdca26\"],[1.0,\"#f0f921\"]]}],\"choropleth\":[{\"type\":\"choropleth\",\"colorbar\":{\"outlinewidth\":0,\"ticks\":\"\"}}],\"histogram2d\":[{\"type\":\"histogram2d\",\"colorbar\":{\"outlinewidth\":0,\"ticks\":\"\"},\"colorscale\":[[0.0,\"#0d0887\"],[0.1111111111111111,\"#46039f\"],[0.2222222222222222,\"#7201a8\"],[0.3333333333333333,\"#9c179e\"],[0.4444444444444444,\"#bd3786\"],[0.5555555555555556,\"#d8576b\"],[0.6666666666666666,\"#ed7953\"],[0.7777777777777778,\"#fb9f3a\"],[0.8888888888888888,\"#fdca26\"],[1.0,\"#f0f921\"]]}],\"heatmap\":[{\"type\":\"heatmap\",\"colorbar\":{\"outlinewidth\":0,\"ticks\":\"\"},\"colorscale\":[[0.0,\"#0d0887\"],[0.1111111111111111,\"#46039f\"],[0.2222222222222222,\"#7201a8\"],[0.3333333333333333,\"#9c179e\"],[0.4444444444444444,\"#bd3786\"],[0.5555555555555556,\"#d8576b\"],[0.6666666666666666,\"#ed7953\"],[0.7777777777777778,\"#fb9f3a\"],[0.8888888888888888,\"#fdca26\"],[1.0,\"#f0f921\"]]}],\"heatmapgl\":[{\"type\":\"heatmapgl\",\"colorbar\":{\"outlinewidth\":0,\"ticks\":\"\"},\"colorscale\":[[0.0,\"#0d0887\"],[0.1111111111111111,\"#46039f\"],[0.2222222222222222,\"#7201a8\"],[0.3333333333333333,\"#9c179e\"],[0.4444444444444444,\"#bd3786\"],[0.5555555555555556,\"#d8576b\"],[0.6666666666666666,\"#ed7953\"],[0.7777777777777778,\"#fb9f3a\"],[0.8888888888888888,\"#fdca26\"],[1.0,\"#f0f921\"]]}],\"contourcarpet\":[{\"type\":\"contourcarpet\",\"colorbar\":{\"outlinewidth\":0,\"ticks\":\"\"}}],\"contour\":[{\"type\":\"contour\",\"colorbar\":{\"outlinewidth\":0,\"ticks\":\"\"},\"colorscale\":[[0.0,\"#0d0887\"],[0.1111111111111111,\"#46039f\"],[0.2222222222222222,\"#7201a8\"],[0.3333333333333333,\"#9c179e\"],[0.4444444444444444,\"#bd3786\"],[0.5555555555555556,\"#d8576b\"],[0.6666666666666666,\"#ed7953\"],[0.7777777777777778,\"#fb9f3a\"],[0.8888888888888888,\"#fdca26\"],[1.0,\"#f0f921\"]]}],\"surface\":[{\"type\":\"surface\",\"colorbar\":{\"outlinewidth\":0,\"ticks\":\"\"},\"colorscale\":[[0.0,\"#0d0887\"],[0.1111111111111111,\"#46039f\"],[0.2222222222222222,\"#7201a8\"],[0.3333333333333333,\"#9c179e\"],[0.4444444444444444,\"#bd3786\"],[0.5555555555555556,\"#d8576b\"],[0.6666666666666666,\"#ed7953\"],[0.7777777777777778,\"#fb9f3a\"],[0.8888888888888888,\"#fdca26\"],[1.0,\"#f0f921\"]]}],\"mesh3d\":[{\"type\":\"mesh3d\",\"colorbar\":{\"outlinewidth\":0,\"ticks\":\"\"}}],\"scatter\":[{\"fillpattern\":{\"fillmode\":\"overlay\",\"size\":10,\"solidity\":0.2},\"type\":\"scatter\"}],\"parcoords\":[{\"type\":\"parcoords\",\"line\":{\"colorbar\":{\"outlinewidth\":0,\"ticks\":\"\"}}}],\"scatterpolargl\":[{\"type\":\"scatterpolargl\",\"marker\":{\"colorbar\":{\"outlinewidth\":0,\"ticks\":\"\"}}}],\"bar\":[{\"error_x\":{\"color\":\"#2a3f5f\"},\"error_y\":{\"color\":\"#2a3f5f\"},\"marker\":{\"line\":{\"color\":\"#E5ECF6\",\"width\":0.5},\"pattern\":{\"fillmode\":\"overlay\",\"size\":10,\"solidity\":0.2}},\"type\":\"bar\"}],\"scattergeo\":[{\"type\":\"scattergeo\",\"marker\":{\"colorbar\":{\"outlinewidth\":0,\"ticks\":\"\"}}}],\"scatterpolar\":[{\"type\":\"scatterpolar\",\"marker\":{\"colorbar\":{\"outlinewidth\":0,\"ticks\":\"\"}}}],\"histogram\":[{\"marker\":{\"pattern\":{\"fillmode\":\"overlay\",\"size\":10,\"solidity\":0.2}},\"type\":\"histogram\"}],\"scattergl\":[{\"type\":\"scattergl\",\"marker\":{\"colorbar\":{\"outlinewidth\":0,\"ticks\":\"\"}}}],\"scatter3d\":[{\"type\":\"scatter3d\",\"line\":{\"colorbar\":{\"outlinewidth\":0,\"ticks\":\"\"}},\"marker\":{\"colorbar\":{\"outlinewidth\":0,\"ticks\":\"\"}}}],\"scattermapbox\":[{\"type\":\"scattermapbox\",\"marker\":{\"colorbar\":{\"outlinewidth\":0,\"ticks\":\"\"}}}],\"scatterternary\":[{\"type\":\"scatterternary\",\"marker\":{\"colorbar\":{\"outlinewidth\":0,\"ticks\":\"\"}}}],\"scattercarpet\":[{\"type\":\"scattercarpet\",\"marker\":{\"colorbar\":{\"outlinewidth\":0,\"ticks\":\"\"}}}],\"carpet\":[{\"aaxis\":{\"endlinecolor\":\"#2a3f5f\",\"gridcolor\":\"white\",\"linecolor\":\"white\",\"minorgridcolor\":\"white\",\"startlinecolor\":\"#2a3f5f\"},\"baxis\":{\"endlinecolor\":\"#2a3f5f\",\"gridcolor\":\"white\",\"linecolor\":\"white\",\"minorgridcolor\":\"white\",\"startlinecolor\":\"#2a3f5f\"},\"type\":\"carpet\"}],\"table\":[{\"cells\":{\"fill\":{\"color\":\"#EBF0F8\"},\"line\":{\"color\":\"white\"}},\"header\":{\"fill\":{\"color\":\"#C8D4E3\"},\"line\":{\"color\":\"white\"}},\"type\":\"table\"}],\"barpolar\":[{\"marker\":{\"line\":{\"color\":\"#E5ECF6\",\"width\":0.5},\"pattern\":{\"fillmode\":\"overlay\",\"size\":10,\"solidity\":0.2}},\"type\":\"barpolar\"}],\"pie\":[{\"automargin\":true,\"type\":\"pie\"}]},\"layout\":{\"autotypenumbers\":\"strict\",\"colorway\":[\"#636efa\",\"#EF553B\",\"#00cc96\",\"#ab63fa\",\"#FFA15A\",\"#19d3f3\",\"#FF6692\",\"#B6E880\",\"#FF97FF\",\"#FECB52\"],\"font\":{\"color\":\"#2a3f5f\"},\"hovermode\":\"closest\",\"hoverlabel\":{\"align\":\"left\"},\"paper_bgcolor\":\"white\",\"plot_bgcolor\":\"#E5ECF6\",\"polar\":{\"bgcolor\":\"#E5ECF6\",\"angularaxis\":{\"gridcolor\":\"white\",\"linecolor\":\"white\",\"ticks\":\"\"},\"radialaxis\":{\"gridcolor\":\"white\",\"linecolor\":\"white\",\"ticks\":\"\"}},\"ternary\":{\"bgcolor\":\"#E5ECF6\",\"aaxis\":{\"gridcolor\":\"white\",\"linecolor\":\"white\",\"ticks\":\"\"},\"baxis\":{\"gridcolor\":\"white\",\"linecolor\":\"white\",\"ticks\":\"\"},\"caxis\":{\"gridcolor\":\"white\",\"linecolor\":\"white\",\"ticks\":\"\"}},\"coloraxis\":{\"colorbar\":{\"outlinewidth\":0,\"ticks\":\"\"}},\"colorscale\":{\"sequential\":[[0.0,\"#0d0887\"],[0.1111111111111111,\"#46039f\"],[0.2222222222222222,\"#7201a8\"],[0.3333333333333333,\"#9c179e\"],[0.4444444444444444,\"#bd3786\"],[0.5555555555555556,\"#d8576b\"],[0.6666666666666666,\"#ed7953\"],[0.7777777777777778,\"#fb9f3a\"],[0.8888888888888888,\"#fdca26\"],[1.0,\"#f0f921\"]],\"sequentialminus\":[[0.0,\"#0d0887\"],[0.1111111111111111,\"#46039f\"],[0.2222222222222222,\"#7201a8\"],[0.3333333333333333,\"#9c179e\"],[0.4444444444444444,\"#bd3786\"],[0.5555555555555556,\"#d8576b\"],[0.6666666666666666,\"#ed7953\"],[0.7777777777777778,\"#fb9f3a\"],[0.8888888888888888,\"#fdca26\"],[1.0,\"#f0f921\"]],\"diverging\":[[0,\"#8e0152\"],[0.1,\"#c51b7d\"],[0.2,\"#de77ae\"],[0.3,\"#f1b6da\"],[0.4,\"#fde0ef\"],[0.5,\"#f7f7f7\"],[0.6,\"#e6f5d0\"],[0.7,\"#b8e186\"],[0.8,\"#7fbc41\"],[0.9,\"#4d9221\"],[1,\"#276419\"]]},\"xaxis\":{\"gridcolor\":\"white\",\"linecolor\":\"white\",\"ticks\":\"\",\"title\":{\"standoff\":15},\"zerolinecolor\":\"white\",\"automargin\":true,\"zerolinewidth\":2},\"yaxis\":{\"gridcolor\":\"white\",\"linecolor\":\"white\",\"ticks\":\"\",\"title\":{\"standoff\":15},\"zerolinecolor\":\"white\",\"automargin\":true,\"zerolinewidth\":2},\"scene\":{\"xaxis\":{\"backgroundcolor\":\"#E5ECF6\",\"gridcolor\":\"white\",\"linecolor\":\"white\",\"showbackground\":true,\"ticks\":\"\",\"zerolinecolor\":\"white\",\"gridwidth\":2},\"yaxis\":{\"backgroundcolor\":\"#E5ECF6\",\"gridcolor\":\"white\",\"linecolor\":\"white\",\"showbackground\":true,\"ticks\":\"\",\"zerolinecolor\":\"white\",\"gridwidth\":2},\"zaxis\":{\"backgroundcolor\":\"#E5ECF6\",\"gridcolor\":\"white\",\"linecolor\":\"white\",\"showbackground\":true,\"ticks\":\"\",\"zerolinecolor\":\"white\",\"gridwidth\":2}},\"shapedefaults\":{\"line\":{\"color\":\"#2a3f5f\"}},\"annotationdefaults\":{\"arrowcolor\":\"#2a3f5f\",\"arrowhead\":0,\"arrowwidth\":1},\"geo\":{\"bgcolor\":\"white\",\"landcolor\":\"#E5ECF6\",\"subunitcolor\":\"white\",\"showland\":true,\"showlakes\":true,\"lakecolor\":\"white\"},\"title\":{\"x\":0.05},\"mapbox\":{\"style\":\"light\"}}}},                        {\"responsive\": true}                    ).then(function(){\n                            \nvar gd = document.getElementById('4258fe06-71e3-40a3-964e-ac9c3faa7680');\nvar x = new MutationObserver(function (mutations, observer) {{\n        var display = window.getComputedStyle(gd).display;\n        if (!display || display === 'none') {{\n            console.log([gd, 'removed!']);\n            Plotly.purge(gd);\n            observer.disconnect();\n        }}\n}});\n\n// Listen for the removal of the full notebook cells\nvar notebookContainer = gd.closest('#notebook-container');\nif (notebookContainer) {{\n    x.observe(notebookContainer, {childList: true});\n}}\n\n// Listen for the clearing of the current output cell\nvar outputEl = gd.closest('.output');\nif (outputEl) {{\n    x.observe(outputEl, {childList: true});\n}}\n\n                        })                };                });            </script>        </div>"
     },
     "metadata": {},
     "output_type": "display_data"
    },
    {
     "data": {
      "application/vnd.plotly.v1+json": {
       "data": [
        {
         "cliponaxis": false,
         "hovertemplate": [
          "objective (CategoricalDistribution): 0.0<extra></extra>",
          "random_state (CategoricalDistribution): 0.0<extra></extra>",
          "bootstrap_type (CategoricalDistribution): 0.01044856743589755<extra></extra>",
          "boosting_type (CategoricalDistribution): 0.010647033349281704<extra></extra>",
          "random_strength (IntDistribution): 0.013535805977734556<extra></extra>",
          "depth (IntDistribution): 0.016776167306781147<extra></extra>",
          "iterations (IntDistribution): 0.10679540374508231<extra></extra>",
          "learning_rate (FloatDistribution): 0.2553755241897212<extra></extra>",
          "colsample_bylevel (FloatDistribution): 0.5864214979955017<extra></extra>"
         ],
         "marker": {
          "color": "rgb(66,146,198)"
         },
         "orientation": "h",
         "text": [
          "<0.01",
          "<0.01",
          "0.01",
          "0.01",
          "0.01",
          "0.02",
          "0.11",
          "0.26",
          "0.59"
         ],
         "textposition": "outside",
         "x": [
          0.0,
          0.0,
          0.01044856743589755,
          0.010647033349281704,
          0.013535805977734556,
          0.016776167306781147,
          0.10679540374508231,
          0.2553755241897212,
          0.5864214979955017
         ],
         "y": [
          "objective",
          "random_state",
          "bootstrap_type",
          "boosting_type",
          "random_strength",
          "depth",
          "iterations",
          "learning_rate",
          "colsample_bylevel"
         ],
         "type": "bar"
        }
       ],
       "layout": {
        "showlegend": false,
        "title": {
         "text": "Hyperparameter Importances"
        },
        "xaxis": {
         "title": {
          "text": "Importance for Objective Value"
         }
        },
        "yaxis": {
         "title": {
          "text": "Hyperparameter"
         }
        },
        "template": {
         "data": {
          "histogram2dcontour": [
           {
            "type": "histogram2dcontour",
            "colorbar": {
             "outlinewidth": 0,
             "ticks": ""
            },
            "colorscale": [
             [
              0.0,
              "#0d0887"
             ],
             [
              0.1111111111111111,
              "#46039f"
             ],
             [
              0.2222222222222222,
              "#7201a8"
             ],
             [
              0.3333333333333333,
              "#9c179e"
             ],
             [
              0.4444444444444444,
              "#bd3786"
             ],
             [
              0.5555555555555556,
              "#d8576b"
             ],
             [
              0.6666666666666666,
              "#ed7953"
             ],
             [
              0.7777777777777778,
              "#fb9f3a"
             ],
             [
              0.8888888888888888,
              "#fdca26"
             ],
             [
              1.0,
              "#f0f921"
             ]
            ]
           }
          ],
          "choropleth": [
           {
            "type": "choropleth",
            "colorbar": {
             "outlinewidth": 0,
             "ticks": ""
            }
           }
          ],
          "histogram2d": [
           {
            "type": "histogram2d",
            "colorbar": {
             "outlinewidth": 0,
             "ticks": ""
            },
            "colorscale": [
             [
              0.0,
              "#0d0887"
             ],
             [
              0.1111111111111111,
              "#46039f"
             ],
             [
              0.2222222222222222,
              "#7201a8"
             ],
             [
              0.3333333333333333,
              "#9c179e"
             ],
             [
              0.4444444444444444,
              "#bd3786"
             ],
             [
              0.5555555555555556,
              "#d8576b"
             ],
             [
              0.6666666666666666,
              "#ed7953"
             ],
             [
              0.7777777777777778,
              "#fb9f3a"
             ],
             [
              0.8888888888888888,
              "#fdca26"
             ],
             [
              1.0,
              "#f0f921"
             ]
            ]
           }
          ],
          "heatmap": [
           {
            "type": "heatmap",
            "colorbar": {
             "outlinewidth": 0,
             "ticks": ""
            },
            "colorscale": [
             [
              0.0,
              "#0d0887"
             ],
             [
              0.1111111111111111,
              "#46039f"
             ],
             [
              0.2222222222222222,
              "#7201a8"
             ],
             [
              0.3333333333333333,
              "#9c179e"
             ],
             [
              0.4444444444444444,
              "#bd3786"
             ],
             [
              0.5555555555555556,
              "#d8576b"
             ],
             [
              0.6666666666666666,
              "#ed7953"
             ],
             [
              0.7777777777777778,
              "#fb9f3a"
             ],
             [
              0.8888888888888888,
              "#fdca26"
             ],
             [
              1.0,
              "#f0f921"
             ]
            ]
           }
          ],
          "heatmapgl": [
           {
            "type": "heatmapgl",
            "colorbar": {
             "outlinewidth": 0,
             "ticks": ""
            },
            "colorscale": [
             [
              0.0,
              "#0d0887"
             ],
             [
              0.1111111111111111,
              "#46039f"
             ],
             [
              0.2222222222222222,
              "#7201a8"
             ],
             [
              0.3333333333333333,
              "#9c179e"
             ],
             [
              0.4444444444444444,
              "#bd3786"
             ],
             [
              0.5555555555555556,
              "#d8576b"
             ],
             [
              0.6666666666666666,
              "#ed7953"
             ],
             [
              0.7777777777777778,
              "#fb9f3a"
             ],
             [
              0.8888888888888888,
              "#fdca26"
             ],
             [
              1.0,
              "#f0f921"
             ]
            ]
           }
          ],
          "contourcarpet": [
           {
            "type": "contourcarpet",
            "colorbar": {
             "outlinewidth": 0,
             "ticks": ""
            }
           }
          ],
          "contour": [
           {
            "type": "contour",
            "colorbar": {
             "outlinewidth": 0,
             "ticks": ""
            },
            "colorscale": [
             [
              0.0,
              "#0d0887"
             ],
             [
              0.1111111111111111,
              "#46039f"
             ],
             [
              0.2222222222222222,
              "#7201a8"
             ],
             [
              0.3333333333333333,
              "#9c179e"
             ],
             [
              0.4444444444444444,
              "#bd3786"
             ],
             [
              0.5555555555555556,
              "#d8576b"
             ],
             [
              0.6666666666666666,
              "#ed7953"
             ],
             [
              0.7777777777777778,
              "#fb9f3a"
             ],
             [
              0.8888888888888888,
              "#fdca26"
             ],
             [
              1.0,
              "#f0f921"
             ]
            ]
           }
          ],
          "surface": [
           {
            "type": "surface",
            "colorbar": {
             "outlinewidth": 0,
             "ticks": ""
            },
            "colorscale": [
             [
              0.0,
              "#0d0887"
             ],
             [
              0.1111111111111111,
              "#46039f"
             ],
             [
              0.2222222222222222,
              "#7201a8"
             ],
             [
              0.3333333333333333,
              "#9c179e"
             ],
             [
              0.4444444444444444,
              "#bd3786"
             ],
             [
              0.5555555555555556,
              "#d8576b"
             ],
             [
              0.6666666666666666,
              "#ed7953"
             ],
             [
              0.7777777777777778,
              "#fb9f3a"
             ],
             [
              0.8888888888888888,
              "#fdca26"
             ],
             [
              1.0,
              "#f0f921"
             ]
            ]
           }
          ],
          "mesh3d": [
           {
            "type": "mesh3d",
            "colorbar": {
             "outlinewidth": 0,
             "ticks": ""
            }
           }
          ],
          "scatter": [
           {
            "fillpattern": {
             "fillmode": "overlay",
             "size": 10,
             "solidity": 0.2
            },
            "type": "scatter"
           }
          ],
          "parcoords": [
           {
            "type": "parcoords",
            "line": {
             "colorbar": {
              "outlinewidth": 0,
              "ticks": ""
             }
            }
           }
          ],
          "scatterpolargl": [
           {
            "type": "scatterpolargl",
            "marker": {
             "colorbar": {
              "outlinewidth": 0,
              "ticks": ""
             }
            }
           }
          ],
          "bar": [
           {
            "error_x": {
             "color": "#2a3f5f"
            },
            "error_y": {
             "color": "#2a3f5f"
            },
            "marker": {
             "line": {
              "color": "#E5ECF6",
              "width": 0.5
             },
             "pattern": {
              "fillmode": "overlay",
              "size": 10,
              "solidity": 0.2
             }
            },
            "type": "bar"
           }
          ],
          "scattergeo": [
           {
            "type": "scattergeo",
            "marker": {
             "colorbar": {
              "outlinewidth": 0,
              "ticks": ""
             }
            }
           }
          ],
          "scatterpolar": [
           {
            "type": "scatterpolar",
            "marker": {
             "colorbar": {
              "outlinewidth": 0,
              "ticks": ""
             }
            }
           }
          ],
          "histogram": [
           {
            "marker": {
             "pattern": {
              "fillmode": "overlay",
              "size": 10,
              "solidity": 0.2
             }
            },
            "type": "histogram"
           }
          ],
          "scattergl": [
           {
            "type": "scattergl",
            "marker": {
             "colorbar": {
              "outlinewidth": 0,
              "ticks": ""
             }
            }
           }
          ],
          "scatter3d": [
           {
            "type": "scatter3d",
            "line": {
             "colorbar": {
              "outlinewidth": 0,
              "ticks": ""
             }
            },
            "marker": {
             "colorbar": {
              "outlinewidth": 0,
              "ticks": ""
             }
            }
           }
          ],
          "scattermapbox": [
           {
            "type": "scattermapbox",
            "marker": {
             "colorbar": {
              "outlinewidth": 0,
              "ticks": ""
             }
            }
           }
          ],
          "scatterternary": [
           {
            "type": "scatterternary",
            "marker": {
             "colorbar": {
              "outlinewidth": 0,
              "ticks": ""
             }
            }
           }
          ],
          "scattercarpet": [
           {
            "type": "scattercarpet",
            "marker": {
             "colorbar": {
              "outlinewidth": 0,
              "ticks": ""
             }
            }
           }
          ],
          "carpet": [
           {
            "aaxis": {
             "endlinecolor": "#2a3f5f",
             "gridcolor": "white",
             "linecolor": "white",
             "minorgridcolor": "white",
             "startlinecolor": "#2a3f5f"
            },
            "baxis": {
             "endlinecolor": "#2a3f5f",
             "gridcolor": "white",
             "linecolor": "white",
             "minorgridcolor": "white",
             "startlinecolor": "#2a3f5f"
            },
            "type": "carpet"
           }
          ],
          "table": [
           {
            "cells": {
             "fill": {
              "color": "#EBF0F8"
             },
             "line": {
              "color": "white"
             }
            },
            "header": {
             "fill": {
              "color": "#C8D4E3"
             },
             "line": {
              "color": "white"
             }
            },
            "type": "table"
           }
          ],
          "barpolar": [
           {
            "marker": {
             "line": {
              "color": "#E5ECF6",
              "width": 0.5
             },
             "pattern": {
              "fillmode": "overlay",
              "size": 10,
              "solidity": 0.2
             }
            },
            "type": "barpolar"
           }
          ],
          "pie": [
           {
            "automargin": true,
            "type": "pie"
           }
          ]
         },
         "layout": {
          "autotypenumbers": "strict",
          "colorway": [
           "#636efa",
           "#EF553B",
           "#00cc96",
           "#ab63fa",
           "#FFA15A",
           "#19d3f3",
           "#FF6692",
           "#B6E880",
           "#FF97FF",
           "#FECB52"
          ],
          "font": {
           "color": "#2a3f5f"
          },
          "hovermode": "closest",
          "hoverlabel": {
           "align": "left"
          },
          "paper_bgcolor": "white",
          "plot_bgcolor": "#E5ECF6",
          "polar": {
           "bgcolor": "#E5ECF6",
           "angularaxis": {
            "gridcolor": "white",
            "linecolor": "white",
            "ticks": ""
           },
           "radialaxis": {
            "gridcolor": "white",
            "linecolor": "white",
            "ticks": ""
           }
          },
          "ternary": {
           "bgcolor": "#E5ECF6",
           "aaxis": {
            "gridcolor": "white",
            "linecolor": "white",
            "ticks": ""
           },
           "baxis": {
            "gridcolor": "white",
            "linecolor": "white",
            "ticks": ""
           },
           "caxis": {
            "gridcolor": "white",
            "linecolor": "white",
            "ticks": ""
           }
          },
          "coloraxis": {
           "colorbar": {
            "outlinewidth": 0,
            "ticks": ""
           }
          },
          "colorscale": {
           "sequential": [
            [
             0.0,
             "#0d0887"
            ],
            [
             0.1111111111111111,
             "#46039f"
            ],
            [
             0.2222222222222222,
             "#7201a8"
            ],
            [
             0.3333333333333333,
             "#9c179e"
            ],
            [
             0.4444444444444444,
             "#bd3786"
            ],
            [
             0.5555555555555556,
             "#d8576b"
            ],
            [
             0.6666666666666666,
             "#ed7953"
            ],
            [
             0.7777777777777778,
             "#fb9f3a"
            ],
            [
             0.8888888888888888,
             "#fdca26"
            ],
            [
             1.0,
             "#f0f921"
            ]
           ],
           "sequentialminus": [
            [
             0.0,
             "#0d0887"
            ],
            [
             0.1111111111111111,
             "#46039f"
            ],
            [
             0.2222222222222222,
             "#7201a8"
            ],
            [
             0.3333333333333333,
             "#9c179e"
            ],
            [
             0.4444444444444444,
             "#bd3786"
            ],
            [
             0.5555555555555556,
             "#d8576b"
            ],
            [
             0.6666666666666666,
             "#ed7953"
            ],
            [
             0.7777777777777778,
             "#fb9f3a"
            ],
            [
             0.8888888888888888,
             "#fdca26"
            ],
            [
             1.0,
             "#f0f921"
            ]
           ],
           "diverging": [
            [
             0,
             "#8e0152"
            ],
            [
             0.1,
             "#c51b7d"
            ],
            [
             0.2,
             "#de77ae"
            ],
            [
             0.3,
             "#f1b6da"
            ],
            [
             0.4,
             "#fde0ef"
            ],
            [
             0.5,
             "#f7f7f7"
            ],
            [
             0.6,
             "#e6f5d0"
            ],
            [
             0.7,
             "#b8e186"
            ],
            [
             0.8,
             "#7fbc41"
            ],
            [
             0.9,
             "#4d9221"
            ],
            [
             1,
             "#276419"
            ]
           ]
          },
          "xaxis": {
           "gridcolor": "white",
           "linecolor": "white",
           "ticks": "",
           "title": {
            "standoff": 15
           },
           "zerolinecolor": "white",
           "automargin": true,
           "zerolinewidth": 2
          },
          "yaxis": {
           "gridcolor": "white",
           "linecolor": "white",
           "ticks": "",
           "title": {
            "standoff": 15
           },
           "zerolinecolor": "white",
           "automargin": true,
           "zerolinewidth": 2
          },
          "scene": {
           "xaxis": {
            "backgroundcolor": "#E5ECF6",
            "gridcolor": "white",
            "linecolor": "white",
            "showbackground": true,
            "ticks": "",
            "zerolinecolor": "white",
            "gridwidth": 2
           },
           "yaxis": {
            "backgroundcolor": "#E5ECF6",
            "gridcolor": "white",
            "linecolor": "white",
            "showbackground": true,
            "ticks": "",
            "zerolinecolor": "white",
            "gridwidth": 2
           },
           "zaxis": {
            "backgroundcolor": "#E5ECF6",
            "gridcolor": "white",
            "linecolor": "white",
            "showbackground": true,
            "ticks": "",
            "zerolinecolor": "white",
            "gridwidth": 2
           }
          },
          "shapedefaults": {
           "line": {
            "color": "#2a3f5f"
           }
          },
          "annotationdefaults": {
           "arrowcolor": "#2a3f5f",
           "arrowhead": 0,
           "arrowwidth": 1
          },
          "geo": {
           "bgcolor": "white",
           "landcolor": "#E5ECF6",
           "subunitcolor": "white",
           "showland": true,
           "showlakes": true,
           "lakecolor": "white"
          },
          "title": {
           "x": 0.05
          },
          "mapbox": {
           "style": "light"
          }
         }
        }
       },
       "config": {
        "plotlyServerURL": "https://plot.ly"
       }
      },
      "text/html": "<div>                            <div id=\"b644dd12-582d-46b5-b0cc-d9cd6d4c37e8\" class=\"plotly-graph-div\" style=\"height:525px; width:100%;\"></div>            <script type=\"text/javascript\">                require([\"plotly\"], function(Plotly) {                    window.PLOTLYENV=window.PLOTLYENV || {};                                    if (document.getElementById(\"b644dd12-582d-46b5-b0cc-d9cd6d4c37e8\")) {                    Plotly.newPlot(                        \"b644dd12-582d-46b5-b0cc-d9cd6d4c37e8\",                        [{\"cliponaxis\":false,\"hovertemplate\":[\"objective (CategoricalDistribution): 0.0<extra></extra>\",\"random_state (CategoricalDistribution): 0.0<extra></extra>\",\"bootstrap_type (CategoricalDistribution): 0.01044856743589755<extra></extra>\",\"boosting_type (CategoricalDistribution): 0.010647033349281704<extra></extra>\",\"random_strength (IntDistribution): 0.013535805977734556<extra></extra>\",\"depth (IntDistribution): 0.016776167306781147<extra></extra>\",\"iterations (IntDistribution): 0.10679540374508231<extra></extra>\",\"learning_rate (FloatDistribution): 0.2553755241897212<extra></extra>\",\"colsample_bylevel (FloatDistribution): 0.5864214979955017<extra></extra>\"],\"marker\":{\"color\":\"rgb(66,146,198)\"},\"orientation\":\"h\",\"text\":[\"<0.01\",\"<0.01\",\"0.01\",\"0.01\",\"0.01\",\"0.02\",\"0.11\",\"0.26\",\"0.59\"],\"textposition\":\"outside\",\"x\":[0.0,0.0,0.01044856743589755,0.010647033349281704,0.013535805977734556,0.016776167306781147,0.10679540374508231,0.2553755241897212,0.5864214979955017],\"y\":[\"objective\",\"random_state\",\"bootstrap_type\",\"boosting_type\",\"random_strength\",\"depth\",\"iterations\",\"learning_rate\",\"colsample_bylevel\"],\"type\":\"bar\"}],                        {\"showlegend\":false,\"title\":{\"text\":\"Hyperparameter Importances\"},\"xaxis\":{\"title\":{\"text\":\"Importance for Objective Value\"}},\"yaxis\":{\"title\":{\"text\":\"Hyperparameter\"}},\"template\":{\"data\":{\"histogram2dcontour\":[{\"type\":\"histogram2dcontour\",\"colorbar\":{\"outlinewidth\":0,\"ticks\":\"\"},\"colorscale\":[[0.0,\"#0d0887\"],[0.1111111111111111,\"#46039f\"],[0.2222222222222222,\"#7201a8\"],[0.3333333333333333,\"#9c179e\"],[0.4444444444444444,\"#bd3786\"],[0.5555555555555556,\"#d8576b\"],[0.6666666666666666,\"#ed7953\"],[0.7777777777777778,\"#fb9f3a\"],[0.8888888888888888,\"#fdca26\"],[1.0,\"#f0f921\"]]}],\"choropleth\":[{\"type\":\"choropleth\",\"colorbar\":{\"outlinewidth\":0,\"ticks\":\"\"}}],\"histogram2d\":[{\"type\":\"histogram2d\",\"colorbar\":{\"outlinewidth\":0,\"ticks\":\"\"},\"colorscale\":[[0.0,\"#0d0887\"],[0.1111111111111111,\"#46039f\"],[0.2222222222222222,\"#7201a8\"],[0.3333333333333333,\"#9c179e\"],[0.4444444444444444,\"#bd3786\"],[0.5555555555555556,\"#d8576b\"],[0.6666666666666666,\"#ed7953\"],[0.7777777777777778,\"#fb9f3a\"],[0.8888888888888888,\"#fdca26\"],[1.0,\"#f0f921\"]]}],\"heatmap\":[{\"type\":\"heatmap\",\"colorbar\":{\"outlinewidth\":0,\"ticks\":\"\"},\"colorscale\":[[0.0,\"#0d0887\"],[0.1111111111111111,\"#46039f\"],[0.2222222222222222,\"#7201a8\"],[0.3333333333333333,\"#9c179e\"],[0.4444444444444444,\"#bd3786\"],[0.5555555555555556,\"#d8576b\"],[0.6666666666666666,\"#ed7953\"],[0.7777777777777778,\"#fb9f3a\"],[0.8888888888888888,\"#fdca26\"],[1.0,\"#f0f921\"]]}],\"heatmapgl\":[{\"type\":\"heatmapgl\",\"colorbar\":{\"outlinewidth\":0,\"ticks\":\"\"},\"colorscale\":[[0.0,\"#0d0887\"],[0.1111111111111111,\"#46039f\"],[0.2222222222222222,\"#7201a8\"],[0.3333333333333333,\"#9c179e\"],[0.4444444444444444,\"#bd3786\"],[0.5555555555555556,\"#d8576b\"],[0.6666666666666666,\"#ed7953\"],[0.7777777777777778,\"#fb9f3a\"],[0.8888888888888888,\"#fdca26\"],[1.0,\"#f0f921\"]]}],\"contourcarpet\":[{\"type\":\"contourcarpet\",\"colorbar\":{\"outlinewidth\":0,\"ticks\":\"\"}}],\"contour\":[{\"type\":\"contour\",\"colorbar\":{\"outlinewidth\":0,\"ticks\":\"\"},\"colorscale\":[[0.0,\"#0d0887\"],[0.1111111111111111,\"#46039f\"],[0.2222222222222222,\"#7201a8\"],[0.3333333333333333,\"#9c179e\"],[0.4444444444444444,\"#bd3786\"],[0.5555555555555556,\"#d8576b\"],[0.6666666666666666,\"#ed7953\"],[0.7777777777777778,\"#fb9f3a\"],[0.8888888888888888,\"#fdca26\"],[1.0,\"#f0f921\"]]}],\"surface\":[{\"type\":\"surface\",\"colorbar\":{\"outlinewidth\":0,\"ticks\":\"\"},\"colorscale\":[[0.0,\"#0d0887\"],[0.1111111111111111,\"#46039f\"],[0.2222222222222222,\"#7201a8\"],[0.3333333333333333,\"#9c179e\"],[0.4444444444444444,\"#bd3786\"],[0.5555555555555556,\"#d8576b\"],[0.6666666666666666,\"#ed7953\"],[0.7777777777777778,\"#fb9f3a\"],[0.8888888888888888,\"#fdca26\"],[1.0,\"#f0f921\"]]}],\"mesh3d\":[{\"type\":\"mesh3d\",\"colorbar\":{\"outlinewidth\":0,\"ticks\":\"\"}}],\"scatter\":[{\"fillpattern\":{\"fillmode\":\"overlay\",\"size\":10,\"solidity\":0.2},\"type\":\"scatter\"}],\"parcoords\":[{\"type\":\"parcoords\",\"line\":{\"colorbar\":{\"outlinewidth\":0,\"ticks\":\"\"}}}],\"scatterpolargl\":[{\"type\":\"scatterpolargl\",\"marker\":{\"colorbar\":{\"outlinewidth\":0,\"ticks\":\"\"}}}],\"bar\":[{\"error_x\":{\"color\":\"#2a3f5f\"},\"error_y\":{\"color\":\"#2a3f5f\"},\"marker\":{\"line\":{\"color\":\"#E5ECF6\",\"width\":0.5},\"pattern\":{\"fillmode\":\"overlay\",\"size\":10,\"solidity\":0.2}},\"type\":\"bar\"}],\"scattergeo\":[{\"type\":\"scattergeo\",\"marker\":{\"colorbar\":{\"outlinewidth\":0,\"ticks\":\"\"}}}],\"scatterpolar\":[{\"type\":\"scatterpolar\",\"marker\":{\"colorbar\":{\"outlinewidth\":0,\"ticks\":\"\"}}}],\"histogram\":[{\"marker\":{\"pattern\":{\"fillmode\":\"overlay\",\"size\":10,\"solidity\":0.2}},\"type\":\"histogram\"}],\"scattergl\":[{\"type\":\"scattergl\",\"marker\":{\"colorbar\":{\"outlinewidth\":0,\"ticks\":\"\"}}}],\"scatter3d\":[{\"type\":\"scatter3d\",\"line\":{\"colorbar\":{\"outlinewidth\":0,\"ticks\":\"\"}},\"marker\":{\"colorbar\":{\"outlinewidth\":0,\"ticks\":\"\"}}}],\"scattermapbox\":[{\"type\":\"scattermapbox\",\"marker\":{\"colorbar\":{\"outlinewidth\":0,\"ticks\":\"\"}}}],\"scatterternary\":[{\"type\":\"scatterternary\",\"marker\":{\"colorbar\":{\"outlinewidth\":0,\"ticks\":\"\"}}}],\"scattercarpet\":[{\"type\":\"scattercarpet\",\"marker\":{\"colorbar\":{\"outlinewidth\":0,\"ticks\":\"\"}}}],\"carpet\":[{\"aaxis\":{\"endlinecolor\":\"#2a3f5f\",\"gridcolor\":\"white\",\"linecolor\":\"white\",\"minorgridcolor\":\"white\",\"startlinecolor\":\"#2a3f5f\"},\"baxis\":{\"endlinecolor\":\"#2a3f5f\",\"gridcolor\":\"white\",\"linecolor\":\"white\",\"minorgridcolor\":\"white\",\"startlinecolor\":\"#2a3f5f\"},\"type\":\"carpet\"}],\"table\":[{\"cells\":{\"fill\":{\"color\":\"#EBF0F8\"},\"line\":{\"color\":\"white\"}},\"header\":{\"fill\":{\"color\":\"#C8D4E3\"},\"line\":{\"color\":\"white\"}},\"type\":\"table\"}],\"barpolar\":[{\"marker\":{\"line\":{\"color\":\"#E5ECF6\",\"width\":0.5},\"pattern\":{\"fillmode\":\"overlay\",\"size\":10,\"solidity\":0.2}},\"type\":\"barpolar\"}],\"pie\":[{\"automargin\":true,\"type\":\"pie\"}]},\"layout\":{\"autotypenumbers\":\"strict\",\"colorway\":[\"#636efa\",\"#EF553B\",\"#00cc96\",\"#ab63fa\",\"#FFA15A\",\"#19d3f3\",\"#FF6692\",\"#B6E880\",\"#FF97FF\",\"#FECB52\"],\"font\":{\"color\":\"#2a3f5f\"},\"hovermode\":\"closest\",\"hoverlabel\":{\"align\":\"left\"},\"paper_bgcolor\":\"white\",\"plot_bgcolor\":\"#E5ECF6\",\"polar\":{\"bgcolor\":\"#E5ECF6\",\"angularaxis\":{\"gridcolor\":\"white\",\"linecolor\":\"white\",\"ticks\":\"\"},\"radialaxis\":{\"gridcolor\":\"white\",\"linecolor\":\"white\",\"ticks\":\"\"}},\"ternary\":{\"bgcolor\":\"#E5ECF6\",\"aaxis\":{\"gridcolor\":\"white\",\"linecolor\":\"white\",\"ticks\":\"\"},\"baxis\":{\"gridcolor\":\"white\",\"linecolor\":\"white\",\"ticks\":\"\"},\"caxis\":{\"gridcolor\":\"white\",\"linecolor\":\"white\",\"ticks\":\"\"}},\"coloraxis\":{\"colorbar\":{\"outlinewidth\":0,\"ticks\":\"\"}},\"colorscale\":{\"sequential\":[[0.0,\"#0d0887\"],[0.1111111111111111,\"#46039f\"],[0.2222222222222222,\"#7201a8\"],[0.3333333333333333,\"#9c179e\"],[0.4444444444444444,\"#bd3786\"],[0.5555555555555556,\"#d8576b\"],[0.6666666666666666,\"#ed7953\"],[0.7777777777777778,\"#fb9f3a\"],[0.8888888888888888,\"#fdca26\"],[1.0,\"#f0f921\"]],\"sequentialminus\":[[0.0,\"#0d0887\"],[0.1111111111111111,\"#46039f\"],[0.2222222222222222,\"#7201a8\"],[0.3333333333333333,\"#9c179e\"],[0.4444444444444444,\"#bd3786\"],[0.5555555555555556,\"#d8576b\"],[0.6666666666666666,\"#ed7953\"],[0.7777777777777778,\"#fb9f3a\"],[0.8888888888888888,\"#fdca26\"],[1.0,\"#f0f921\"]],\"diverging\":[[0,\"#8e0152\"],[0.1,\"#c51b7d\"],[0.2,\"#de77ae\"],[0.3,\"#f1b6da\"],[0.4,\"#fde0ef\"],[0.5,\"#f7f7f7\"],[0.6,\"#e6f5d0\"],[0.7,\"#b8e186\"],[0.8,\"#7fbc41\"],[0.9,\"#4d9221\"],[1,\"#276419\"]]},\"xaxis\":{\"gridcolor\":\"white\",\"linecolor\":\"white\",\"ticks\":\"\",\"title\":{\"standoff\":15},\"zerolinecolor\":\"white\",\"automargin\":true,\"zerolinewidth\":2},\"yaxis\":{\"gridcolor\":\"white\",\"linecolor\":\"white\",\"ticks\":\"\",\"title\":{\"standoff\":15},\"zerolinecolor\":\"white\",\"automargin\":true,\"zerolinewidth\":2},\"scene\":{\"xaxis\":{\"backgroundcolor\":\"#E5ECF6\",\"gridcolor\":\"white\",\"linecolor\":\"white\",\"showbackground\":true,\"ticks\":\"\",\"zerolinecolor\":\"white\",\"gridwidth\":2},\"yaxis\":{\"backgroundcolor\":\"#E5ECF6\",\"gridcolor\":\"white\",\"linecolor\":\"white\",\"showbackground\":true,\"ticks\":\"\",\"zerolinecolor\":\"white\",\"gridwidth\":2},\"zaxis\":{\"backgroundcolor\":\"#E5ECF6\",\"gridcolor\":\"white\",\"linecolor\":\"white\",\"showbackground\":true,\"ticks\":\"\",\"zerolinecolor\":\"white\",\"gridwidth\":2}},\"shapedefaults\":{\"line\":{\"color\":\"#2a3f5f\"}},\"annotationdefaults\":{\"arrowcolor\":\"#2a3f5f\",\"arrowhead\":0,\"arrowwidth\":1},\"geo\":{\"bgcolor\":\"white\",\"landcolor\":\"#E5ECF6\",\"subunitcolor\":\"white\",\"showland\":true,\"showlakes\":true,\"lakecolor\":\"white\"},\"title\":{\"x\":0.05},\"mapbox\":{\"style\":\"light\"}}}},                        {\"responsive\": true}                    ).then(function(){\n                            \nvar gd = document.getElementById('b644dd12-582d-46b5-b0cc-d9cd6d4c37e8');\nvar x = new MutationObserver(function (mutations, observer) {{\n        var display = window.getComputedStyle(gd).display;\n        if (!display || display === 'none') {{\n            console.log([gd, 'removed!']);\n            Plotly.purge(gd);\n            observer.disconnect();\n        }}\n}});\n\n// Listen for the removal of the full notebook cells\nvar notebookContainer = gd.closest('#notebook-container');\nif (notebookContainer) {{\n    x.observe(notebookContainer, {childList: true});\n}}\n\n// Listen for the clearing of the current output cell\nvar outputEl = gd.closest('.output');\nif (outputEl) {{\n    x.observe(outputEl, {childList: true});\n}}\n\n                        })                };                });            </script>        </div>"
     },
     "metadata": {},
     "output_type": "display_data"
    }
   ],
   "source": [
    "# Save\n",
    "pickle.dump(study.best_trial.params, open('CatBoost_Hyperparameter.pickle', 'wb'))\n",
    "print(\"Best Score: \", study.best_value)\n",
    "\n",
    "printmd('**CatBoost Tuned Hyperparameters**')\n",
    "pprint.pprint(study.best_trial.params)\n",
    "\n",
    "# history\n",
    "display(optuna.visualization.plot_optimization_history(study))\n",
    "\n",
    "# Importance\n",
    "display(plot_param_importances(study))"
   ],
   "metadata": {
    "collapsed": false
   }
  },
  {
   "cell_type": "code",
   "execution_count": null,
   "outputs": [],
   "source": [],
   "metadata": {
    "collapsed": false
   }
  }
 ],
 "metadata": {
  "kernelspec": {
   "display_name": "Python 3",
   "language": "python",
   "name": "python3"
  },
  "language_info": {
   "codemirror_mode": {
    "name": "ipython",
    "version": 2
   },
   "file_extension": ".py",
   "mimetype": "text/x-python",
   "name": "python",
   "nbconvert_exporter": "python",
   "pygments_lexer": "ipython2",
   "version": "2.7.6"
  }
 },
 "nbformat": 4,
 "nbformat_minor": 0
}
