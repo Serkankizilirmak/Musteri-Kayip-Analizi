{
 "cells": [
  {
   "cell_type": "code",
   "execution_count": 7,
   "metadata": {
    "collapsed": true
   },
   "outputs": [
    {
     "data": {
      "text/html": "        <script type=\"text/javascript\">\n        window.PlotlyConfig = {MathJaxConfig: 'local'};\n        if (window.MathJax && window.MathJax.Hub && window.MathJax.Hub.Config) {window.MathJax.Hub.Config({SVG: {font: \"STIX-Web\"}});}\n        if (typeof require !== 'undefined') {\n        require.undef(\"plotly\");\n        requirejs.config({\n            paths: {\n                'plotly': ['https://cdn.plot.ly/plotly-2.16.1.min']\n            }\n        });\n        require(['plotly'], function(Plotly) {\n            window._Plotly = Plotly;\n        });\n        }\n        </script>\n        "
     },
     "metadata": {},
     "output_type": "display_data"
    }
   ],
   "source": [
    "%run main.py"
   ]
  },
  {
   "cell_type": "code",
   "execution_count": 8,
   "outputs": [],
   "source": [
    "df = pd.read_csv(\"D:\\SERKAN KIZILIRMAK\\Python\\AllProjects\\Müşteri Kayıp Analizi (TelcoCustomer)\\Data\\TelcoCustomer.csv\")"
   ],
   "metadata": {
    "collapsed": false
   }
  },
  {
   "cell_type": "code",
   "execution_count": 9,
   "outputs": [
    {
     "name": "stdout",
     "output_type": "stream",
     "text": [
      "<class 'pandas.core.frame.DataFrame'>\n",
      "RangeIndex: 7043 entries, 0 to 7042\n",
      "Data columns (total 21 columns):\n",
      " #   Column            Non-Null Count  Dtype  \n",
      "---  ------            --------------  -----  \n",
      " 0   customerID        7043 non-null   object \n",
      " 1   gender            7043 non-null   object \n",
      " 2   SeniorCitizen     7043 non-null   int64  \n",
      " 3   Partner           7043 non-null   object \n",
      " 4   Dependents        7043 non-null   object \n",
      " 5   tenure            7043 non-null   int64  \n",
      " 6   PhoneService      7043 non-null   object \n",
      " 7   MultipleLines     7043 non-null   object \n",
      " 8   InternetService   7043 non-null   object \n",
      " 9   OnlineSecurity    7043 non-null   object \n",
      " 10  OnlineBackup      7043 non-null   object \n",
      " 11  DeviceProtection  7043 non-null   object \n",
      " 12  TechSupport       7043 non-null   object \n",
      " 13  StreamingTV       7043 non-null   object \n",
      " 14  StreamingMovies   7043 non-null   object \n",
      " 15  Contract          7043 non-null   object \n",
      " 16  PaperlessBilling  7043 non-null   object \n",
      " 17  PaymentMethod     7043 non-null   object \n",
      " 18  MonthlyCharges    7043 non-null   float64\n",
      " 19  TotalCharges      7043 non-null   object \n",
      " 20  Churn             7043 non-null   object \n",
      "dtypes: float64(1), int64(2), object(18)\n",
      "memory usage: 1.1+ MB\n"
     ]
    }
   ],
   "source": [
    "df.info()"
   ],
   "metadata": {
    "collapsed": false
   }
  },
  {
   "cell_type": "code",
   "execution_count": 10,
   "outputs": [],
   "source": [
    "df = df.drop(columns=\"customerID\", axis=1)\n",
    "df = df.rename({\"gender\":\"Cinsiyet\",\n",
    "               \"SeniorCitizen\":\"65 Yaş Üstü\",\n",
    "               \"Partner\":\"Medeni Durum\",\n",
    "               \"Dependents\":\"Bakma Sorumluluğu\",\n",
    "                \"tenure\":\"Müşteri Olma Süresi(Ay)\",\n",
    "                \"PhoneService\":\"Ev Telefonu Aboneliği\",\n",
    "               \"MultipleLines\":\"Birden Fazla Abonelik Durumu\",\n",
    "               \"InternetService\":\"İnternet Aboneliği\",\n",
    "               \"OnlineSecurity\":\"Güvenlik Hizmeti Aboneliği\",\n",
    "               \"OnlineBackup\":\"Yedekleme Hizmeti Aboneliği\",\n",
    "               \"DeviceProtection\":\"Ekipman Güvenlik Aboneliği\",\n",
    "               \"TechSupport\":\"Teknik Destek Aboneliği\",\n",
    "               \"StreamingTV\":\"IP Tv Aboneliği\",\n",
    "               \"StreamingMovies\":\"Film Abonelği\",\n",
    "               \"Contract\":\"Sözleşme Süresi\",\n",
    "               \"PaperlessBilling\":\"Online Fatura(Kağıtsız)\",\n",
    "               \"PaymentMethod\":\"Ödeme Şekli\",\n",
    "               \"MonthlyCharges\":\"Aylık Ücret\",\n",
    "               \"TotalCharges\":\"Toplam Ücret\",\n",
    "               \"Churn\":\"Kayıp Durumu\"}, axis=1)"
   ],
   "metadata": {
    "collapsed": false
   }
  },
  {
   "cell_type": "code",
   "execution_count": 11,
   "outputs": [
    {
     "name": "stdout",
     "output_type": "stream",
     "text": [
      "Cinsiyet\n",
      "object\n",
      "['Female' 'Male']\n",
      "65 Yaş Üstü\n",
      "int64\n",
      "[0 1]\n",
      "Medeni Durum\n",
      "object\n",
      "['Yes' 'No']\n",
      "Bakma Sorumluluğu\n",
      "object\n",
      "['No' 'Yes']\n",
      "Müşteri Olma Süresi(Ay)\n",
      "int64\n",
      "[ 1 34  2 45  8 22 10 28 62 13 16 58 49 25 69 52 71 21 12 30 47 72 17 27\n",
      "  5 46 11 70 63 43 15 60 18 66  9  3 31 50 64 56  7 42 35 48 29 65 38 68\n",
      " 32 55 37 36 41  6  4 33 67 23 57 61 14 20 53 40 59 24 44 19 54 51 26  0\n",
      " 39]\n",
      "Ev Telefonu Aboneliği\n",
      "object\n",
      "['No' 'Yes']\n",
      "Birden Fazla Abonelik Durumu\n",
      "object\n",
      "['No phone service' 'No' 'Yes']\n",
      "İnternet Aboneliği\n",
      "object\n",
      "['DSL' 'Fiber optic' 'No']\n",
      "Güvenlik Hizmeti Aboneliği\n",
      "object\n",
      "['No' 'Yes' 'No internet service']\n",
      "Yedekleme Hizmeti Aboneliği\n",
      "object\n",
      "['Yes' 'No' 'No internet service']\n",
      "Ekipman Güvenlik Aboneliği\n",
      "object\n",
      "['No' 'Yes' 'No internet service']\n",
      "Teknik Destek Aboneliği\n",
      "object\n",
      "['No' 'Yes' 'No internet service']\n",
      "IP Tv Aboneliği\n",
      "object\n",
      "['No' 'Yes' 'No internet service']\n",
      "Film Abonelği\n",
      "object\n",
      "['No' 'Yes' 'No internet service']\n",
      "Sözleşme Süresi\n",
      "object\n",
      "['Month-to-month' 'One year' 'Two year']\n",
      "Online Fatura(Kağıtsız)\n",
      "object\n",
      "['Yes' 'No']\n",
      "Ödeme Şekli\n",
      "object\n",
      "['Electronic check' 'Mailed check' 'Bank transfer (automatic)'\n",
      " 'Credit card (automatic)']\n",
      "Aylık Ücret\n",
      "float64\n",
      "[29.85 56.95 53.85 ... 63.1  44.2  78.7 ]\n",
      "Toplam Ücret\n",
      "object\n",
      "['29.85' '1889.5' '108.15' ... '346.45' '306.6' '6844.5']\n",
      "Kayıp Durumu\n",
      "object\n",
      "['No' 'Yes']\n"
     ]
    }
   ],
   "source": [
    "for i in df.columns:\n",
    "    print(i)\n",
    "    print(df[i].dtypes)\n",
    "    print(df[i].unique())"
   ],
   "metadata": {
    "collapsed": false
   }
  },
  {
   "cell_type": "code",
   "execution_count": 12,
   "outputs": [],
   "source": [
    "df[\"Cinsiyet\"]=[\"Erkek\" if kod==\"Male\" else \"Kadın\" for kod in df[\"Cinsiyet\"]]\n",
    "df[\"65 Yaş Üstü\"]=[\"Evet\" if kod==1 else \"Hayır\" for kod in df[\"65 Yaş Üstü\"]]\n",
    "df[\"Medeni Durum\"]=[\"Evli\" if kod==\"Yes\" else \"Bekar\" for kod in df[\"Medeni Durum\"]]\n",
    "df[\"Bakma Sorumluluğu\"]=[\"Var\" if kod==\"Yes\" else \"Yok\" for kod in df[\"Bakma Sorumluluğu\"]]\n",
    "df[\"Ev Telefonu Aboneliği\"]=[\"Var\" if kod==\"Yes\" else \"Yok\" for kod in df[\"Ev Telefonu Aboneliği\"]]\n",
    "df[\"Birden Fazla Abonelik Durumu\"]=[\"Var\" if kod==\"Yes\" else \"Yok\" if kod==\"No\" else \"Telefon Hizmeti Yok\" for kod in df[\"Birden Fazla Abonelik Durumu\"]]\n",
    "df[\"İnternet Aboneliği\"]=[\"Yok\" if kod==\"No\" else \"DSL\" if kod==\"DSL\" else \"Fiber Optik\" for kod in df[\"İnternet Aboneliği\"]]\n",
    "df[\"Güvenlik Hizmeti Aboneliği\"]=[\"Var\" if kod==\"Yes\" else \"Yok\" if kod==\"No\" else \"Internet Hizmeti Yok\" for kod in df[\"Güvenlik Hizmeti Aboneliği\"]]\n",
    "df[\"Yedekleme Hizmeti Aboneliği\"]=[\"Var\" if kod==\"Yes\" else \"Yok\" if kod==\"No\" else \"Internet Hizmeti Yok\" for kod in df[\"Yedekleme Hizmeti Aboneliği\"]]\n",
    "df[\"Ekipman Güvenlik Aboneliği\"]=[\"Var\" if kod==\"Yes\" else \"Yok\" if kod==\"No\" else \"Internet Hizmeti Yok\" for kod in df[\"Ekipman Güvenlik Aboneliği\"]]\n",
    "df[\"Teknik Destek Aboneliği\"]=[\"Var\" if kod==\"Yes\" else \"Yok\" if kod==\"No\" else \"Internet Hizmeti Yok\" for kod in df[\"Teknik Destek Aboneliği\"]]\n",
    "df[\"IP Tv Aboneliği\"]=[\"Var\" if kod==\"Yes\" else \"Yok\" if kod==\"No\" else \"Internet Hizmeti Yok\" for kod in df[\"IP Tv Aboneliği\"]]\n",
    "df[\"Film Abonelği\"]=[\"Var\" if kod==\"Yes\" else \"Yok\" if kod==\"No\" else \"Internet Hizmeti Yok\" for kod in df[\"Film Abonelği\"]]\n",
    "df[\"Sözleşme Süresi\"]=[\"1 Aylık\" if kod==\"Month-to-month\" else \"1 Yıllık\" if kod==\"One year\" else \"2 Yıllık\" for kod in df[\"Sözleşme Süresi\"]]\n",
    "df[\"Online Fatura(Kağıtsız)\"]=[\"Evet\" if kod==\"Yes\" else \"Hayır\" for kod in df[\"Online Fatura(Kağıtsız)\"]]\n",
    "df[\"Ödeme Şekli\"]=[\"Elektronik\" if kod==\"Electronic check\" else \"Mail\" if kod==\"Mailed check\" else \"Havale\" if kod ==\"Bank transfer (automatic)\" else \"Kredi Kartı\" for kod in df[\"Ödeme Şekli\"]]\n",
    "df[\"Kayıp Durumu\"]=[\"Var\" if kod==\"Yes\" else \"Yok\" for kod in df[\"Kayıp Durumu\"]]"
   ],
   "metadata": {
    "collapsed": false
   }
  },
  {
   "cell_type": "code",
   "execution_count": 13,
   "outputs": [
    {
     "name": "stdout",
     "output_type": "stream",
     "text": [
      "Cinsiyet\n",
      "['Kadın' 'Erkek']\n",
      "65 Yaş Üstü\n",
      "['Hayır' 'Evet']\n",
      "Medeni Durum\n",
      "['Evli' 'Bekar']\n",
      "Bakma Sorumluluğu\n",
      "['Yok' 'Var']\n",
      "Müşteri Olma Süresi(Ay)\n",
      "[ 1 34  2 45  8 22 10 28 62 13 16 58 49 25 69 52 71 21 12 30 47 72 17 27\n",
      "  5 46 11 70 63 43 15 60 18 66  9  3 31 50 64 56  7 42 35 48 29 65 38 68\n",
      " 32 55 37 36 41  6  4 33 67 23 57 61 14 20 53 40 59 24 44 19 54 51 26  0\n",
      " 39]\n",
      "Ev Telefonu Aboneliği\n",
      "['Yok' 'Var']\n",
      "Birden Fazla Abonelik Durumu\n",
      "['Telefon Hizmeti Yok' 'Yok' 'Var']\n",
      "İnternet Aboneliği\n",
      "['DSL' 'Fiber Optik' 'Yok']\n",
      "Güvenlik Hizmeti Aboneliği\n",
      "['Yok' 'Var' 'Internet Hizmeti Yok']\n",
      "Yedekleme Hizmeti Aboneliği\n",
      "['Var' 'Yok' 'Internet Hizmeti Yok']\n",
      "Ekipman Güvenlik Aboneliği\n",
      "['Yok' 'Var' 'Internet Hizmeti Yok']\n",
      "Teknik Destek Aboneliği\n",
      "['Yok' 'Var' 'Internet Hizmeti Yok']\n",
      "IP Tv Aboneliği\n",
      "['Yok' 'Var' 'Internet Hizmeti Yok']\n",
      "Film Abonelği\n",
      "['Yok' 'Var' 'Internet Hizmeti Yok']\n",
      "Sözleşme Süresi\n",
      "['1 Aylık' '1 Yıllık' '2 Yıllık']\n",
      "Online Fatura(Kağıtsız)\n",
      "['Evet' 'Hayır']\n",
      "Ödeme Şekli\n",
      "['Elektronik' 'Mail' 'Havale' 'Kredi Kartı']\n",
      "Aylık Ücret\n",
      "[29.85 56.95 53.85 ... 63.1  44.2  78.7 ]\n",
      "Toplam Ücret\n",
      "['29.85' '1889.5' '108.15' ... '346.45' '306.6' '6844.5']\n",
      "Kayıp Durumu\n",
      "['Yok' 'Var']\n"
     ]
    }
   ],
   "source": [
    "print_unique_values(df)"
   ],
   "metadata": {
    "collapsed": false
   }
  },
  {
   "cell_type": "code",
   "execution_count": 14,
   "outputs": [],
   "source": [
    "df[\"Toplam Ücret\"] = pd.to_numeric(df[\"Toplam Ücret\"], errors=\"coerce\")"
   ],
   "metadata": {
    "collapsed": false
   }
  },
  {
   "cell_type": "code",
   "execution_count": 15,
   "outputs": [
    {
     "name": "stdout",
     "output_type": "stream",
     "text": [
      "<class 'pandas.core.frame.DataFrame'>\n",
      "RangeIndex: 7043 entries, 0 to 7042\n",
      "Data columns (total 20 columns):\n",
      " #   Column                        Non-Null Count  Dtype  \n",
      "---  ------                        --------------  -----  \n",
      " 0   Cinsiyet                      7043 non-null   object \n",
      " 1   65 Yaş Üstü                   7043 non-null   object \n",
      " 2   Medeni Durum                  7043 non-null   object \n",
      " 3   Bakma Sorumluluğu             7043 non-null   object \n",
      " 4   Müşteri Olma Süresi(Ay)       7043 non-null   int64  \n",
      " 5   Ev Telefonu Aboneliği         7043 non-null   object \n",
      " 6   Birden Fazla Abonelik Durumu  7043 non-null   object \n",
      " 7   İnternet Aboneliği            7043 non-null   object \n",
      " 8   Güvenlik Hizmeti Aboneliği    7043 non-null   object \n",
      " 9   Yedekleme Hizmeti Aboneliği   7043 non-null   object \n",
      " 10  Ekipman Güvenlik Aboneliği    7043 non-null   object \n",
      " 11  Teknik Destek Aboneliği       7043 non-null   object \n",
      " 12  IP Tv Aboneliği               7043 non-null   object \n",
      " 13  Film Abonelği                 7043 non-null   object \n",
      " 14  Sözleşme Süresi               7043 non-null   object \n",
      " 15  Online Fatura(Kağıtsız)       7043 non-null   object \n",
      " 16  Ödeme Şekli                   7043 non-null   object \n",
      " 17  Aylık Ücret                   7043 non-null   float64\n",
      " 18  Toplam Ücret                  7032 non-null   float64\n",
      " 19  Kayıp Durumu                  7043 non-null   object \n",
      "dtypes: float64(2), int64(1), object(17)\n",
      "memory usage: 1.1+ MB\n"
     ]
    }
   ],
   "source": [
    "df.info()"
   ],
   "metadata": {
    "collapsed": false
   }
  },
  {
   "cell_type": "code",
   "execution_count": 16,
   "outputs": [],
   "source": [
    "df.to_csv(\"D:\\SERKAN KIZILIRMAK\\Python\\AllProjects\\Müşteri Kayıp Analizi (TelcoCustomer)\\Data\\TelcoCustomer(TR).csv\", index=False)"
   ],
   "metadata": {
    "collapsed": false
   }
  }
 ],
 "metadata": {
  "kernelspec": {
   "display_name": "Python 3",
   "language": "python",
   "name": "python3"
  },
  "language_info": {
   "codemirror_mode": {
    "name": "ipython",
    "version": 2
   },
   "file_extension": ".py",
   "mimetype": "text/x-python",
   "name": "python",
   "nbconvert_exporter": "python",
   "pygments_lexer": "ipython2",
   "version": "2.7.6"
  }
 },
 "nbformat": 4,
 "nbformat_minor": 0
}
